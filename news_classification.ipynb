{
 "cells": [
  {
   "cell_type": "code",
   "execution_count": 28,
   "metadata": {},
   "outputs": [
    {
     "name": "stderr",
     "output_type": "stream",
     "text": [
      "[nltk_data] Error loading stopwords: <urlopen error [Errno 11001]\n",
      "[nltk_data]     getaddrinfo failed>\n"
     ]
    }
   ],
   "source": [
    " #Importing Libraries\n",
    "import pandas as pd\n",
    "import matplotlib.pyplot as plt\n",
    "import string\n",
    "import numpy as np\n",
    "import re\n",
    "import time\n",
    "import nltk\n",
    "nltk.download('stopwords')\n",
    "from nltk.corpus import stopwords\n",
    "from pathlib import Path\n",
    "#from sklearn.model_selection import cross_val_predict\n",
    "from sklearn.svm import SVC\n",
    "from sklearn.metrics import accuracy_score,classification_report, roc_auc_score\n",
    "from sklearn.metrics import confusion_matrix, ConfusionMatrixDisplay\n",
    "from sklearn.feature_extraction.text import TfidfVectorizer\n",
    "from sklearn.pipeline import Pipeline\n",
    "from sklearn.model_selection import GridSearchCV"
   ]
  },
  {
   "cell_type": "code",
   "execution_count": 29,
   "metadata": {},
   "outputs": [],
   "source": [
    "train_path = Path('data','train.csv') \n",
    "test_path = Path('data', 'valid.csv')"
   ]
  },
  {
   "cell_type": "code",
   "execution_count": 30,
   "metadata": {},
   "outputs": [
    {
     "data": {
      "text/html": [
       "<div>\n",
       "<style scoped>\n",
       "    .dataframe tbody tr th:only-of-type {\n",
       "        vertical-align: middle;\n",
       "    }\n",
       "\n",
       "    .dataframe tbody tr th {\n",
       "        vertical-align: top;\n",
       "    }\n",
       "\n",
       "    .dataframe thead th {\n",
       "        text-align: right;\n",
       "    }\n",
       "</style>\n",
       "<table border=\"1\" class=\"dataframe\">\n",
       "  <thead>\n",
       "    <tr style=\"text-align: right;\">\n",
       "      <th></th>\n",
       "      <th>ArticleId</th>\n",
       "      <th>Text</th>\n",
       "      <th>Category</th>\n",
       "    </tr>\n",
       "  </thead>\n",
       "  <tbody>\n",
       "    <tr>\n",
       "      <th>0</th>\n",
       "      <td>1155</td>\n",
       "      <td>chancellor rallies labour voters gordon brown ...</td>\n",
       "      <td>politics</td>\n",
       "    </tr>\n",
       "    <tr>\n",
       "      <th>1</th>\n",
       "      <td>1980</td>\n",
       "      <td>india s maruti sees profits jump india s bigge...</td>\n",
       "      <td>business</td>\n",
       "    </tr>\n",
       "    <tr>\n",
       "      <th>2</th>\n",
       "      <td>386</td>\n",
       "      <td>ukip s secret weapon  by any measure  new york...</td>\n",
       "      <td>politics</td>\n",
       "    </tr>\n",
       "    <tr>\n",
       "      <th>3</th>\n",
       "      <td>1436</td>\n",
       "      <td>banker loses sexism claim a former executive a...</td>\n",
       "      <td>business</td>\n",
       "    </tr>\n",
       "    <tr>\n",
       "      <th>4</th>\n",
       "      <td>304</td>\n",
       "      <td>dallaglio eyeing lions tour place former engla...</td>\n",
       "      <td>sport</td>\n",
       "    </tr>\n",
       "  </tbody>\n",
       "</table>\n",
       "</div>"
      ],
      "text/plain": [
       "   ArticleId                                               Text  Category\n",
       "0       1155  chancellor rallies labour voters gordon brown ...  politics\n",
       "1       1980  india s maruti sees profits jump india s bigge...  business\n",
       "2        386  ukip s secret weapon  by any measure  new york...  politics\n",
       "3       1436  banker loses sexism claim a former executive a...  business\n",
       "4        304  dallaglio eyeing lions tour place former engla...     sport"
      ]
     },
     "execution_count": 30,
     "metadata": {},
     "output_type": "execute_result"
    }
   ],
   "source": [
    "train_df = pd.read_csv(train_path)\n",
    "test_df = pd.read_csv(test_path)\n",
    "train_df.head(5)"
   ]
  },
  {
   "cell_type": "code",
   "execution_count": 31,
   "metadata": {},
   "outputs": [
    {
     "data": {
      "text/plain": [
       "(1043, 3)"
      ]
     },
     "execution_count": 31,
     "metadata": {},
     "output_type": "execute_result"
    }
   ],
   "source": [
    "train_df.shape"
   ]
  },
  {
   "cell_type": "code",
   "execution_count": 32,
   "metadata": {},
   "outputs": [
    {
     "name": "stdout",
     "output_type": "stream",
     "text": [
      "<class 'pandas.core.frame.DataFrame'>\n",
      "RangeIndex: 1043 entries, 0 to 1042\n",
      "Data columns (total 3 columns):\n",
      " #   Column     Non-Null Count  Dtype \n",
      "---  ------     --------------  ----- \n",
      " 0   ArticleId  1043 non-null   int64 \n",
      " 1   Text       1043 non-null   object\n",
      " 2   Category   1043 non-null   object\n",
      "dtypes: int64(1), object(2)\n",
      "memory usage: 24.6+ KB\n"
     ]
    }
   ],
   "source": [
    "train_df.info()"
   ]
  },
  {
   "cell_type": "code",
   "execution_count": 33,
   "metadata": {},
   "outputs": [
    {
     "data": {
      "text/plain": [
       "ArticleId    0\n",
       "Text         0\n",
       "Category     0\n",
       "dtype: int64"
      ]
     },
     "execution_count": 33,
     "metadata": {},
     "output_type": "execute_result"
    }
   ],
   "source": [
    "train_df.isnull().sum()"
   ]
  },
  {
   "cell_type": "code",
   "execution_count": 34,
   "metadata": {},
   "outputs": [
    {
     "data": {
      "text/plain": [
       "['politics', 'business', 'sport', 'entertainment', 'tech']"
      ]
     },
     "execution_count": 34,
     "metadata": {},
     "output_type": "execute_result"
    }
   ],
   "source": [
    "target_names = train_df['Category'].unique().tolist()\n",
    "target_names"
   ]
  },
  {
   "cell_type": "code",
   "execution_count": 35,
   "metadata": {},
   "outputs": [
    {
     "name": "stdout",
     "output_type": "stream",
     "text": [
      "chancellor rallies labour voters gordon brown has issued a rallying cry to supporters  warning the  stakes are too high  to stay at home or protest vote in the next general election.  the chancellor said the poll - expected to fall on 5 may - would give a  clear and fundamental  choice between labour investment and tory cuts. he told his party s spring conference the tories must not be allowed to win. the conservatives and lib dems insisted that voters faced higher taxes and means-testing under labour.  to a packed audience at gateshead s sage centre  mr brown accused shadow chancellor oliver letwin of plotting cuts that were the equivalent of sacking every teacher  gp and nurse in the country. laying into the conservative s record in government he said:  i give you this promise - with labour  britain will never return to the mistakes of erm and 10% inflation  15% interest rates  £3bn in lost reserves  250 000 repossessed  one million in negative equity and three million unemployed.  never again tory boom and bust.   this will be the central dividing line at the election  between a conservative party taking britain back and planning deep cuts of £35bn in our services  and a labour government taking britain forward  which on a platform of stability will reform and renew our hospitals  schools and public services and  i am proud to say  spend by 2008 £60bn more.  turning to the economy  the chancellor promised to continue economic stability and growth in a third term in power.  he also pledged to continue the fight against child and pensioner poverty. and he promised help to get young people on the property ladder.  my message to the thousands of young couples waiting to obtain their first home is that housing is rightly now at the centre of our coming manifesto   he said.  and the next labour government will match our low mortgage rates with a new first-time buyers  initiative.  in the speech  which prompted a standing ovation  he also promised to end teenage unemployment within the next five years.  he also highlighted plans for 100% debt relief for the world s poorest countries  a national minimum wage for 16 and 17-year-olds  the creation of a network of children s centres and flexibility in maternity leave. responding to the speech  shadow chief secretary to the treasury  george osborne  said:  this was more talk from gordon brown.  we ve heard it all before. instead of talking about the future he kept on talking about the past.  he completely failed to say which taxes he would put up to fill the black hole in his spending plans.  there will be a simple choice at the election - value for money and lower taxes with the conservatives  or more waste and higher taxes under tony blair and gordon brown.   liberal democrat shadow chancellor vince cable warned the picture was not as rosy as mr brown would like to portray it.  for all his trumpeting of labour s management of the economy  gordon brown s record is very mixed   he said.  gordon brown has created a system of massive centralisation and bureaucracy  a system which subjects millions of people to means testing  and a system of taxation which is extremely complex.  for all his positive words  gordon brown is faced with economic problems looming on the horizon  not least the unprecedented levels of personal debt facing the nation.  also in gateshead  the prime minister took questions sent in by e-mail  text message and telephone as part of labour s attempt to engage the public in their campaign. mr blair told the audience he believed the iraq war would have made britain a safer place if its emerging democracy succeeded and that he wanted to bring troops home as soon as possible  but not before the job was done. he also said he wanted to carry on as pm  because i still think that there are big changes our country needs .\n",
      "lib dems  new election pr chief the lib dems have appointed a senior figure from bt to be the party s new communications chief for their next general election effort.  sandy walkington will now work with senior figures such as matthew taylor on completing the party manifesto. party chief executive lord rennard said the appointment was a  significant strengthening of the lib dem team . mr walkington said he wanted the party to be ready for any  mischief  rivals or the media tried to throw at it.   my role will be to ensure this new public profile is effectively communicated at all levels   he said.  i also know the party will be put under scrutiny in the media and from the other parties as never before - and we will need to show ourselves ready and prepared to counter the mischief and misrepresentation that all too often comes from the party s opponents.  the party is already demonstrating on every issue that it is the effective opposition.  mr walkington s new job title is director of general election communications.\n",
      "dublin hi-tech labs to shut down dublin s hi-tech research laboratory  media labs europe  is to shut down.  the research centre  which was started by the irish government and the massachusetts institute of technology  was a hotbed for technology concepts. since its opening in 2000  the centre has developed ideas  such as implants for teeth  and also aimed to be a digital hub for start-ups in the area. the centre was supposed to be self-funded  but has failed to attract the private cash injection it needs. in a statement  media labs europe said the decision to close was taken because neither the irish government nor the prestigious us-based massachusetts institute of technology (mit) was willing to fund it. prime minister bertie ahern had wanted to the centre to become a big draw for smaller hi-tech companies  in an attempt to regenerate the area.  about three dozen small firms were attracted to the area  but it is thought the effects of the dot.com recession damaged the labs  long-term survival. the labs needed about 10 million euros (us$13 million) a year from corporate sponsors to survive.  in the end  it was too deep and too long a recession   said simon jones  the labs  managing director. ian pearson  bt s futurologist  told the bbc news website that the closure was a  real shame . bt was just one of the companies that had worked with the labs  looking at rfid tag developments and video conferencing.  there were a lot of very talented  creative people there and they came up with some great ideas that were helping to ensure greater benefits of technology for society.  i have no doubt that the individuals will be quickly snapped up by other research labs  but the synergies from them working as a team will be lost.   noel dempsey  the government s communications minister  said mr ahern had been  very committed  to the project.  he is  i know  very disappointed it has come to this. at the time it seemed to be the right thing to do   he said.  unfortunately the model is not a sustainable one in the current climate.   during its five years  innovative and some unusual ideas for technologies were developed. in recent months  14 patent applications had been filed by the labs. many concepts fed into science  engineering  and psychology as well as technology  but it is thought too few of the ideas were commercially viable in the near-term. several research teams explored how which humans could react with technologies in ways which were entirely different. the human connectedness group  for example  developed the iband  a bracelet which stored and exchanged information about you and your relationships. this information could be beamed to another wearer when two people shook hands. other projects looked at using other human senses  like touch  to interact with devoices which could be embedded in the environment  or on the body itself. one project examined how brainwaves could directly control a computer game. the labs  set up in an old guinness brewery  housed around 100 people  made up of staff  researchers  students  collaborators and part-time undergraduate students. it is thought more than 50 people will lose their jobs when the labs close on 1 february. according to its latest accounts  media lab europe said it spent 8.16 million euros (about us$10.6 million) in 2003 and raised just 2.56 million euros (us$3.3 million).\n"
     ]
    }
   ],
   "source": [
    "print(train_df.iloc[0,1])\n",
    "print(train_df.iloc[30,1])\n",
    "print(train_df.iloc[245,1])"
   ]
  },
  {
   "cell_type": "code",
   "execution_count": 36,
   "metadata": {},
   "outputs": [
    {
     "data": {
      "image/png": "[encoded data removed]",
      "text/plain": [
       "<Figure size 800x550 with 1 Axes>"
      ]
     },
     "metadata": {},
     "output_type": "display_data"
    },
    {
     "data": {
      "text/plain": [
       "<Axes: title={'center': 'Class Balance for 1,043 Instances'}, ylabel='support'>"
      ]
     },
     "execution_count": 36,
     "metadata": {},
     "output_type": "execute_result"
    }
   ],
   "source": [
    "from yellowbrick.target import ClassBalance\n",
    "viz = ClassBalance()\n",
    "viz.fit(train_df['Category'])\n",
    "viz.show()"
   ]
  },
  {
   "cell_type": "code",
   "execution_count": 37,
   "metadata": {},
   "outputs": [
    {
     "name": "stdout",
     "output_type": "stream",
     "text": [
      "Total no of politics_is 196\n",
      "Total no of business_is 235\n",
      "Total no of sport_is 250\n",
      "Total no of entertainment_is 178\n",
      "Total no of tech_is 184\n"
     ]
    }
   ],
   "source": [
    "counts = train_df['Category'].value_counts()\n",
    "for col in target_names:\n",
    "    col_sum = counts[col]\n",
    "    print(f'Total no of {col}_is {col_sum}')"
   ]
  },
  {
   "attachments": {},
   "cell_type": "markdown",
   "metadata": {},
   "source": [
    "## CLEANING"
   ]
  },
  {
   "cell_type": "code",
   "execution_count": 38,
   "metadata": {},
   "outputs": [],
   "source": [
    "def preprocessor(text):\n",
    "    '''\n",
    "    explain func\n",
    "    '''\n",
    "    text = text.lower() #Lowers  the text\n",
    "    text = re.sub('<[^>]*>', '', text) # removes HTML Markup\n",
    "    text = re.sub(r'[^a-zA-Z\\s]', '', text) # removes special characters and digits\n",
    "    stop_words = set(stopwords.words('english'))\n",
    "    text = [word for word in text.split() if word not in stop_words and word not in string.punctuation] #removes stopwords\n",
    "    text = ' '.join(word for word in text)\n",
    "    return text"
   ]
  },
  {
   "cell_type": "code",
   "execution_count": 39,
   "metadata": {},
   "outputs": [
    {
     "data": {
      "text/plain": [
       "'chancellor rallies labour voters gordon brown issued rallying cry supporters warning stakes high stay home protest vote next general election chancellor said poll expected fall may would give clear fundamental choice labour investment tory cuts told party spring conference tories must allowed win conservatives lib dems insisted voters faced higher taxes meanstesting labour packed audience gateshead sage centre mr brown accused shadow chancellor oliver letwin plotting cuts equivalent sacking every teacher gp nurse country laying conservative record government said give promise labour britain never return mistakes erm inflation interest rates bn lost reserves repossessed one million negative equity three million unemployed never tory boom bust central dividing line election conservative party taking britain back planning deep cuts bn services labour government taking britain forward platform stability reform renew hospitals schools public services proud say spend bn turning economy chancellor promised continue economic stability growth third term power also pledged continue fight child pensioner poverty promised help get young people property ladder message thousands young couples waiting obtain first home housing rightly centre coming manifesto said next labour government match low mortgage rates new firsttime buyers initiative speech prompted standing ovation also promised end teenage unemployment within next five years also highlighted plans debt relief world poorest countries national minimum wage yearolds creation network children centres flexibility maternity leave responding speech shadow chief secretary treasury george osborne said talk gordon brown heard instead talking future kept talking past completely failed say taxes would put fill black hole spending plans simple choice election value money lower taxes conservatives waste higher taxes tony blair gordon brown liberal democrat shadow chancellor vince cable warned picture rosy mr brown would like portray trumpeting labour management economy gordon brown record mixed said gordon brown created system massive centralisation bureaucracy system subjects millions people means testing system taxation extremely complex positive words gordon brown faced economic problems looming horizon least unprecedented levels personal debt facing nation also gateshead prime minister took questions sent email text message telephone part labour attempt engage public campaign mr blair told audience believed iraq war would made britain safer place emerging democracy succeeded wanted bring troops home soon possible job done also said wanted carry pm still think big changes country needs'"
      ]
     },
     "execution_count": 39,
     "metadata": {},
     "output_type": "execute_result"
    }
   ],
   "source": [
    "train_df['Text'] = train_df['Text'].apply(preprocessor)\n",
    "train_df.loc[0,'Text']"
   ]
  },
  {
   "cell_type": "code",
   "execution_count": 40,
   "metadata": {},
   "outputs": [],
   "source": [
    "x_train = train_df['Text']\n",
    "y_train = train_df['Category']"
   ]
  },
  {
   "cell_type": "code",
   "execution_count": 41,
   "metadata": {},
   "outputs": [
    {
     "name": "stdout",
     "output_type": "stream",
     "text": [
      "(1043, 3085)\n"
     ]
    },
    {
     "data": {
      "text/html": [
       "<div>\n",
       "<style scoped>\n",
       "    .dataframe tbody tr th:only-of-type {\n",
       "        vertical-align: middle;\n",
       "    }\n",
       "\n",
       "    .dataframe tbody tr th {\n",
       "        vertical-align: top;\n",
       "    }\n",
       "\n",
       "    .dataframe thead th {\n",
       "        text-align: right;\n",
       "    }\n",
       "</style>\n",
       "<table border=\"1\" class=\"dataframe\">\n",
       "  <thead>\n",
       "    <tr style=\"text-align: right;\">\n",
       "      <th></th>\n",
       "      <th>ability</th>\n",
       "      <th>able</th>\n",
       "      <th>abroad</th>\n",
       "      <th>absence</th>\n",
       "      <th>absolutely</th>\n",
       "      <th>abuse</th>\n",
       "      <th>academy</th>\n",
       "      <th>accept</th>\n",
       "      <th>accepted</th>\n",
       "      <th>access</th>\n",
       "      <th>...</th>\n",
       "      <th>years</th>\n",
       "      <th>yen</th>\n",
       "      <th>yes</th>\n",
       "      <th>yet</th>\n",
       "      <th>york</th>\n",
       "      <th>young</th>\n",
       "      <th>younger</th>\n",
       "      <th>yukos</th>\n",
       "      <th>zealand</th>\n",
       "      <th>zero</th>\n",
       "    </tr>\n",
       "  </thead>\n",
       "  <tbody>\n",
       "    <tr>\n",
       "      <th>0</th>\n",
       "      <td>0.0</td>\n",
       "      <td>0.0</td>\n",
       "      <td>0.0</td>\n",
       "      <td>0.0</td>\n",
       "      <td>0.0</td>\n",
       "      <td>0.0</td>\n",
       "      <td>0.0</td>\n",
       "      <td>0.0</td>\n",
       "      <td>0.0</td>\n",
       "      <td>0.0</td>\n",
       "      <td>...</td>\n",
       "      <td>0.023486</td>\n",
       "      <td>0.0</td>\n",
       "      <td>0.0</td>\n",
       "      <td>0.0</td>\n",
       "      <td>0.0</td>\n",
       "      <td>0.07663</td>\n",
       "      <td>0.0</td>\n",
       "      <td>0.0</td>\n",
       "      <td>0.000000</td>\n",
       "      <td>0.0</td>\n",
       "    </tr>\n",
       "    <tr>\n",
       "      <th>1</th>\n",
       "      <td>0.0</td>\n",
       "      <td>0.0</td>\n",
       "      <td>0.0</td>\n",
       "      <td>0.0</td>\n",
       "      <td>0.0</td>\n",
       "      <td>0.0</td>\n",
       "      <td>0.0</td>\n",
       "      <td>0.0</td>\n",
       "      <td>0.0</td>\n",
       "      <td>0.0</td>\n",
       "      <td>...</td>\n",
       "      <td>0.000000</td>\n",
       "      <td>0.0</td>\n",
       "      <td>0.0</td>\n",
       "      <td>0.0</td>\n",
       "      <td>0.0</td>\n",
       "      <td>0.00000</td>\n",
       "      <td>0.0</td>\n",
       "      <td>0.0</td>\n",
       "      <td>0.000000</td>\n",
       "      <td>0.0</td>\n",
       "    </tr>\n",
       "    <tr>\n",
       "      <th>2</th>\n",
       "      <td>0.0</td>\n",
       "      <td>0.0</td>\n",
       "      <td>0.0</td>\n",
       "      <td>0.0</td>\n",
       "      <td>0.0</td>\n",
       "      <td>0.0</td>\n",
       "      <td>0.0</td>\n",
       "      <td>0.0</td>\n",
       "      <td>0.0</td>\n",
       "      <td>0.0</td>\n",
       "      <td>...</td>\n",
       "      <td>0.000000</td>\n",
       "      <td>0.0</td>\n",
       "      <td>0.0</td>\n",
       "      <td>0.0</td>\n",
       "      <td>0.0</td>\n",
       "      <td>0.00000</td>\n",
       "      <td>0.0</td>\n",
       "      <td>0.0</td>\n",
       "      <td>0.000000</td>\n",
       "      <td>0.0</td>\n",
       "    </tr>\n",
       "    <tr>\n",
       "      <th>3</th>\n",
       "      <td>0.0</td>\n",
       "      <td>0.0</td>\n",
       "      <td>0.0</td>\n",
       "      <td>0.0</td>\n",
       "      <td>0.0</td>\n",
       "      <td>0.0</td>\n",
       "      <td>0.0</td>\n",
       "      <td>0.0</td>\n",
       "      <td>0.0</td>\n",
       "      <td>0.0</td>\n",
       "      <td>...</td>\n",
       "      <td>0.035921</td>\n",
       "      <td>0.0</td>\n",
       "      <td>0.0</td>\n",
       "      <td>0.0</td>\n",
       "      <td>0.0</td>\n",
       "      <td>0.00000</td>\n",
       "      <td>0.0</td>\n",
       "      <td>0.0</td>\n",
       "      <td>0.000000</td>\n",
       "      <td>0.0</td>\n",
       "    </tr>\n",
       "    <tr>\n",
       "      <th>4</th>\n",
       "      <td>0.0</td>\n",
       "      <td>0.0</td>\n",
       "      <td>0.0</td>\n",
       "      <td>0.0</td>\n",
       "      <td>0.0</td>\n",
       "      <td>0.0</td>\n",
       "      <td>0.0</td>\n",
       "      <td>0.0</td>\n",
       "      <td>0.0</td>\n",
       "      <td>0.0</td>\n",
       "      <td>...</td>\n",
       "      <td>0.047386</td>\n",
       "      <td>0.0</td>\n",
       "      <td>0.0</td>\n",
       "      <td>0.0</td>\n",
       "      <td>0.0</td>\n",
       "      <td>0.00000</td>\n",
       "      <td>0.0</td>\n",
       "      <td>0.0</td>\n",
       "      <td>0.105149</td>\n",
       "      <td>0.0</td>\n",
       "    </tr>\n",
       "  </tbody>\n",
       "</table>\n",
       "<p>5 rows × 3085 columns</p>\n",
       "</div>"
      ],
      "text/plain": [
       "   ability  able  abroad  absence  absolutely  abuse  academy  accept  \\\n",
       "0      0.0   0.0     0.0      0.0         0.0    0.0      0.0     0.0   \n",
       "1      0.0   0.0     0.0      0.0         0.0    0.0      0.0     0.0   \n",
       "2      0.0   0.0     0.0      0.0         0.0    0.0      0.0     0.0   \n",
       "3      0.0   0.0     0.0      0.0         0.0    0.0      0.0     0.0   \n",
       "4      0.0   0.0     0.0      0.0         0.0    0.0      0.0     0.0   \n",
       "\n",
       "   accepted  access  ...     years  yen  yes  yet  york    young  younger  \\\n",
       "0       0.0     0.0  ...  0.023486  0.0  0.0  0.0   0.0  0.07663      0.0   \n",
       "1       0.0     0.0  ...  0.000000  0.0  0.0  0.0   0.0  0.00000      0.0   \n",
       "2       0.0     0.0  ...  0.000000  0.0  0.0  0.0   0.0  0.00000      0.0   \n",
       "3       0.0     0.0  ...  0.035921  0.0  0.0  0.0   0.0  0.00000      0.0   \n",
       "4       0.0     0.0  ...  0.047386  0.0  0.0  0.0   0.0  0.00000      0.0   \n",
       "\n",
       "   yukos   zealand  zero  \n",
       "0    0.0  0.000000   0.0  \n",
       "1    0.0  0.000000   0.0  \n",
       "2    0.0  0.000000   0.0  \n",
       "3    0.0  0.000000   0.0  \n",
       "4    0.0  0.105149   0.0  \n",
       "\n",
       "[5 rows x 3085 columns]"
      ]
     },
     "execution_count": 41,
     "metadata": {},
     "output_type": "execute_result"
    }
   ],
   "source": [
    "tf_idf_vectorizer = TfidfVectorizer(max_df= 0.8, min_df= 10)\n",
    "x_train_transform = tf_idf_vectorizer.fit_transform(x_train)\n",
    "print(x_train_transform.shape)\n",
    "tfidf_dataframe = pd.DataFrame(x_train_transform.toarray(), columns=tf_idf_vectorizer.get_feature_names_out())\n",
    "tfidf_dataframe.head()"
   ]
  },
  {
   "attachments": {},
   "cell_type": "markdown",
   "metadata": {},
   "source": [
    "### Modelling"
   ]
  },
  {
   "cell_type": "code",
   "execution_count": 42,
   "metadata": {},
   "outputs": [
    {
     "data": {
      "image/png": "[encoded data removed]",
      "text/plain": [
       "<Figure size 800x550 with 1 Axes>"
      ]
     },
     "metadata": {},
     "output_type": "display_data"
    },
    {
     "data": {
      "text/plain": [
       "<Axes: title={'center': 'Cross Validation Scores for SVC'}, xlabel='Training Instances', ylabel='Score'>"
      ]
     },
     "execution_count": 42,
     "metadata": {},
     "output_type": "execute_result"
    }
   ],
   "source": [
    "from yellowbrick.model_selection import CVScores\n",
    "model = SVC(random_state=10, probability= True)\n",
    "viz = CVScores(model, cv= 5, scoring= \"roc_auc_ovo\")\n",
    "viz.fit(x_train_transform, y_train)\n",
    "viz.show()\n"
   ]
  },
  {
   "cell_type": "code",
   "execution_count": 53,
   "metadata": {},
   "outputs": [],
   "source": [
    "clf = SVC(random_state=10, probability=True)\n",
    "pipe = Pipeline(steps=[(\"tf-idf\", TfidfVectorizer(max_df= 0.8, min_df= 10)), \n",
    "                ('model',clf)])\n"
   ]
  },
  {
   "cell_type": "code",
   "execution_count": 44,
   "metadata": {},
   "outputs": [
    {
     "name": "stdout",
     "output_type": "stream",
     "text": [
      "CPU times: total: 12.1 s\n",
      "Wall time: 14.9 s\n"
     ]
    },
    {
     "data": {
      "text/html": [
       "<style>#sk-container-id-3 {color: black;background-color: white;}#sk-container-id-3 pre{padding: 0;}#sk-container-id-3 div.sk-toggleable {background-color: white;}#sk-container-id-3 label.sk-toggleable__label {cursor: pointer;display: block;width: 100%;margin-bottom: 0;padding: 0.3em;box-sizing: border-box;text-align: center;}#sk-container-id-3 label.sk-toggleable__label-arrow:before {content: \"▸\";float: left;margin-right: 0.25em;color: #696969;}#sk-container-id-3 label.sk-toggleable__label-arrow:hover:before {color: black;}#sk-container-id-3 div.sk-estimator:hover label.sk-toggleable__label-arrow:before {color: black;}#sk-container-id-3 div.sk-toggleable__content {max-height: 0;max-width: 0;overflow: hidden;text-align: left;background-color: #f0f8ff;}#sk-container-id-3 div.sk-toggleable__content pre {margin: 0.2em;color: black;border-radius: 0.25em;background-color: #f0f8ff;}#sk-container-id-3 input.sk-toggleable__control:checked~div.sk-toggleable__content {max-height: 200px;max-width: 100%;overflow: auto;}#sk-container-id-3 input.sk-toggleable__control:checked~label.sk-toggleable__label-arrow:before {content: \"▾\";}#sk-container-id-3 div.sk-estimator input.sk-toggleable__control:checked~label.sk-toggleable__label {background-color: #d4ebff;}#sk-container-id-3 div.sk-label input.sk-toggleable__control:checked~label.sk-toggleable__label {background-color: #d4ebff;}#sk-container-id-3 input.sk-hidden--visually {border: 0;clip: rect(1px 1px 1px 1px);clip: rect(1px, 1px, 1px, 1px);height: 1px;margin: -1px;overflow: hidden;padding: 0;position: absolute;width: 1px;}#sk-container-id-3 div.sk-estimator {font-family: monospace;background-color: #f0f8ff;border: 1px dotted black;border-radius: 0.25em;box-sizing: border-box;margin-bottom: 0.5em;}#sk-container-id-3 div.sk-estimator:hover {background-color: #d4ebff;}#sk-container-id-3 div.sk-parallel-item::after {content: \"\";width: 100%;border-bottom: 1px solid gray;flex-grow: 1;}#sk-container-id-3 div.sk-label:hover label.sk-toggleable__label {background-color: #d4ebff;}#sk-container-id-3 div.sk-serial::before {content: \"\";position: absolute;border-left: 1px solid gray;box-sizing: border-box;top: 0;bottom: 0;left: 50%;z-index: 0;}#sk-container-id-3 div.sk-serial {display: flex;flex-direction: column;align-items: center;background-color: white;padding-right: 0.2em;padding-left: 0.2em;position: relative;}#sk-container-id-3 div.sk-item {position: relative;z-index: 1;}#sk-container-id-3 div.sk-parallel {display: flex;align-items: stretch;justify-content: center;background-color: white;position: relative;}#sk-container-id-3 div.sk-item::before, #sk-container-id-3 div.sk-parallel-item::before {content: \"\";position: absolute;border-left: 1px solid gray;box-sizing: border-box;top: 0;bottom: 0;left: 50%;z-index: -1;}#sk-container-id-3 div.sk-parallel-item {display: flex;flex-direction: column;z-index: 1;position: relative;background-color: white;}#sk-container-id-3 div.sk-parallel-item:first-child::after {align-self: flex-end;width: 50%;}#sk-container-id-3 div.sk-parallel-item:last-child::after {align-self: flex-start;width: 50%;}#sk-container-id-3 div.sk-parallel-item:only-child::after {width: 0;}#sk-container-id-3 div.sk-dashed-wrapped {border: 1px dashed gray;margin: 0 0.4em 0.5em 0.4em;box-sizing: border-box;padding-bottom: 0.4em;background-color: white;}#sk-container-id-3 div.sk-label label {font-family: monospace;font-weight: bold;display: inline-block;line-height: 1.2em;}#sk-container-id-3 div.sk-label-container {text-align: center;}#sk-container-id-3 div.sk-container {/* jupyter's `normalize.less` sets `[hidden] { display: none; }` but bootstrap.min.css set `[hidden] { display: none !important; }` so we also need the `!important` here to be able to override the default hidden behavior on the sphinx rendered scikit-learn.org. See: https://github.com/scikit-learn/scikit-learn/issues/21755 */display: inline-block !important;position: relative;}#sk-container-id-3 div.sk-text-repr-fallback {display: none;}</style><div id=\"sk-container-id-3\" class=\"sk-top-container\"><div class=\"sk-text-repr-fallback\"><pre>Pipeline(steps=[(&#x27;tf-idf&#x27;, TfidfVectorizer(max_df=0.8, min_df=10)),\n",
       "                (&#x27;model&#x27;, SVC(probability=True, random_state=10))])</pre><b>In a Jupyter environment, please rerun this cell to show the HTML representation or trust the notebook. <br />On GitHub, the HTML representation is unable to render, please try loading this page with nbviewer.org.</b></div><div class=\"sk-container\" hidden><div class=\"sk-item sk-dashed-wrapped\"><div class=\"sk-label-container\"><div class=\"sk-label sk-toggleable\"><input class=\"sk-toggleable__control sk-hidden--visually\" id=\"sk-estimator-id-8\" type=\"checkbox\" ><label for=\"sk-estimator-id-8\" class=\"sk-toggleable__label sk-toggleable__label-arrow\">Pipeline</label><div class=\"sk-toggleable__content\"><pre>Pipeline(steps=[(&#x27;tf-idf&#x27;, TfidfVectorizer(max_df=0.8, min_df=10)),\n",
       "                (&#x27;model&#x27;, SVC(probability=True, random_state=10))])</pre></div></div></div><div class=\"sk-serial\"><div class=\"sk-item\"><div class=\"sk-estimator sk-toggleable\"><input class=\"sk-toggleable__control sk-hidden--visually\" id=\"sk-estimator-id-9\" type=\"checkbox\" ><label for=\"sk-estimator-id-9\" class=\"sk-toggleable__label sk-toggleable__label-arrow\">TfidfVectorizer</label><div class=\"sk-toggleable__content\"><pre>TfidfVectorizer(max_df=0.8, min_df=10)</pre></div></div></div><div class=\"sk-item\"><div class=\"sk-estimator sk-toggleable\"><input class=\"sk-toggleable__control sk-hidden--visually\" id=\"sk-estimator-id-10\" type=\"checkbox\" ><label for=\"sk-estimator-id-10\" class=\"sk-toggleable__label sk-toggleable__label-arrow\">SVC</label><div class=\"sk-toggleable__content\"><pre>SVC(probability=True, random_state=10)</pre></div></div></div></div></div></div></div>"
      ],
      "text/plain": [
       "Pipeline(steps=[('tf-idf', TfidfVectorizer(max_df=0.8, min_df=10)),\n",
       "                ('model', SVC(probability=True, random_state=10))])"
      ]
     },
     "execution_count": 44,
     "metadata": {},
     "output_type": "execute_result"
    }
   ],
   "source": [
    "%time pipe.fit(x_train, y_train)"
   ]
  },
  {
   "cell_type": "code",
   "execution_count": 45,
   "metadata": {},
   "outputs": [],
   "source": [
    "#test\n",
    "x_test = test_df['Text'].apply(preprocessor)\n",
    "y_test = test_df['Category']\n",
    "y_pred = pipe.predict(x_test)"
   ]
  },
  {
   "cell_type": "code",
   "execution_count": 46,
   "metadata": {},
   "outputs": [],
   "source": [
    "def model_score(Y_test, Y_pred, Y_pred_prob, classes = None):\n",
    "    print(f'Accuracy Score : {accuracy_score(Y_test, Y_pred)}')\n",
    "    #auc score \n",
    "    print(f'AUC Score : {roc_auc_score(Y_test, Y_pred_prob, multi_class=\"ovr\")}')\n",
    "    cm = confusion_matrix(Y_test, Y_pred, labels= classes)\n",
    "    disp = ConfusionMatrixDisplay(confusion_matrix= cm , display_labels= classes)\n",
    "    fig , ax = plt.subplots(figsize=(6,6))\n",
    "    disp.plot(ax=ax, xticks_rotation= 'vertical')\n",
    "    plt.show()\n"
   ]
  },
  {
   "cell_type": "code",
   "execution_count": 47,
   "metadata": {},
   "outputs": [
    {
     "name": "stdout",
     "output_type": "stream",
     "text": [
      "Accuracy Score : 0.968609865470852\n",
      "AUC Score : 0.9988441198613323\n"
     ]
    },
    {
     "data": {
      "image/png": "[encoded data removed]",
      "text/plain": [
       "<Figure size 600x600 with 2 Axes>"
      ]
     },
     "metadata": {},
     "output_type": "display_data"
    }
   ],
   "source": [
    "y_pred_prob = pipe.predict_proba(x_test)\n",
    "model_score(y_test, y_pred, y_pred_prob, classes = pipe.classes_)"
   ]
  },
  {
   "cell_type": "code",
   "execution_count": 48,
   "metadata": {},
   "outputs": [
    {
     "name": "stdout",
     "output_type": "stream",
     "text": [
      "               precision    recall  f1-score   support\n",
      "\n",
      "     business       0.92      0.98      0.95        45\n",
      "entertainment       0.98      0.98      0.98        47\n",
      "     politics       1.00      0.95      0.97        39\n",
      "        sport       1.00      1.00      1.00        45\n",
      "         tech       0.96      0.94      0.95        47\n",
      "\n",
      "     accuracy                           0.97       223\n",
      "    macro avg       0.97      0.97      0.97       223\n",
      " weighted avg       0.97      0.97      0.97       223\n",
      "\n"
     ]
    }
   ],
   "source": [
    "print(classification_report(y_test, y_pred, labels=pipe.classes_ ))"
   ]
  },
  {
   "attachments": {},
   "cell_type": "markdown",
   "metadata": {},
   "source": [
    "## HYPERTUNNIG GRID"
   ]
  },
  {
   "cell_type": "code",
   "execution_count": 58,
   "metadata": {},
   "outputs": [],
   "source": [
    "#grid search\n",
    "# !pip install string-kernels\n",
    "from stringkernels.kernels import string_kernel, polynomial_string_kernel\n",
    "poly_string_kernel = polynomial_string_kernel()\n",
    "linear_string_kernel = string_kernel()\n",
    "params = {'model__C': [0.1, 1, 10, 100, 1000],\n",
    "          'model__gamma': [1, 0.1, 0.01, 0.001, 0.0001],\n",
    "          'model__kernel': ['rbf', 'poly', linear_string_kernel, poly_string_kernel]}\n",
    "grid_model = GridSearchCV(pipe, params, n_jobs= -1,\n",
    "                          verbose= True)"
   ]
  },
  {
   "cell_type": "code",
   "execution_count": 59,
   "metadata": {},
   "outputs": [
    {
     "data": {
      "text/html": [
       "<style>#sk-container-id-5 {color: black;background-color: white;}#sk-container-id-5 pre{padding: 0;}#sk-container-id-5 div.sk-toggleable {background-color: white;}#sk-container-id-5 label.sk-toggleable__label {cursor: pointer;display: block;width: 100%;margin-bottom: 0;padding: 0.3em;box-sizing: border-box;text-align: center;}#sk-container-id-5 label.sk-toggleable__label-arrow:before {content: \"▸\";float: left;margin-right: 0.25em;color: #696969;}#sk-container-id-5 label.sk-toggleable__label-arrow:hover:before {color: black;}#sk-container-id-5 div.sk-estimator:hover label.sk-toggleable__label-arrow:before {color: black;}#sk-container-id-5 div.sk-toggleable__content {max-height: 0;max-width: 0;overflow: hidden;text-align: left;background-color: #f0f8ff;}#sk-container-id-5 div.sk-toggleable__content pre {margin: 0.2em;color: black;border-radius: 0.25em;background-color: #f0f8ff;}#sk-container-id-5 input.sk-toggleable__control:checked~div.sk-toggleable__content {max-height: 200px;max-width: 100%;overflow: auto;}#sk-container-id-5 input.sk-toggleable__control:checked~label.sk-toggleable__label-arrow:before {content: \"▾\";}#sk-container-id-5 div.sk-estimator input.sk-toggleable__control:checked~label.sk-toggleable__label {background-color: #d4ebff;}#sk-container-id-5 div.sk-label input.sk-toggleable__control:checked~label.sk-toggleable__label {background-color: #d4ebff;}#sk-container-id-5 input.sk-hidden--visually {border: 0;clip: rect(1px 1px 1px 1px);clip: rect(1px, 1px, 1px, 1px);height: 1px;margin: -1px;overflow: hidden;padding: 0;position: absolute;width: 1px;}#sk-container-id-5 div.sk-estimator {font-family: monospace;background-color: #f0f8ff;border: 1px dotted black;border-radius: 0.25em;box-sizing: border-box;margin-bottom: 0.5em;}#sk-container-id-5 div.sk-estimator:hover {background-color: #d4ebff;}#sk-container-id-5 div.sk-parallel-item::after {content: \"\";width: 100%;border-bottom: 1px solid gray;flex-grow: 1;}#sk-container-id-5 div.sk-label:hover label.sk-toggleable__label {background-color: #d4ebff;}#sk-container-id-5 div.sk-serial::before {content: \"\";position: absolute;border-left: 1px solid gray;box-sizing: border-box;top: 0;bottom: 0;left: 50%;z-index: 0;}#sk-container-id-5 div.sk-serial {display: flex;flex-direction: column;align-items: center;background-color: white;padding-right: 0.2em;padding-left: 0.2em;position: relative;}#sk-container-id-5 div.sk-item {position: relative;z-index: 1;}#sk-container-id-5 div.sk-parallel {display: flex;align-items: stretch;justify-content: center;background-color: white;position: relative;}#sk-container-id-5 div.sk-item::before, #sk-container-id-5 div.sk-parallel-item::before {content: \"\";position: absolute;border-left: 1px solid gray;box-sizing: border-box;top: 0;bottom: 0;left: 50%;z-index: -1;}#sk-container-id-5 div.sk-parallel-item {display: flex;flex-direction: column;z-index: 1;position: relative;background-color: white;}#sk-container-id-5 div.sk-parallel-item:first-child::after {align-self: flex-end;width: 50%;}#sk-container-id-5 div.sk-parallel-item:last-child::after {align-self: flex-start;width: 50%;}#sk-container-id-5 div.sk-parallel-item:only-child::after {width: 0;}#sk-container-id-5 div.sk-dashed-wrapped {border: 1px dashed gray;margin: 0 0.4em 0.5em 0.4em;box-sizing: border-box;padding-bottom: 0.4em;background-color: white;}#sk-container-id-5 div.sk-label label {font-family: monospace;font-weight: bold;display: inline-block;line-height: 1.2em;}#sk-container-id-5 div.sk-label-container {text-align: center;}#sk-container-id-5 div.sk-container {/* jupyter's `normalize.less` sets `[hidden] { display: none; }` but bootstrap.min.css set `[hidden] { display: none !important; }` so we also need the `!important` here to be able to override the default hidden behavior on the sphinx rendered scikit-learn.org. See: https://github.com/scikit-learn/scikit-learn/issues/21755 */display: inline-block !important;position: relative;}#sk-container-id-5 div.sk-text-repr-fallback {display: none;}</style><div id=\"sk-container-id-5\" class=\"sk-top-container\"><div class=\"sk-text-repr-fallback\"><pre>GridSearchCV(estimator=Pipeline(steps=[(&#x27;tf-idf&#x27;,\n",
       "                                        TfidfVectorizer(max_df=0.8, min_df=10)),\n",
       "                                       (&#x27;model&#x27;,\n",
       "                                        SVC(probability=True,\n",
       "                                            random_state=10))]),\n",
       "             n_jobs=-1,\n",
       "             param_grid={&#x27;model__C&#x27;: [0.1, 1, 10, 100, 1000],\n",
       "                         &#x27;model__gamma&#x27;: [1, 0.1, 0.01, 0.001, 0.0001],\n",
       "                         &#x27;model__kernel&#x27;: [&#x27;rbf&#x27;, &#x27;poly&#x27;,\n",
       "                                           functools.partial(&lt;function string_kernel_multithread at 0x0000020FE9718FE0&gt;, normalize=True, n_jobs=None),\n",
       "                                           functools.partial(&lt;function polynomial_string_kernel_multithread at 0x0000020FE9719120&gt;, p=1.2, normalize=False, n_jobs=16)]},\n",
       "             verbose=True)</pre><b>In a Jupyter environment, please rerun this cell to show the HTML representation or trust the notebook. <br />On GitHub, the HTML representation is unable to render, please try loading this page with nbviewer.org.</b></div><div class=\"sk-container\" hidden><div class=\"sk-item sk-dashed-wrapped\"><div class=\"sk-label-container\"><div class=\"sk-label sk-toggleable\"><input class=\"sk-toggleable__control sk-hidden--visually\" id=\"sk-estimator-id-15\" type=\"checkbox\" ><label for=\"sk-estimator-id-15\" class=\"sk-toggleable__label sk-toggleable__label-arrow\">GridSearchCV</label><div class=\"sk-toggleable__content\"><pre>GridSearchCV(estimator=Pipeline(steps=[(&#x27;tf-idf&#x27;,\n",
       "                                        TfidfVectorizer(max_df=0.8, min_df=10)),\n",
       "                                       (&#x27;model&#x27;,\n",
       "                                        SVC(probability=True,\n",
       "                                            random_state=10))]),\n",
       "             n_jobs=-1,\n",
       "             param_grid={&#x27;model__C&#x27;: [0.1, 1, 10, 100, 1000],\n",
       "                         &#x27;model__gamma&#x27;: [1, 0.1, 0.01, 0.001, 0.0001],\n",
       "                         &#x27;model__kernel&#x27;: [&#x27;rbf&#x27;, &#x27;poly&#x27;,\n",
       "                                           functools.partial(&lt;function string_kernel_multithread at 0x0000020FE9718FE0&gt;, normalize=True, n_jobs=None),\n",
       "                                           functools.partial(&lt;function polynomial_string_kernel_multithread at 0x0000020FE9719120&gt;, p=1.2, normalize=False, n_jobs=16)]},\n",
       "             verbose=True)</pre></div></div></div><div class=\"sk-parallel\"><div class=\"sk-parallel-item\"><div class=\"sk-item\"><div class=\"sk-label-container\"><div class=\"sk-label sk-toggleable\"><input class=\"sk-toggleable__control sk-hidden--visually\" id=\"sk-estimator-id-16\" type=\"checkbox\" ><label for=\"sk-estimator-id-16\" class=\"sk-toggleable__label sk-toggleable__label-arrow\">estimator: Pipeline</label><div class=\"sk-toggleable__content\"><pre>Pipeline(steps=[(&#x27;tf-idf&#x27;, TfidfVectorizer(max_df=0.8, min_df=10)),\n",
       "                (&#x27;model&#x27;, SVC(probability=True, random_state=10))])</pre></div></div></div><div class=\"sk-serial\"><div class=\"sk-item\"><div class=\"sk-serial\"><div class=\"sk-item\"><div class=\"sk-estimator sk-toggleable\"><input class=\"sk-toggleable__control sk-hidden--visually\" id=\"sk-estimator-id-17\" type=\"checkbox\" ><label for=\"sk-estimator-id-17\" class=\"sk-toggleable__label sk-toggleable__label-arrow\">TfidfVectorizer</label><div class=\"sk-toggleable__content\"><pre>TfidfVectorizer(max_df=0.8, min_df=10)</pre></div></div></div><div class=\"sk-item\"><div class=\"sk-estimator sk-toggleable\"><input class=\"sk-toggleable__control sk-hidden--visually\" id=\"sk-estimator-id-18\" type=\"checkbox\" ><label for=\"sk-estimator-id-18\" class=\"sk-toggleable__label sk-toggleable__label-arrow\">SVC</label><div class=\"sk-toggleable__content\"><pre>SVC(probability=True, random_state=10)</pre></div></div></div></div></div></div></div></div></div></div></div></div>"
      ],
      "text/plain": [
       "GridSearchCV(estimator=Pipeline(steps=[('tf-idf',\n",
       "                                        TfidfVectorizer(max_df=0.8, min_df=10)),\n",
       "                                       ('model',\n",
       "                                        SVC(probability=True,\n",
       "                                            random_state=10))]),\n",
       "             n_jobs=-1,\n",
       "             param_grid={'model__C': [0.1, 1, 10, 100, 1000],\n",
       "                         'model__gamma': [1, 0.1, 0.01, 0.001, 0.0001],\n",
       "                         'model__kernel': ['rbf', 'poly',\n",
       "                                           functools.partial(<function string_kernel_multithread at 0x0000020FE9718FE0>, normalize=True, n_jobs=None),\n",
       "                                           functools.partial(<function polynomial_string_kernel_multithread at 0x0000020FE9719120>, p=1.2, normalize=False, n_jobs=16)]},\n",
       "             verbose=True)"
      ]
     },
     "metadata": {},
     "output_type": "display_data"
    }
   ],
   "source": [
    "from sklearn import set_config\n",
    "set_config(display='diagram')\n",
    "display(grid_model)"
   ]
  },
  {
   "cell_type": "code",
   "execution_count": 60,
   "metadata": {},
   "outputs": [
    {
     "data": {
      "text/plain": [
       "{'memory': None,\n",
       " 'steps': [('tf-idf', TfidfVectorizer(max_df=0.8, min_df=10)),\n",
       "  ('model', SVC(probability=True, random_state=10))],\n",
       " 'verbose': False,\n",
       " 'tf-idf': TfidfVectorizer(max_df=0.8, min_df=10),\n",
       " 'model': SVC(probability=True, random_state=10),\n",
       " 'tf-idf__analyzer': 'word',\n",
       " 'tf-idf__binary': False,\n",
       " 'tf-idf__decode_error': 'strict',\n",
       " 'tf-idf__dtype': numpy.float64,\n",
       " 'tf-idf__encoding': 'utf-8',\n",
       " 'tf-idf__input': 'content',\n",
       " 'tf-idf__lowercase': True,\n",
       " 'tf-idf__max_df': 0.8,\n",
       " 'tf-idf__max_features': None,\n",
       " 'tf-idf__min_df': 10,\n",
       " 'tf-idf__ngram_range': (1, 1),\n",
       " 'tf-idf__norm': 'l2',\n",
       " 'tf-idf__preprocessor': None,\n",
       " 'tf-idf__smooth_idf': True,\n",
       " 'tf-idf__stop_words': None,\n",
       " 'tf-idf__strip_accents': None,\n",
       " 'tf-idf__sublinear_tf': False,\n",
       " 'tf-idf__token_pattern': '(?u)\\\\b\\\\w\\\\w+\\\\b',\n",
       " 'tf-idf__tokenizer': None,\n",
       " 'tf-idf__use_idf': True,\n",
       " 'tf-idf__vocabulary': None,\n",
       " 'model__C': 1.0,\n",
       " 'model__break_ties': False,\n",
       " 'model__cache_size': 200,\n",
       " 'model__class_weight': None,\n",
       " 'model__coef0': 0.0,\n",
       " 'model__decision_function_shape': 'ovr',\n",
       " 'model__degree': 3,\n",
       " 'model__gamma': 'scale',\n",
       " 'model__kernel': 'rbf',\n",
       " 'model__max_iter': -1,\n",
       " 'model__probability': True,\n",
       " 'model__random_state': 10,\n",
       " 'model__shrinking': True,\n",
       " 'model__tol': 0.001,\n",
       " 'model__verbose': False}"
      ]
     },
     "execution_count": 60,
     "metadata": {},
     "output_type": "execute_result"
    }
   ],
   "source": [
    "pipe.get_params()"
   ]
  },
  {
   "cell_type": "code",
   "execution_count": 61,
   "metadata": {},
   "outputs": [
    {
     "name": "stdout",
     "output_type": "stream",
     "text": [
      "Fitting 5 folds for each of 100 candidates, totalling 500 fits\n"
     ]
    },
    {
     "name": "stderr",
     "output_type": "stream",
     "text": [
      "c:\\Users\\Yinka\\AppData\\Local\\Programs\\Python\\Python311\\Lib\\site-packages\\sklearn\\model_selection\\_validation.py:378: FitFailedWarning: \n",
      "250 fits failed out of a total of 500.\n",
      "The score on these train-test partitions for these parameters will be set to nan.\n",
      "If these failures are not expected, you can try to debug them by setting error_score='raise'.\n",
      "\n",
      "Below are more details about the failures:\n",
      "--------------------------------------------------------------------------------\n",
      "125 fits failed with the following error:\n",
      "Traceback (most recent call last):\n",
      "  File \"c:\\Users\\Yinka\\AppData\\Local\\Programs\\Python\\Python311\\Lib\\site-packages\\sklearn\\model_selection\\_validation.py\", line 686, in _fit_and_score\n",
      "    estimator.fit(X_train, y_train, **fit_params)\n",
      "  File \"c:\\Users\\Yinka\\AppData\\Local\\Programs\\Python\\Python311\\Lib\\site-packages\\sklearn\\pipeline.py\", line 405, in fit\n",
      "    self._final_estimator.fit(Xt, y, **fit_params_last_step)\n",
      "  File \"c:\\Users\\Yinka\\AppData\\Local\\Programs\\Python\\Python311\\Lib\\site-packages\\sklearn\\svm\\_base.py\", line 252, in fit\n",
      "    fit(X, y, sample_weight, solver_type, kernel, random_seed=seed)\n",
      "  File \"c:\\Users\\Yinka\\AppData\\Local\\Programs\\Python\\Python311\\Lib\\site-packages\\sklearn\\svm\\_base.py\", line 312, in _dense_fit\n",
      "    X = self._compute_kernel(X)\n",
      "        ^^^^^^^^^^^^^^^^^^^^^^^\n",
      "  File \"c:\\Users\\Yinka\\AppData\\Local\\Programs\\Python\\Python311\\Lib\\site-packages\\sklearn\\svm\\_base.py\", line 513, in _compute_kernel\n",
      "    kernel = self.kernel(X, self.__Xfit)\n",
      "             ^^^^^^^^^^^^^^^^^^^^^^^^^^^\n",
      "  File \"c:\\Users\\Yinka\\AppData\\Local\\Programs\\Python\\Python311\\Lib\\site-packages\\stringkernels\\kernels.py\", line 53, in string_kernel_multithread\n",
      "    K_list = pool.map(multithread_func, X)\n",
      "             ^^^^^^^^^^^^^^^^^^^^^^^^^^^^^\n",
      "  File \"c:\\Users\\Yinka\\AppData\\Local\\Programs\\Python\\Python311\\Lib\\multiprocessing\\pool.py\", line 367, in map\n",
      "    return self._map_async(func, iterable, mapstar, chunksize).get()\n",
      "           ^^^^^^^^^^^^^^^^^^^^^^^^^^^^^^^^^^^^^^^^^^^^^^^^^^^\n",
      "  File \"c:\\Users\\Yinka\\AppData\\Local\\Programs\\Python\\Python311\\Lib\\multiprocessing\\pool.py\", line 481, in _map_async\n",
      "    chunksize, extra = divmod(len(iterable), len(self._pool) * 4)\n",
      "                              ^^^^^^^^^^^^^\n",
      "  File \"c:\\Users\\Yinka\\AppData\\Local\\Programs\\Python\\Python311\\Lib\\site-packages\\scipy\\sparse\\_base.py\", line 345, in __len__\n",
      "    raise TypeError(\"sparse matrix length is ambiguous; use getnnz()\"\n",
      "TypeError: sparse matrix length is ambiguous; use getnnz() or shape[0]\n",
      "\n",
      "--------------------------------------------------------------------------------\n",
      "125 fits failed with the following error:\n",
      "Traceback (most recent call last):\n",
      "  File \"c:\\Users\\Yinka\\AppData\\Local\\Programs\\Python\\Python311\\Lib\\site-packages\\sklearn\\model_selection\\_validation.py\", line 686, in _fit_and_score\n",
      "    estimator.fit(X_train, y_train, **fit_params)\n",
      "  File \"c:\\Users\\Yinka\\AppData\\Local\\Programs\\Python\\Python311\\Lib\\site-packages\\sklearn\\pipeline.py\", line 405, in fit\n",
      "    self._final_estimator.fit(Xt, y, **fit_params_last_step)\n",
      "  File \"c:\\Users\\Yinka\\AppData\\Local\\Programs\\Python\\Python311\\Lib\\site-packages\\sklearn\\svm\\_base.py\", line 252, in fit\n",
      "    fit(X, y, sample_weight, solver_type, kernel, random_seed=seed)\n",
      "  File \"c:\\Users\\Yinka\\AppData\\Local\\Programs\\Python\\Python311\\Lib\\site-packages\\sklearn\\svm\\_base.py\", line 312, in _dense_fit\n",
      "    X = self._compute_kernel(X)\n",
      "        ^^^^^^^^^^^^^^^^^^^^^^^\n",
      "  File \"c:\\Users\\Yinka\\AppData\\Local\\Programs\\Python\\Python311\\Lib\\site-packages\\sklearn\\svm\\_base.py\", line 513, in _compute_kernel\n",
      "    kernel = self.kernel(X, self.__Xfit)\n",
      "             ^^^^^^^^^^^^^^^^^^^^^^^^^^^\n",
      "  File \"c:\\Users\\Yinka\\AppData\\Local\\Programs\\Python\\Python311\\Lib\\site-packages\\stringkernels\\kernels.py\", line 125, in polynomial_string_kernel_multithread\n",
      "    K_list = pool.map(partial(polynomial_string_kernel_singlethread,Y=Y,p=p,normalize=normalize), X.reshape(Xn, 1, Xm))\n",
      "                                                                                                  ^^^^^^^^^^^^^^^^^^^^\n",
      "  File \"c:\\Users\\Yinka\\AppData\\Local\\Programs\\Python\\Python311\\Lib\\site-packages\\scipy\\sparse\\_base.py\", line 158, in reshape\n",
      "    shape = check_shape(args, self.shape)\n",
      "            ^^^^^^^^^^^^^^^^^^^^^^^^^^^^^\n",
      "  File \"c:\\Users\\Yinka\\AppData\\Local\\Programs\\Python\\Python311\\Lib\\site-packages\\scipy\\sparse\\_sputils.py\", line 340, in check_shape\n",
      "    raise ValueError('matrix shape must be two-dimensional')\n",
      "ValueError: matrix shape must be two-dimensional\n",
      "\n",
      "  warnings.warn(some_fits_failed_message, FitFailedWarning)\n",
      "c:\\Users\\Yinka\\AppData\\Local\\Programs\\Python\\Python311\\Lib\\site-packages\\sklearn\\model_selection\\_search.py:952: UserWarning: One or more of the test scores are non-finite: [0.2646071  0.23969452        nan        nan 0.23969452 0.23969452\n",
      "        nan        nan 0.23969452 0.23969452        nan        nan\n",
      " 0.23969452 0.23969452        nan        nan 0.23969452 0.23969452\n",
      "        nan        nan 0.96645197 0.80253497        nan        nan\n",
      " 0.96261962 0.23969452        nan        nan 0.23969452 0.23969452\n",
      "        nan        nan 0.23969452 0.23969452        nan        nan\n",
      " 0.23969452 0.23969452        nan        nan 0.96741351 0.81787817\n",
      "        nan        nan 0.96645657 0.23969452        nan        nan\n",
      " 0.96549043 0.23969452        nan        nan 0.23969452 0.23969452\n",
      "        nan        nan 0.23969452 0.23969452        nan        nan\n",
      " 0.96741351 0.81787817        nan        nan 0.96549503 0.23969452\n",
      "        nan        nan 0.96645657 0.23969452        nan        nan\n",
      " 0.96549043 0.23969452        nan        nan 0.23969452 0.23969452\n",
      "        nan        nan 0.96741351 0.81787817        nan        nan\n",
      " 0.96549503 0.80253497        nan        nan 0.96645657 0.23969452\n",
      "        nan        nan 0.96645657 0.23969452        nan        nan\n",
      " 0.96549043 0.23969452        nan        nan]\n",
      "  warnings.warn(\n"
     ]
    },
    {
     "data": {
      "text/html": [
       "<style>#sk-container-id-6 {color: black;background-color: white;}#sk-container-id-6 pre{padding: 0;}#sk-container-id-6 div.sk-toggleable {background-color: white;}#sk-container-id-6 label.sk-toggleable__label {cursor: pointer;display: block;width: 100%;margin-bottom: 0;padding: 0.3em;box-sizing: border-box;text-align: center;}#sk-container-id-6 label.sk-toggleable__label-arrow:before {content: \"▸\";float: left;margin-right: 0.25em;color: #696969;}#sk-container-id-6 label.sk-toggleable__label-arrow:hover:before {color: black;}#sk-container-id-6 div.sk-estimator:hover label.sk-toggleable__label-arrow:before {color: black;}#sk-container-id-6 div.sk-toggleable__content {max-height: 0;max-width: 0;overflow: hidden;text-align: left;background-color: #f0f8ff;}#sk-container-id-6 div.sk-toggleable__content pre {margin: 0.2em;color: black;border-radius: 0.25em;background-color: #f0f8ff;}#sk-container-id-6 input.sk-toggleable__control:checked~div.sk-toggleable__content {max-height: 200px;max-width: 100%;overflow: auto;}#sk-container-id-6 input.sk-toggleable__control:checked~label.sk-toggleable__label-arrow:before {content: \"▾\";}#sk-container-id-6 div.sk-estimator input.sk-toggleable__control:checked~label.sk-toggleable__label {background-color: #d4ebff;}#sk-container-id-6 div.sk-label input.sk-toggleable__control:checked~label.sk-toggleable__label {background-color: #d4ebff;}#sk-container-id-6 input.sk-hidden--visually {border: 0;clip: rect(1px 1px 1px 1px);clip: rect(1px, 1px, 1px, 1px);height: 1px;margin: -1px;overflow: hidden;padding: 0;position: absolute;width: 1px;}#sk-container-id-6 div.sk-estimator {font-family: monospace;background-color: #f0f8ff;border: 1px dotted black;border-radius: 0.25em;box-sizing: border-box;margin-bottom: 0.5em;}#sk-container-id-6 div.sk-estimator:hover {background-color: #d4ebff;}#sk-container-id-6 div.sk-parallel-item::after {content: \"\";width: 100%;border-bottom: 1px solid gray;flex-grow: 1;}#sk-container-id-6 div.sk-label:hover label.sk-toggleable__label {background-color: #d4ebff;}#sk-container-id-6 div.sk-serial::before {content: \"\";position: absolute;border-left: 1px solid gray;box-sizing: border-box;top: 0;bottom: 0;left: 50%;z-index: 0;}#sk-container-id-6 div.sk-serial {display: flex;flex-direction: column;align-items: center;background-color: white;padding-right: 0.2em;padding-left: 0.2em;position: relative;}#sk-container-id-6 div.sk-item {position: relative;z-index: 1;}#sk-container-id-6 div.sk-parallel {display: flex;align-items: stretch;justify-content: center;background-color: white;position: relative;}#sk-container-id-6 div.sk-item::before, #sk-container-id-6 div.sk-parallel-item::before {content: \"\";position: absolute;border-left: 1px solid gray;box-sizing: border-box;top: 0;bottom: 0;left: 50%;z-index: -1;}#sk-container-id-6 div.sk-parallel-item {display: flex;flex-direction: column;z-index: 1;position: relative;background-color: white;}#sk-container-id-6 div.sk-parallel-item:first-child::after {align-self: flex-end;width: 50%;}#sk-container-id-6 div.sk-parallel-item:last-child::after {align-self: flex-start;width: 50%;}#sk-container-id-6 div.sk-parallel-item:only-child::after {width: 0;}#sk-container-id-6 div.sk-dashed-wrapped {border: 1px dashed gray;margin: 0 0.4em 0.5em 0.4em;box-sizing: border-box;padding-bottom: 0.4em;background-color: white;}#sk-container-id-6 div.sk-label label {font-family: monospace;font-weight: bold;display: inline-block;line-height: 1.2em;}#sk-container-id-6 div.sk-label-container {text-align: center;}#sk-container-id-6 div.sk-container {/* jupyter's `normalize.less` sets `[hidden] { display: none; }` but bootstrap.min.css set `[hidden] { display: none !important; }` so we also need the `!important` here to be able to override the default hidden behavior on the sphinx rendered scikit-learn.org. See: https://github.com/scikit-learn/scikit-learn/issues/21755 */display: inline-block !important;position: relative;}#sk-container-id-6 div.sk-text-repr-fallback {display: none;}</style><div id=\"sk-container-id-6\" class=\"sk-top-container\"><div class=\"sk-text-repr-fallback\"><pre>GridSearchCV(estimator=Pipeline(steps=[(&#x27;tf-idf&#x27;,\n",
       "                                        TfidfVectorizer(max_df=0.8, min_df=10)),\n",
       "                                       (&#x27;model&#x27;,\n",
       "                                        SVC(probability=True,\n",
       "                                            random_state=10))]),\n",
       "             n_jobs=-1,\n",
       "             param_grid={&#x27;model__C&#x27;: [0.1, 1, 10, 100, 1000],\n",
       "                         &#x27;model__gamma&#x27;: [1, 0.1, 0.01, 0.001, 0.0001],\n",
       "                         &#x27;model__kernel&#x27;: [&#x27;rbf&#x27;, &#x27;poly&#x27;,\n",
       "                                           functools.partial(&lt;function string_kernel_multithread at 0x0000020FE9718FE0&gt;, normalize=True, n_jobs=None),\n",
       "                                           functools.partial(&lt;function polynomial_string_kernel_multithread at 0x0000020FE9719120&gt;, p=1.2, normalize=False, n_jobs=16)]},\n",
       "             verbose=True)</pre><b>In a Jupyter environment, please rerun this cell to show the HTML representation or trust the notebook. <br />On GitHub, the HTML representation is unable to render, please try loading this page with nbviewer.org.</b></div><div class=\"sk-container\" hidden><div class=\"sk-item sk-dashed-wrapped\"><div class=\"sk-label-container\"><div class=\"sk-label sk-toggleable\"><input class=\"sk-toggleable__control sk-hidden--visually\" id=\"sk-estimator-id-19\" type=\"checkbox\" ><label for=\"sk-estimator-id-19\" class=\"sk-toggleable__label sk-toggleable__label-arrow\">GridSearchCV</label><div class=\"sk-toggleable__content\"><pre>GridSearchCV(estimator=Pipeline(steps=[(&#x27;tf-idf&#x27;,\n",
       "                                        TfidfVectorizer(max_df=0.8, min_df=10)),\n",
       "                                       (&#x27;model&#x27;,\n",
       "                                        SVC(probability=True,\n",
       "                                            random_state=10))]),\n",
       "             n_jobs=-1,\n",
       "             param_grid={&#x27;model__C&#x27;: [0.1, 1, 10, 100, 1000],\n",
       "                         &#x27;model__gamma&#x27;: [1, 0.1, 0.01, 0.001, 0.0001],\n",
       "                         &#x27;model__kernel&#x27;: [&#x27;rbf&#x27;, &#x27;poly&#x27;,\n",
       "                                           functools.partial(&lt;function string_kernel_multithread at 0x0000020FE9718FE0&gt;, normalize=True, n_jobs=None),\n",
       "                                           functools.partial(&lt;function polynomial_string_kernel_multithread at 0x0000020FE9719120&gt;, p=1.2, normalize=False, n_jobs=16)]},\n",
       "             verbose=True)</pre></div></div></div><div class=\"sk-parallel\"><div class=\"sk-parallel-item\"><div class=\"sk-item\"><div class=\"sk-label-container\"><div class=\"sk-label sk-toggleable\"><input class=\"sk-toggleable__control sk-hidden--visually\" id=\"sk-estimator-id-20\" type=\"checkbox\" ><label for=\"sk-estimator-id-20\" class=\"sk-toggleable__label sk-toggleable__label-arrow\">estimator: Pipeline</label><div class=\"sk-toggleable__content\"><pre>Pipeline(steps=[(&#x27;tf-idf&#x27;, TfidfVectorizer(max_df=0.8, min_df=10)),\n",
       "                (&#x27;model&#x27;, SVC(probability=True, random_state=10))])</pre></div></div></div><div class=\"sk-serial\"><div class=\"sk-item\"><div class=\"sk-serial\"><div class=\"sk-item\"><div class=\"sk-estimator sk-toggleable\"><input class=\"sk-toggleable__control sk-hidden--visually\" id=\"sk-estimator-id-21\" type=\"checkbox\" ><label for=\"sk-estimator-id-21\" class=\"sk-toggleable__label sk-toggleable__label-arrow\">TfidfVectorizer</label><div class=\"sk-toggleable__content\"><pre>TfidfVectorizer(max_df=0.8, min_df=10)</pre></div></div></div><div class=\"sk-item\"><div class=\"sk-estimator sk-toggleable\"><input class=\"sk-toggleable__control sk-hidden--visually\" id=\"sk-estimator-id-22\" type=\"checkbox\" ><label for=\"sk-estimator-id-22\" class=\"sk-toggleable__label sk-toggleable__label-arrow\">SVC</label><div class=\"sk-toggleable__content\"><pre>SVC(probability=True, random_state=10)</pre></div></div></div></div></div></div></div></div></div></div></div></div>"
      ],
      "text/plain": [
       "GridSearchCV(estimator=Pipeline(steps=[('tf-idf',\n",
       "                                        TfidfVectorizer(max_df=0.8, min_df=10)),\n",
       "                                       ('model',\n",
       "                                        SVC(probability=True,\n",
       "                                            random_state=10))]),\n",
       "             n_jobs=-1,\n",
       "             param_grid={'model__C': [0.1, 1, 10, 100, 1000],\n",
       "                         'model__gamma': [1, 0.1, 0.01, 0.001, 0.0001],\n",
       "                         'model__kernel': ['rbf', 'poly',\n",
       "                                           functools.partial(<function string_kernel_multithread at 0x0000020FE9718FE0>, normalize=True, n_jobs=None),\n",
       "                                           functools.partial(<function polynomial_string_kernel_multithread at 0x0000020FE9719120>, p=1.2, normalize=False, n_jobs=16)]},\n",
       "             verbose=True)"
      ]
     },
     "execution_count": 61,
     "metadata": {},
     "output_type": "execute_result"
    }
   ],
   "source": [
    "grid_model.fit(x_train,y_train)"
   ]
  },
  {
   "cell_type": "code",
   "execution_count": 62,
   "metadata": {},
   "outputs": [
    {
     "name": "stdout",
     "output_type": "stream",
     "text": [
      "Best score of train set: 0.9674135075450865\n",
      "Best parameter set: {'model__C': 10, 'model__gamma': 1, 'model__kernel': 'rbf'}\n"
     ]
    }
   ],
   "source": [
    "print(f'Best score of train set: {grid_model.best_score_}')\n",
    "print(f'Best parameter set: {grid_model.best_params_}')"
   ]
  },
  {
   "cell_type": "code",
   "execution_count": 63,
   "metadata": {},
   "outputs": [
    {
     "data": {
      "text/html": [
       "<div>\n",
       "<style scoped>\n",
       "    .dataframe tbody tr th:only-of-type {\n",
       "        vertical-align: middle;\n",
       "    }\n",
       "\n",
       "    .dataframe tbody tr th {\n",
       "        vertical-align: top;\n",
       "    }\n",
       "\n",
       "    .dataframe thead th {\n",
       "        text-align: right;\n",
       "    }\n",
       "</style>\n",
       "<table border=\"1\" class=\"dataframe\">\n",
       "  <thead>\n",
       "    <tr style=\"text-align: right;\">\n",
       "      <th></th>\n",
       "      <th>mean_fit_time</th>\n",
       "      <th>std_fit_time</th>\n",
       "      <th>mean_score_time</th>\n",
       "      <th>std_score_time</th>\n",
       "      <th>param_model__C</th>\n",
       "      <th>param_model__gamma</th>\n",
       "      <th>param_model__kernel</th>\n",
       "      <th>params</th>\n",
       "      <th>split0_test_score</th>\n",
       "      <th>split1_test_score</th>\n",
       "      <th>split2_test_score</th>\n",
       "      <th>split3_test_score</th>\n",
       "      <th>split4_test_score</th>\n",
       "      <th>mean_test_score</th>\n",
       "      <th>std_test_score</th>\n",
       "      <th>rank_test_score</th>\n",
       "    </tr>\n",
       "  </thead>\n",
       "  <tbody>\n",
       "    <tr>\n",
       "      <th>0</th>\n",
       "      <td>11.390674</td>\n",
       "      <td>0.133137</td>\n",
       "      <td>0.528478</td>\n",
       "      <td>0.015693</td>\n",
       "      <td>0.1</td>\n",
       "      <td>1</td>\n",
       "      <td>rbf</td>\n",
       "      <td>{'model__C': 0.1, 'model__gamma': 1, 'model__k...</td>\n",
       "      <td>0.277512</td>\n",
       "      <td>0.258373</td>\n",
       "      <td>0.272727</td>\n",
       "      <td>0.259615</td>\n",
       "      <td>0.254808</td>\n",
       "      <td>0.264607</td>\n",
       "      <td>0.008858</td>\n",
       "      <td>20</td>\n",
       "    </tr>\n",
       "    <tr>\n",
       "      <th>1</th>\n",
       "      <td>12.148723</td>\n",
       "      <td>0.910751</td>\n",
       "      <td>0.500393</td>\n",
       "      <td>0.017366</td>\n",
       "      <td>0.1</td>\n",
       "      <td>1</td>\n",
       "      <td>poly</td>\n",
       "      <td>{'model__C': 0.1, 'model__gamma': 1, 'model__k...</td>\n",
       "      <td>0.239234</td>\n",
       "      <td>0.239234</td>\n",
       "      <td>0.239234</td>\n",
       "      <td>0.240385</td>\n",
       "      <td>0.240385</td>\n",
       "      <td>0.239695</td>\n",
       "      <td>0.000563</td>\n",
       "      <td>21</td>\n",
       "    </tr>\n",
       "    <tr>\n",
       "      <th>2</th>\n",
       "      <td>0.917806</td>\n",
       "      <td>0.049270</td>\n",
       "      <td>0.000000</td>\n",
       "      <td>0.000000</td>\n",
       "      <td>0.1</td>\n",
       "      <td>1</td>\n",
       "      <td>functools.partial(&lt;function string_kernel_mult...</td>\n",
       "      <td>{'model__C': 0.1, 'model__gamma': 1, 'model__k...</td>\n",
       "      <td>NaN</td>\n",
       "      <td>NaN</td>\n",
       "      <td>NaN</td>\n",
       "      <td>NaN</td>\n",
       "      <td>NaN</td>\n",
       "      <td>NaN</td>\n",
       "      <td>NaN</td>\n",
       "      <td>51</td>\n",
       "    </tr>\n",
       "    <tr>\n",
       "      <th>3</th>\n",
       "      <td>1.782337</td>\n",
       "      <td>0.085942</td>\n",
       "      <td>0.000000</td>\n",
       "      <td>0.000000</td>\n",
       "      <td>0.1</td>\n",
       "      <td>1</td>\n",
       "      <td>functools.partial(&lt;function polynomial_string_...</td>\n",
       "      <td>{'model__C': 0.1, 'model__gamma': 1, 'model__k...</td>\n",
       "      <td>NaN</td>\n",
       "      <td>NaN</td>\n",
       "      <td>NaN</td>\n",
       "      <td>NaN</td>\n",
       "      <td>NaN</td>\n",
       "      <td>NaN</td>\n",
       "      <td>NaN</td>\n",
       "      <td>51</td>\n",
       "    </tr>\n",
       "    <tr>\n",
       "      <th>4</th>\n",
       "      <td>11.126436</td>\n",
       "      <td>0.303827</td>\n",
       "      <td>0.530634</td>\n",
       "      <td>0.019061</td>\n",
       "      <td>0.1</td>\n",
       "      <td>0.1</td>\n",
       "      <td>rbf</td>\n",
       "      <td>{'model__C': 0.1, 'model__gamma': 0.1, 'model_...</td>\n",
       "      <td>0.239234</td>\n",
       "      <td>0.239234</td>\n",
       "      <td>0.239234</td>\n",
       "      <td>0.240385</td>\n",
       "      <td>0.240385</td>\n",
       "      <td>0.239695</td>\n",
       "      <td>0.000563</td>\n",
       "      <td>21</td>\n",
       "    </tr>\n",
       "    <tr>\n",
       "      <th>...</th>\n",
       "      <td>...</td>\n",
       "      <td>...</td>\n",
       "      <td>...</td>\n",
       "      <td>...</td>\n",
       "      <td>...</td>\n",
       "      <td>...</td>\n",
       "      <td>...</td>\n",
       "      <td>...</td>\n",
       "      <td>...</td>\n",
       "      <td>...</td>\n",
       "      <td>...</td>\n",
       "      <td>...</td>\n",
       "      <td>...</td>\n",
       "      <td>...</td>\n",
       "      <td>...</td>\n",
       "      <td>...</td>\n",
       "    </tr>\n",
       "    <tr>\n",
       "      <th>95</th>\n",
       "      <td>1.591507</td>\n",
       "      <td>0.179462</td>\n",
       "      <td>0.000000</td>\n",
       "      <td>0.000000</td>\n",
       "      <td>1000</td>\n",
       "      <td>0.001</td>\n",
       "      <td>functools.partial(&lt;function polynomial_string_...</td>\n",
       "      <td>{'model__C': 1000, 'model__gamma': 0.001, 'mod...</td>\n",
       "      <td>NaN</td>\n",
       "      <td>NaN</td>\n",
       "      <td>NaN</td>\n",
       "      <td>NaN</td>\n",
       "      <td>NaN</td>\n",
       "      <td>NaN</td>\n",
       "      <td>NaN</td>\n",
       "      <td>51</td>\n",
       "    </tr>\n",
       "    <tr>\n",
       "      <th>96</th>\n",
       "      <td>12.625501</td>\n",
       "      <td>1.076464</td>\n",
       "      <td>0.688020</td>\n",
       "      <td>0.246646</td>\n",
       "      <td>1000</td>\n",
       "      <td>0.0001</td>\n",
       "      <td>rbf</td>\n",
       "      <td>{'model__C': 1000, 'model__gamma': 0.0001, 'mo...</td>\n",
       "      <td>0.942584</td>\n",
       "      <td>0.980861</td>\n",
       "      <td>0.966507</td>\n",
       "      <td>0.975962</td>\n",
       "      <td>0.961538</td>\n",
       "      <td>0.965490</td>\n",
       "      <td>0.013321</td>\n",
       "      <td>11</td>\n",
       "    </tr>\n",
       "    <tr>\n",
       "      <th>97</th>\n",
       "      <td>14.791867</td>\n",
       "      <td>0.814864</td>\n",
       "      <td>0.524087</td>\n",
       "      <td>0.178762</td>\n",
       "      <td>1000</td>\n",
       "      <td>0.0001</td>\n",
       "      <td>poly</td>\n",
       "      <td>{'model__C': 1000, 'model__gamma': 0.0001, 'mo...</td>\n",
       "      <td>0.239234</td>\n",
       "      <td>0.239234</td>\n",
       "      <td>0.239234</td>\n",
       "      <td>0.240385</td>\n",
       "      <td>0.240385</td>\n",
       "      <td>0.239695</td>\n",
       "      <td>0.000563</td>\n",
       "      <td>21</td>\n",
       "    </tr>\n",
       "    <tr>\n",
       "      <th>98</th>\n",
       "      <td>1.228825</td>\n",
       "      <td>0.324250</td>\n",
       "      <td>0.000000</td>\n",
       "      <td>0.000000</td>\n",
       "      <td>1000</td>\n",
       "      <td>0.0001</td>\n",
       "      <td>functools.partial(&lt;function string_kernel_mult...</td>\n",
       "      <td>{'model__C': 1000, 'model__gamma': 0.0001, 'mo...</td>\n",
       "      <td>NaN</td>\n",
       "      <td>NaN</td>\n",
       "      <td>NaN</td>\n",
       "      <td>NaN</td>\n",
       "      <td>NaN</td>\n",
       "      <td>NaN</td>\n",
       "      <td>NaN</td>\n",
       "      <td>51</td>\n",
       "    </tr>\n",
       "    <tr>\n",
       "      <th>99</th>\n",
       "      <td>2.392065</td>\n",
       "      <td>0.399139</td>\n",
       "      <td>0.000000</td>\n",
       "      <td>0.000000</td>\n",
       "      <td>1000</td>\n",
       "      <td>0.0001</td>\n",
       "      <td>functools.partial(&lt;function polynomial_string_...</td>\n",
       "      <td>{'model__C': 1000, 'model__gamma': 0.0001, 'mo...</td>\n",
       "      <td>NaN</td>\n",
       "      <td>NaN</td>\n",
       "      <td>NaN</td>\n",
       "      <td>NaN</td>\n",
       "      <td>NaN</td>\n",
       "      <td>NaN</td>\n",
       "      <td>NaN</td>\n",
       "      <td>51</td>\n",
       "    </tr>\n",
       "  </tbody>\n",
       "</table>\n",
       "<p>100 rows × 16 columns</p>\n",
       "</div>"
      ],
      "text/plain": [
       "    mean_fit_time  std_fit_time  mean_score_time  std_score_time  \\\n",
       "0       11.390674      0.133137         0.528478        0.015693   \n",
       "1       12.148723      0.910751         0.500393        0.017366   \n",
       "2        0.917806      0.049270         0.000000        0.000000   \n",
       "3        1.782337      0.085942         0.000000        0.000000   \n",
       "4       11.126436      0.303827         0.530634        0.019061   \n",
       "..            ...           ...              ...             ...   \n",
       "95       1.591507      0.179462         0.000000        0.000000   \n",
       "96      12.625501      1.076464         0.688020        0.246646   \n",
       "97      14.791867      0.814864         0.524087        0.178762   \n",
       "98       1.228825      0.324250         0.000000        0.000000   \n",
       "99       2.392065      0.399139         0.000000        0.000000   \n",
       "\n",
       "   param_model__C param_model__gamma  \\\n",
       "0             0.1                  1   \n",
       "1             0.1                  1   \n",
       "2             0.1                  1   \n",
       "3             0.1                  1   \n",
       "4             0.1                0.1   \n",
       "..            ...                ...   \n",
       "95           1000              0.001   \n",
       "96           1000             0.0001   \n",
       "97           1000             0.0001   \n",
       "98           1000             0.0001   \n",
       "99           1000             0.0001   \n",
       "\n",
       "                                  param_model__kernel  \\\n",
       "0                                                 rbf   \n",
       "1                                                poly   \n",
       "2   functools.partial(<function string_kernel_mult...   \n",
       "3   functools.partial(<function polynomial_string_...   \n",
       "4                                                 rbf   \n",
       "..                                                ...   \n",
       "95  functools.partial(<function polynomial_string_...   \n",
       "96                                                rbf   \n",
       "97                                               poly   \n",
       "98  functools.partial(<function string_kernel_mult...   \n",
       "99  functools.partial(<function polynomial_string_...   \n",
       "\n",
       "                                               params  split0_test_score  \\\n",
       "0   {'model__C': 0.1, 'model__gamma': 1, 'model__k...           0.277512   \n",
       "1   {'model__C': 0.1, 'model__gamma': 1, 'model__k...           0.239234   \n",
       "2   {'model__C': 0.1, 'model__gamma': 1, 'model__k...                NaN   \n",
       "3   {'model__C': 0.1, 'model__gamma': 1, 'model__k...                NaN   \n",
       "4   {'model__C': 0.1, 'model__gamma': 0.1, 'model_...           0.239234   \n",
       "..                                                ...                ...   \n",
       "95  {'model__C': 1000, 'model__gamma': 0.001, 'mod...                NaN   \n",
       "96  {'model__C': 1000, 'model__gamma': 0.0001, 'mo...           0.942584   \n",
       "97  {'model__C': 1000, 'model__gamma': 0.0001, 'mo...           0.239234   \n",
       "98  {'model__C': 1000, 'model__gamma': 0.0001, 'mo...                NaN   \n",
       "99  {'model__C': 1000, 'model__gamma': 0.0001, 'mo...                NaN   \n",
       "\n",
       "    split1_test_score  split2_test_score  split3_test_score  \\\n",
       "0            0.258373           0.272727           0.259615   \n",
       "1            0.239234           0.239234           0.240385   \n",
       "2                 NaN                NaN                NaN   \n",
       "3                 NaN                NaN                NaN   \n",
       "4            0.239234           0.239234           0.240385   \n",
       "..                ...                ...                ...   \n",
       "95                NaN                NaN                NaN   \n",
       "96           0.980861           0.966507           0.975962   \n",
       "97           0.239234           0.239234           0.240385   \n",
       "98                NaN                NaN                NaN   \n",
       "99                NaN                NaN                NaN   \n",
       "\n",
       "    split4_test_score  mean_test_score  std_test_score  rank_test_score  \n",
       "0            0.254808         0.264607        0.008858               20  \n",
       "1            0.240385         0.239695        0.000563               21  \n",
       "2                 NaN              NaN             NaN               51  \n",
       "3                 NaN              NaN             NaN               51  \n",
       "4            0.240385         0.239695        0.000563               21  \n",
       "..                ...              ...             ...              ...  \n",
       "95                NaN              NaN             NaN               51  \n",
       "96           0.961538         0.965490        0.013321               11  \n",
       "97           0.240385         0.239695        0.000563               21  \n",
       "98                NaN              NaN             NaN               51  \n",
       "99                NaN              NaN             NaN               51  \n",
       "\n",
       "[100 rows x 16 columns]"
      ]
     },
     "execution_count": 63,
     "metadata": {},
     "output_type": "execute_result"
    }
   ],
   "source": [
    "grid_result = pd.DataFrame(grid_model.cv_results_)\n",
    "grid_result"
   ]
  },
  {
   "attachments": {},
   "cell_type": "markdown",
   "metadata": {},
   "source": [
    "# FINAL TEST"
   ]
  },
  {
   "cell_type": "code",
   "execution_count": null,
   "metadata": {},
   "outputs": [],
   "source": [
    "def makecsv(id_test, test_y_pred):\n",
    "    #change the ans label\n",
    "    #test_y_pred = number_to_label(test_y_pred)\n",
    "    submission = {'ArticleId': id_test, 'Category': test_y_pred}\n",
    "    submission = pd.DataFrame(submission)\n",
    "    submission.to_csv('./submission.csv', index=0, header=1)"
   ]
  },
  {
   "cell_type": "code",
   "execution_count": null,
   "metadata": {},
   "outputs": [
    {
     "ename": "FileNotFoundError",
     "evalue": "[Errno 2] No such file or directory: '/workspaces/codespaces-blank/news_classification/data/test.csv'",
     "output_type": "error",
     "traceback": [
      "\u001b[1;31m---------------------------------------------------------------------------\u001b[0m",
      "\u001b[1;31mFileNotFoundError\u001b[0m                         Traceback (most recent call last)",
      "Cell \u001b[1;32mIn[23], line 1\u001b[0m\n\u001b[1;32m----> 1\u001b[0m final_test_df \u001b[39m=\u001b[39m pd\u001b[39m.\u001b[39;49mread_csv(\u001b[39m'\u001b[39;49m\u001b[39m/workspaces/codespaces-blank/news_classification/data/test.csv\u001b[39;49m\u001b[39m'\u001b[39;49m)\n\u001b[0;32m      2\u001b[0m final_test_df[\u001b[39m'\u001b[39m\u001b[39mText\u001b[39m\u001b[39m'\u001b[39m] \u001b[39m=\u001b[39m final_test_df[\u001b[39m'\u001b[39m\u001b[39mText\u001b[39m\u001b[39m'\u001b[39m]\u001b[39m.\u001b[39mapply(preprocessor)\n\u001b[0;32m      3\u001b[0m final_y \u001b[39m=\u001b[39m tf_idf_vectorizer\u001b[39m.\u001b[39mtransform(final_test_df[\u001b[39m'\u001b[39m\u001b[39mText\u001b[39m\u001b[39m'\u001b[39m])\n",
      "File \u001b[1;32mc:\\Users\\Yinka\\AppData\\Local\\Programs\\Python\\Python311\\Lib\\site-packages\\pandas\\util\\_decorators.py:211\u001b[0m, in \u001b[0;36mdeprecate_kwarg.<locals>._deprecate_kwarg.<locals>.wrapper\u001b[1;34m(*args, **kwargs)\u001b[0m\n\u001b[0;32m    209\u001b[0m     \u001b[39melse\u001b[39;00m:\n\u001b[0;32m    210\u001b[0m         kwargs[new_arg_name] \u001b[39m=\u001b[39m new_arg_value\n\u001b[1;32m--> 211\u001b[0m \u001b[39mreturn\u001b[39;00m func(\u001b[39m*\u001b[39;49margs, \u001b[39m*\u001b[39;49m\u001b[39m*\u001b[39;49mkwargs)\n",
      "File \u001b[1;32mc:\\Users\\Yinka\\AppData\\Local\\Programs\\Python\\Python311\\Lib\\site-packages\\pandas\\util\\_decorators.py:331\u001b[0m, in \u001b[0;36mdeprecate_nonkeyword_arguments.<locals>.decorate.<locals>.wrapper\u001b[1;34m(*args, **kwargs)\u001b[0m\n\u001b[0;32m    325\u001b[0m \u001b[39mif\u001b[39;00m \u001b[39mlen\u001b[39m(args) \u001b[39m>\u001b[39m num_allow_args:\n\u001b[0;32m    326\u001b[0m     warnings\u001b[39m.\u001b[39mwarn(\n\u001b[0;32m    327\u001b[0m         msg\u001b[39m.\u001b[39mformat(arguments\u001b[39m=\u001b[39m_format_argument_list(allow_args)),\n\u001b[0;32m    328\u001b[0m         \u001b[39mFutureWarning\u001b[39;00m,\n\u001b[0;32m    329\u001b[0m         stacklevel\u001b[39m=\u001b[39mfind_stack_level(),\n\u001b[0;32m    330\u001b[0m     )\n\u001b[1;32m--> 331\u001b[0m \u001b[39mreturn\u001b[39;00m func(\u001b[39m*\u001b[39;49margs, \u001b[39m*\u001b[39;49m\u001b[39m*\u001b[39;49mkwargs)\n",
      "File \u001b[1;32mc:\\Users\\Yinka\\AppData\\Local\\Programs\\Python\\Python311\\Lib\\site-packages\\pandas\\io\\parsers\\readers.py:950\u001b[0m, in \u001b[0;36mread_csv\u001b[1;34m(filepath_or_buffer, sep, delimiter, header, names, index_col, usecols, squeeze, prefix, mangle_dupe_cols, dtype, engine, converters, true_values, false_values, skipinitialspace, skiprows, skipfooter, nrows, na_values, keep_default_na, na_filter, verbose, skip_blank_lines, parse_dates, infer_datetime_format, keep_date_col, date_parser, dayfirst, cache_dates, iterator, chunksize, compression, thousands, decimal, lineterminator, quotechar, quoting, doublequote, escapechar, comment, encoding, encoding_errors, dialect, error_bad_lines, warn_bad_lines, on_bad_lines, delim_whitespace, low_memory, memory_map, float_precision, storage_options)\u001b[0m\n\u001b[0;32m    935\u001b[0m kwds_defaults \u001b[39m=\u001b[39m _refine_defaults_read(\n\u001b[0;32m    936\u001b[0m     dialect,\n\u001b[0;32m    937\u001b[0m     delimiter,\n\u001b[1;32m   (...)\u001b[0m\n\u001b[0;32m    946\u001b[0m     defaults\u001b[39m=\u001b[39m{\u001b[39m\"\u001b[39m\u001b[39mdelimiter\u001b[39m\u001b[39m\"\u001b[39m: \u001b[39m\"\u001b[39m\u001b[39m,\u001b[39m\u001b[39m\"\u001b[39m},\n\u001b[0;32m    947\u001b[0m )\n\u001b[0;32m    948\u001b[0m kwds\u001b[39m.\u001b[39mupdate(kwds_defaults)\n\u001b[1;32m--> 950\u001b[0m \u001b[39mreturn\u001b[39;00m _read(filepath_or_buffer, kwds)\n",
      "File \u001b[1;32mc:\\Users\\Yinka\\AppData\\Local\\Programs\\Python\\Python311\\Lib\\site-packages\\pandas\\io\\parsers\\readers.py:605\u001b[0m, in \u001b[0;36m_read\u001b[1;34m(filepath_or_buffer, kwds)\u001b[0m\n\u001b[0;32m    602\u001b[0m _validate_names(kwds\u001b[39m.\u001b[39mget(\u001b[39m\"\u001b[39m\u001b[39mnames\u001b[39m\u001b[39m\"\u001b[39m, \u001b[39mNone\u001b[39;00m))\n\u001b[0;32m    604\u001b[0m \u001b[39m# Create the parser.\u001b[39;00m\n\u001b[1;32m--> 605\u001b[0m parser \u001b[39m=\u001b[39m TextFileReader(filepath_or_buffer, \u001b[39m*\u001b[39;49m\u001b[39m*\u001b[39;49mkwds)\n\u001b[0;32m    607\u001b[0m \u001b[39mif\u001b[39;00m chunksize \u001b[39mor\u001b[39;00m iterator:\n\u001b[0;32m    608\u001b[0m     \u001b[39mreturn\u001b[39;00m parser\n",
      "File \u001b[1;32mc:\\Users\\Yinka\\AppData\\Local\\Programs\\Python\\Python311\\Lib\\site-packages\\pandas\\io\\parsers\\readers.py:1442\u001b[0m, in \u001b[0;36mTextFileReader.__init__\u001b[1;34m(self, f, engine, **kwds)\u001b[0m\n\u001b[0;32m   1439\u001b[0m     \u001b[39mself\u001b[39m\u001b[39m.\u001b[39moptions[\u001b[39m\"\u001b[39m\u001b[39mhas_index_names\u001b[39m\u001b[39m\"\u001b[39m] \u001b[39m=\u001b[39m kwds[\u001b[39m\"\u001b[39m\u001b[39mhas_index_names\u001b[39m\u001b[39m\"\u001b[39m]\n\u001b[0;32m   1441\u001b[0m \u001b[39mself\u001b[39m\u001b[39m.\u001b[39mhandles: IOHandles \u001b[39m|\u001b[39m \u001b[39mNone\u001b[39;00m \u001b[39m=\u001b[39m \u001b[39mNone\u001b[39;00m\n\u001b[1;32m-> 1442\u001b[0m \u001b[39mself\u001b[39m\u001b[39m.\u001b[39m_engine \u001b[39m=\u001b[39m \u001b[39mself\u001b[39;49m\u001b[39m.\u001b[39;49m_make_engine(f, \u001b[39mself\u001b[39;49m\u001b[39m.\u001b[39;49mengine)\n",
      "File \u001b[1;32mc:\\Users\\Yinka\\AppData\\Local\\Programs\\Python\\Python311\\Lib\\site-packages\\pandas\\io\\parsers\\readers.py:1735\u001b[0m, in \u001b[0;36mTextFileReader._make_engine\u001b[1;34m(self, f, engine)\u001b[0m\n\u001b[0;32m   1733\u001b[0m     \u001b[39mif\u001b[39;00m \u001b[39m\"\u001b[39m\u001b[39mb\u001b[39m\u001b[39m\"\u001b[39m \u001b[39mnot\u001b[39;00m \u001b[39min\u001b[39;00m mode:\n\u001b[0;32m   1734\u001b[0m         mode \u001b[39m+\u001b[39m\u001b[39m=\u001b[39m \u001b[39m\"\u001b[39m\u001b[39mb\u001b[39m\u001b[39m\"\u001b[39m\n\u001b[1;32m-> 1735\u001b[0m \u001b[39mself\u001b[39m\u001b[39m.\u001b[39mhandles \u001b[39m=\u001b[39m get_handle(\n\u001b[0;32m   1736\u001b[0m     f,\n\u001b[0;32m   1737\u001b[0m     mode,\n\u001b[0;32m   1738\u001b[0m     encoding\u001b[39m=\u001b[39;49m\u001b[39mself\u001b[39;49m\u001b[39m.\u001b[39;49moptions\u001b[39m.\u001b[39;49mget(\u001b[39m\"\u001b[39;49m\u001b[39mencoding\u001b[39;49m\u001b[39m\"\u001b[39;49m, \u001b[39mNone\u001b[39;49;00m),\n\u001b[0;32m   1739\u001b[0m     compression\u001b[39m=\u001b[39;49m\u001b[39mself\u001b[39;49m\u001b[39m.\u001b[39;49moptions\u001b[39m.\u001b[39;49mget(\u001b[39m\"\u001b[39;49m\u001b[39mcompression\u001b[39;49m\u001b[39m\"\u001b[39;49m, \u001b[39mNone\u001b[39;49;00m),\n\u001b[0;32m   1740\u001b[0m     memory_map\u001b[39m=\u001b[39;49m\u001b[39mself\u001b[39;49m\u001b[39m.\u001b[39;49moptions\u001b[39m.\u001b[39;49mget(\u001b[39m\"\u001b[39;49m\u001b[39mmemory_map\u001b[39;49m\u001b[39m\"\u001b[39;49m, \u001b[39mFalse\u001b[39;49;00m),\n\u001b[0;32m   1741\u001b[0m     is_text\u001b[39m=\u001b[39;49mis_text,\n\u001b[0;32m   1742\u001b[0m     errors\u001b[39m=\u001b[39;49m\u001b[39mself\u001b[39;49m\u001b[39m.\u001b[39;49moptions\u001b[39m.\u001b[39;49mget(\u001b[39m\"\u001b[39;49m\u001b[39mencoding_errors\u001b[39;49m\u001b[39m\"\u001b[39;49m, \u001b[39m\"\u001b[39;49m\u001b[39mstrict\u001b[39;49m\u001b[39m\"\u001b[39;49m),\n\u001b[0;32m   1743\u001b[0m     storage_options\u001b[39m=\u001b[39;49m\u001b[39mself\u001b[39;49m\u001b[39m.\u001b[39;49moptions\u001b[39m.\u001b[39;49mget(\u001b[39m\"\u001b[39;49m\u001b[39mstorage_options\u001b[39;49m\u001b[39m\"\u001b[39;49m, \u001b[39mNone\u001b[39;49;00m),\n\u001b[0;32m   1744\u001b[0m )\n\u001b[0;32m   1745\u001b[0m \u001b[39massert\u001b[39;00m \u001b[39mself\u001b[39m\u001b[39m.\u001b[39mhandles \u001b[39mis\u001b[39;00m \u001b[39mnot\u001b[39;00m \u001b[39mNone\u001b[39;00m\n\u001b[0;32m   1746\u001b[0m f \u001b[39m=\u001b[39m \u001b[39mself\u001b[39m\u001b[39m.\u001b[39mhandles\u001b[39m.\u001b[39mhandle\n",
      "File \u001b[1;32mc:\\Users\\Yinka\\AppData\\Local\\Programs\\Python\\Python311\\Lib\\site-packages\\pandas\\io\\common.py:856\u001b[0m, in \u001b[0;36mget_handle\u001b[1;34m(path_or_buf, mode, encoding, compression, memory_map, is_text, errors, storage_options)\u001b[0m\n\u001b[0;32m    851\u001b[0m \u001b[39melif\u001b[39;00m \u001b[39misinstance\u001b[39m(handle, \u001b[39mstr\u001b[39m):\n\u001b[0;32m    852\u001b[0m     \u001b[39m# Check whether the filename is to be opened in binary mode.\u001b[39;00m\n\u001b[0;32m    853\u001b[0m     \u001b[39m# Binary mode does not support 'encoding' and 'newline'.\u001b[39;00m\n\u001b[0;32m    854\u001b[0m     \u001b[39mif\u001b[39;00m ioargs\u001b[39m.\u001b[39mencoding \u001b[39mand\u001b[39;00m \u001b[39m\"\u001b[39m\u001b[39mb\u001b[39m\u001b[39m\"\u001b[39m \u001b[39mnot\u001b[39;00m \u001b[39min\u001b[39;00m ioargs\u001b[39m.\u001b[39mmode:\n\u001b[0;32m    855\u001b[0m         \u001b[39m# Encoding\u001b[39;00m\n\u001b[1;32m--> 856\u001b[0m         handle \u001b[39m=\u001b[39m \u001b[39mopen\u001b[39;49m(\n\u001b[0;32m    857\u001b[0m             handle,\n\u001b[0;32m    858\u001b[0m             ioargs\u001b[39m.\u001b[39;49mmode,\n\u001b[0;32m    859\u001b[0m             encoding\u001b[39m=\u001b[39;49mioargs\u001b[39m.\u001b[39;49mencoding,\n\u001b[0;32m    860\u001b[0m             errors\u001b[39m=\u001b[39;49merrors,\n\u001b[0;32m    861\u001b[0m             newline\u001b[39m=\u001b[39;49m\u001b[39m\"\u001b[39;49m\u001b[39m\"\u001b[39;49m,\n\u001b[0;32m    862\u001b[0m         )\n\u001b[0;32m    863\u001b[0m     \u001b[39melse\u001b[39;00m:\n\u001b[0;32m    864\u001b[0m         \u001b[39m# Binary mode\u001b[39;00m\n\u001b[0;32m    865\u001b[0m         handle \u001b[39m=\u001b[39m \u001b[39mopen\u001b[39m(handle, ioargs\u001b[39m.\u001b[39mmode)\n",
      "\u001b[1;31mFileNotFoundError\u001b[0m: [Errno 2] No such file or directory: '/workspaces/codespaces-blank/news_classification/data/test.csv'"
     ]
    }
   ],
   "source": [
    "final_test_df = pd.read_csv('/workspaces/codespaces-blank/news_classification/data/test.csv')\n",
    "final_test_df['Text'] = final_test_df['Text'].apply(preprocessor)\n",
    "final_y = tf_idf_vectorizer.transform(final_test_df['Text'])\n",
    "print(final_y.shape)\n",
    "final_y_pred = base_svm_model.predict(final_y)\n",
    "\n",
    "#makecsv(final_test_df['ArticleId'], final_y_pred)"
   ]
  }
 ],
 "metadata": {
  "kernelspec": {
   "display_name": "Python 3",
   "language": "python",
   "name": "python3"
  },
  "language_info": {
   "codemirror_mode": {
    "name": "ipython",
    "version": 3
   },
   "file_extension": ".py",
   "mimetype": "text/x-python",
   "name": "python",
   "nbconvert_exporter": "python",
   "pygments_lexer": "ipython3",
   "version": "3.11.2"
  },
  "orig_nbformat": 4
 },
 "nbformat": 4,
 "nbformat_minor": 2
}
