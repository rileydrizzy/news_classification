{
 "cells": [
  {
   "cell_type": "code",
   "execution_count": 1,
   "metadata": {},
   "outputs": [
    {
     "name": "stderr",
     "output_type": "stream",
     "text": [
      "[nltk_data] Downloading package stopwords to\n",
      "[nltk_data]     /home/codespace/nltk_data...\n",
      "[nltk_data]   Package stopwords is already up-to-date!\n"
     ]
    }
   ],
   "source": [
    " #Importing Libraries\n",
    "import pandas as pd\n",
    "import matplotlib.pyplot as plt\n",
    "from sklearn.model_selection import train_test_split\n",
    "from sklearn.naive_bayes import GaussianNB\n",
    "from sklearn.metrics import precision_recall_curve, precision_score, recall_score\n",
    "from sklearn.metrics import confusion_matrix, ConfusionMatrixDisplay,roc_auc_score, RocCurveDisplay,roc_curve\n",
    "from sklearn.feature_extraction.text import CountVectorizer\n",
    "from nltk.probability import FreqDist\n",
    "import nltk\n",
    "import string\n",
    "import numpy as np\n",
    "import string\n",
    "nltk.download('stopwords')\n",
    "from nltk.corpus import stopwords"
   ]
  },
  {
   "cell_type": "code",
   "execution_count": 2,
   "metadata": {},
   "outputs": [
    {
     "data": {
      "text/html": [
       "<div>\n",
       "<style scoped>\n",
       "    .dataframe tbody tr th:only-of-type {\n",
       "        vertical-align: middle;\n",
       "    }\n",
       "\n",
       "    .dataframe tbody tr th {\n",
       "        vertical-align: top;\n",
       "    }\n",
       "\n",
       "    .dataframe thead th {\n",
       "        text-align: right;\n",
       "    }\n",
       "</style>\n",
       "<table border=\"1\" class=\"dataframe\">\n",
       "  <thead>\n",
       "    <tr style=\"text-align: right;\">\n",
       "      <th></th>\n",
       "      <th>ArticleId</th>\n",
       "      <th>Text</th>\n",
       "      <th>Category</th>\n",
       "    </tr>\n",
       "  </thead>\n",
       "  <tbody>\n",
       "    <tr>\n",
       "      <th>0</th>\n",
       "      <td>1155</td>\n",
       "      <td>chancellor rallies labour voters gordon brown ...</td>\n",
       "      <td>politics</td>\n",
       "    </tr>\n",
       "    <tr>\n",
       "      <th>1</th>\n",
       "      <td>1980</td>\n",
       "      <td>india s maruti sees profits jump india s bigge...</td>\n",
       "      <td>business</td>\n",
       "    </tr>\n",
       "    <tr>\n",
       "      <th>2</th>\n",
       "      <td>386</td>\n",
       "      <td>ukip s secret weapon  by any measure  new york...</td>\n",
       "      <td>politics</td>\n",
       "    </tr>\n",
       "    <tr>\n",
       "      <th>3</th>\n",
       "      <td>1436</td>\n",
       "      <td>banker loses sexism claim a former executive a...</td>\n",
       "      <td>business</td>\n",
       "    </tr>\n",
       "    <tr>\n",
       "      <th>4</th>\n",
       "      <td>304</td>\n",
       "      <td>dallaglio eyeing lions tour place former engla...</td>\n",
       "      <td>sport</td>\n",
       "    </tr>\n",
       "  </tbody>\n",
       "</table>\n",
       "</div>"
      ],
      "text/plain": [
       "   ArticleId                                               Text  Category\n",
       "0       1155  chancellor rallies labour voters gordon brown ...  politics\n",
       "1       1980  india s maruti sees profits jump india s bigge...  business\n",
       "2        386  ukip s secret weapon  by any measure  new york...  politics\n",
       "3       1436  banker loses sexism claim a former executive a...  business\n",
       "4        304  dallaglio eyeing lions tour place former engla...     sport"
      ]
     },
     "execution_count": 2,
     "metadata": {},
     "output_type": "execute_result"
    }
   ],
   "source": [
    "train_df = pd.read_csv('/workspaces/codespaces-blank/news_classification/data/train.csv')\n",
    "valid_df = pd.read_csv('/workspaces/codespaces-blank/news_classification/data/valid.csv')\n",
    "train_df.head(5)"
   ]
  },
  {
   "cell_type": "code",
   "execution_count": 3,
   "metadata": {},
   "outputs": [
    {
     "data": {
      "text/html": [
       "<div>\n",
       "<style scoped>\n",
       "    .dataframe tbody tr th:only-of-type {\n",
       "        vertical-align: middle;\n",
       "    }\n",
       "\n",
       "    .dataframe tbody tr th {\n",
       "        vertical-align: top;\n",
       "    }\n",
       "\n",
       "    .dataframe thead th {\n",
       "        text-align: right;\n",
       "    }\n",
       "</style>\n",
       "<table border=\"1\" class=\"dataframe\">\n",
       "  <thead>\n",
       "    <tr style=\"text-align: right;\">\n",
       "      <th></th>\n",
       "      <th>ArticleId</th>\n",
       "    </tr>\n",
       "  </thead>\n",
       "  <tbody>\n",
       "    <tr>\n",
       "      <th>count</th>\n",
       "      <td>1043.000000</td>\n",
       "    </tr>\n",
       "    <tr>\n",
       "      <th>mean</th>\n",
       "      <td>1118.684564</td>\n",
       "    </tr>\n",
       "    <tr>\n",
       "      <th>std</th>\n",
       "      <td>644.332014</td>\n",
       "    </tr>\n",
       "    <tr>\n",
       "      <th>min</th>\n",
       "      <td>2.000000</td>\n",
       "    </tr>\n",
       "    <tr>\n",
       "      <th>25%</th>\n",
       "      <td>569.500000</td>\n",
       "    </tr>\n",
       "    <tr>\n",
       "      <th>50%</th>\n",
       "      <td>1106.000000</td>\n",
       "    </tr>\n",
       "    <tr>\n",
       "      <th>75%</th>\n",
       "      <td>1684.000000</td>\n",
       "    </tr>\n",
       "    <tr>\n",
       "      <th>max</th>\n",
       "      <td>2224.000000</td>\n",
       "    </tr>\n",
       "  </tbody>\n",
       "</table>\n",
       "</div>"
      ],
      "text/plain": [
       "         ArticleId\n",
       "count  1043.000000\n",
       "mean   1118.684564\n",
       "std     644.332014\n",
       "min       2.000000\n",
       "25%     569.500000\n",
       "50%    1106.000000\n",
       "75%    1684.000000\n",
       "max    2224.000000"
      ]
     },
     "execution_count": 3,
     "metadata": {},
     "output_type": "execute_result"
    }
   ],
   "source": [
    "train_df.describe()"
   ]
  },
  {
   "cell_type": "code",
   "execution_count": 4,
   "metadata": {},
   "outputs": [
    {
     "data": {
      "text/plain": [
       "(1043, 3)"
      ]
     },
     "execution_count": 4,
     "metadata": {},
     "output_type": "execute_result"
    }
   ],
   "source": [
    "train_df.shape"
   ]
  },
  {
   "cell_type": "code",
   "execution_count": 5,
   "metadata": {},
   "outputs": [
    {
     "name": "stdout",
     "output_type": "stream",
     "text": [
      "<class 'pandas.core.frame.DataFrame'>\n",
      "RangeIndex: 1043 entries, 0 to 1042\n",
      "Data columns (total 3 columns):\n",
      " #   Column     Non-Null Count  Dtype \n",
      "---  ------     --------------  ----- \n",
      " 0   ArticleId  1043 non-null   int64 \n",
      " 1   Text       1043 non-null   object\n",
      " 2   Category   1043 non-null   object\n",
      "dtypes: int64(1), object(2)\n",
      "memory usage: 24.6+ KB\n"
     ]
    }
   ],
   "source": [
    "train_df.info()"
   ]
  },
  {
   "cell_type": "code",
   "execution_count": 6,
   "metadata": {},
   "outputs": [
    {
     "data": {
      "text/plain": [
       "ArticleId     int64\n",
       "Text         object\n",
       "Category     object\n",
       "dtype: object"
      ]
     },
     "execution_count": 6,
     "metadata": {},
     "output_type": "execute_result"
    }
   ],
   "source": [
    "train_df.dtypes"
   ]
  },
  {
   "cell_type": "code",
   "execution_count": 7,
   "metadata": {},
   "outputs": [
    {
     "data": {
      "text/plain": [
       "ArticleId    0\n",
       "Text         0\n",
       "Category     0\n",
       "dtype: int64"
      ]
     },
     "execution_count": 7,
     "metadata": {},
     "output_type": "execute_result"
    }
   ],
   "source": [
    "train_df.isnull().sum()"
   ]
  },
  {
   "cell_type": "code",
   "execution_count": 8,
   "metadata": {},
   "outputs": [
    {
     "data": {
      "text/plain": [
       "['politics', 'business', 'sport', 'entertainment', 'tech']"
      ]
     },
     "execution_count": 8,
     "metadata": {},
     "output_type": "execute_result"
    }
   ],
   "source": [
    "columns_list = train_df['Category'].unique().tolist()\n",
    "columns_list"
   ]
  },
  {
   "cell_type": "code",
   "execution_count": 9,
   "metadata": {},
   "outputs": [
    {
     "name": "stdout",
     "output_type": "stream",
     "text": [
      "Total no of politics_is 196\n",
      "Total no of business_is 235\n",
      "Total no of sport_is 250\n",
      "Total no of entertainment_is 178\n",
      "Total no of tech_is 184\n"
     ]
    }
   ],
   "source": [
    "counts = train_df['Category'].value_counts()\n",
    "for col in columns_list:\n",
    "    col_sum = counts[col]\n",
    "    print(f'Total no of {col}_is {col_sum}')"
   ]
  },
  {
   "cell_type": "code",
   "execution_count": 10,
   "metadata": {},
   "outputs": [
    {
     "name": "stdout",
     "output_type": "stream",
     "text": [
      "india s maruti sees profits jump india s biggest carmaker maruti has reported a sharp increase in quarterly profit after a booming economy and low interest rates boosted demand.  net profit surged 70% to 2.39bn rupees ($54.98m; £29.32m) in the last three months of 2004 compared with 1.41bn rupees a year earlier. total sales were 30.1bn rupees  up 27% from the same 2004 period. maruti accounts for half of india s domestic car sales  luring consumers with cheap  fuel-efficient vehicles.  demand in india also has been driven by the poor state of public transport and the very low level of car ownership  analysts said.  figures show that only eight people per thousand are car owners. maruti beat market expectations despite an increase in raw materials costs. the company  majority-owned by japan s suzuki  said an increase in steel and other raw material prices was partially offset by cost cutting. sales in the fiscal third quarter  including vans and utility vehicles  rose by 17.8% to 136.069 units. maruti is not the only company benefiting as indian s economic growth gives consumer greater spending power. utility vehicle and tractor maker mahindra has reported a 52% rise in net profit during the last three months of 2004. profit was 1.33bn rupees compared with 874.2m rupees a year earlier.\n",
      "us adds more jobs than expected the us economy added 337 000 jobs in october - a seven-month high and far more than wall street expectations.  in a welcome economic boost for newly re-elected president george w bush  the labor department figures come after a slow summer of weak jobs gains. jobs were created in every sector of the us economy except manufacturing. while the separate unemployment rate went up to 5.5% from 5.4% in september  this was because more people were now actively seeking work.  the 337 000 new jobs added to us payrolls in october was twice the 169 000 figure that wall street economists had forecast. in addition  the labor department revised up the number of jobs created in the two previous months - to 139 000 in september instead of 96 000  and to 198 000 in august instead of 128 000. the better than expected jobs data had an immediate upward effect on stocks in new york  with the main dow jones index gaining 45.4 points to 10 360 by late morning trading.  it looks like the job situation is improving and that this will support consumer spending going into the holidays  and offset some of the drag caused by high oil prices this year   said economist gary thayer of ag edwards & sons.  other analysts said the upbeat jobs data made it more likely that the us federal reserve would increase interest rates by a quarter of a percentage point to 2% when it meets next week.  it should empower the fed to clearly do something   said robert macintosh  chief economist with eaton vance management in boston. kathleen utgoff  commissioner of the bureau of labor  said many of the 71 000 new construction jobs added in october were involved in rebuilding and clean-up work in florida  and neighbouring deep south states  following four hurricanes in august and september. the dollar rose temporarily on the job creation news before falling back to a new record low against the euro  as investors returned their attention to other economic factors  such as the us s record trade deficit. there is also speculation that president bush will deliberately try to keep the dollar low in order to assist a growth in exports.\n",
      "us adds more jobs than expected the us economy added 337 000 jobs in october - a seven-month high and far more than wall street expectations.  in a welcome economic boost for newly re-elected president george w bush  the labor department figures come after a slow summer of weak jobs gains. jobs were created in every sector of the us economy except manufacturing. while the separate unemployment rate went up to 5.5% from 5.4% in september  this was because more people were now actively seeking work.  the 337 000 new jobs added to us payrolls in october was twice the 169 000 figure that wall street economists had forecast. in addition  the labor department revised up the number of jobs created in the two previous months - to 139 000 in september instead of 96 000  and to 198 000 in august instead of 128 000. the better than expected jobs data had an immediate upward effect on stocks in new york  with the main dow jones index gaining 45.4 points to 10 360 by late morning trading.  it looks like the job situation is improving and that this will support consumer spending going into the holidays  and offset some of the drag caused by high oil prices this year   said economist gary thayer of ag edwards & sons.  other analysts said the upbeat jobs data made it more likely that the us federal reserve would increase interest rates by a quarter of a percentage point to 2% when it meets next week.  it should empower the fed to clearly do something   said robert macintosh  chief economist with eaton vance management in boston. kathleen utgoff  commissioner of the bureau of labor  said many of the 71 000 new construction jobs added in october were involved in rebuilding and clean-up work in florida  and neighbouring deep south states  following four hurricanes in august and september. the dollar rose temporarily on the job creation news before falling back to a new record low against the euro  as investors returned their attention to other economic factors  such as the us s record trade deficit. there is also speculation that president bush will deliberately try to keep the dollar low in order to assist a growth in exports.\n",
      "china aviation seeks rescue deal scandal-hit jet fuel supplier china aviation oil has offered to repay its creditors $220m (£117m) of the $550m it lost on trading in oil futures.  the firm said it hoped to pay $100m now and another $120m over eight years. with assets of $200m and liabilities totalling $648m  it needs creditors  backing for the offer to avoid going into bankruptcy. the trading scandal is the biggest to hit singapore since the $1.2bn collapse of barings bank in 1995. chen jiulin  chief executive of china aviation oil (cao)  was arrested by at changi airport by singapore police on 8 december. he was returning from china  where he had headed when cao announced its trading debacle in late-november. the firm had been betting heavily on a fall in the price of oil during october  but prices rose sharply instead.  among the creditors whose backing cao needs for its restructuring plan are banking giants such as barclay s capital and sumitomo mitsui  as well as south korean firm sk energy. of the immediate payment  the firm - china s biggest jet fuel supplier - said it would be paying $30m out of its own resources. the rest would come from its parent company  china aviation oil holding company in beijing. the holding company  owned by the chinese government  holds most of cao s singapore-listed shares. it cut its holding from 75% to 60% on 20 october.\n"
     ]
    }
   ],
   "source": [
    "print(train_df['Text'][1])\n",
    "\n",
    "print(train_df['Text'][10])\n",
    "\n",
    "print(train_df['Text'][10])\n",
    "\n",
    "print(train_df['Text'][400])\n"
   ]
  },
  {
   "attachments": {},
   "cell_type": "markdown",
   "metadata": {},
   "source": [
    "## CLEANING"
   ]
  },
  {
   "cell_type": "code",
   "execution_count": 11,
   "metadata": {},
   "outputs": [
    {
     "data": {
      "text/plain": [
       "0       CHANCELLOR RALLIES LABOUR VOTERS GORDON BROWN ...\n",
       "1       INDIA S MARUTI SEES PROFITS JUMP INDIA S BIGGE...\n",
       "2       UKIP S SECRET WEAPON  BY ANY MEASURE  NEW YORK...\n",
       "3       BANKER LOSES SEXISM CLAIM A FORMER EXECUTIVE A...\n",
       "4       DALLAGLIO EYEING LIONS TOUR PLACE FORMER ENGLA...\n",
       "                              ...                        \n",
       "1038    DOZENS HELD OVER ID FRAUD SITE TWENTY-EIGHT PE...\n",
       "1039    COMMODORE FINDS NEW LEASE OF LIFE THE ONCE-FAM...\n",
       "1040    FOCKERS KEEPS US BOX OFFICE LEAD FILM COMEDY M...\n",
       "1041    ASTRAZENECA HIT BY DRUG FAILURE SHARES IN ANGL...\n",
       "1042    GERMANY CALLS FOR EU REFORM GERMAN CHANCELLOR ...\n",
       "Name: Text, Length: 1043, dtype: object"
      ]
     },
     "execution_count": 11,
     "metadata": {},
     "output_type": "execute_result"
    }
   ],
   "source": [
    "train_df['Text'].str.upper()"
   ]
  },
  {
   "cell_type": "code",
   "execution_count": 12,
   "metadata": {},
   "outputs": [],
   "source": [
    "def remove_pun_nums(text):\n",
    "    text.upper()\n",
    "    text.replace('[{}]'.format(string.punctuation),'')\n",
    "    text.replace('\\d+', '',)\n",
    "    return text\n",
    "\n",
    "def remove_stopwords(text):\n",
    "    stop_words = set(stopwords.words('english'))\n",
    "    text = [word for word in text if word not in stop_words]\n",
    "    return text\n",
    "\n"
   ]
  },
  {
   "cell_type": "code",
   "execution_count": 13,
   "metadata": {},
   "outputs": [],
   "source": [
    "train_df['Text'] = train_df['Text'].apply(remove_pun_nums)"
   ]
  },
  {
   "cell_type": "code",
   "execution_count": 15,
   "metadata": {},
   "outputs": [],
   "source": [
    "train_df['Text'] = train_df['Text'].apply(remove_stopwords)"
   ]
  },
  {
   "cell_type": "code",
   "execution_count": 16,
   "metadata": {},
   "outputs": [
    {
     "name": "stdout",
     "output_type": "stream",
     "text": [
      "['n', ' ', ' ', 'r', 'u', ' ', 'e', 'e', ' ', 'p', 'r', 'f', ' ', 'j', 'u', 'p', ' ', 'n', ' ', ' ', 'b', 'g', 'g', 'e', ' ', 'c', 'r', 'k', 'e', 'r', ' ', 'r', 'u', ' ', 'h', ' ', 'r', 'e', 'p', 'r', 'e', ' ', ' ', 'h', 'r', 'p', ' ', 'n', 'c', 'r', 'e', 'e', ' ', 'n', ' ', 'q', 'u', 'r', 'e', 'r', 'l', ' ', 'p', 'r', 'f', ' ', 'f', 'e', 'r', ' ', ' ', 'b', 'n', 'g', ' ', 'e', 'c', 'n', ' ', 'n', ' ', 'l', 'w', ' ', 'n', 'e', 'r', 'e', ' ', 'r', 'e', ' ', 'b', 'e', ' ', 'e', 'n', '.', ' ', ' ', 'n', 'e', ' ', 'p', 'r', 'f', ' ', 'u', 'r', 'g', 'e', ' ', '7', '0', '%', ' ', ' ', '2', '.', '3', '9', 'b', 'n', ' ', 'r', 'u', 'p', 'e', 'e', ' ', '(', '$', '5', '4', '.', '9', '8', ';', ' ', '£', '2', '9', '.', '3', '2', ')', ' ', 'n', ' ', 'h', 'e', ' ', 'l', ' ', 'h', 'r', 'e', 'e', ' ', 'n', 'h', ' ', 'f', ' ', '2', '0', '0', '4', ' ', 'c', 'p', 'r', 'e', ' ', 'w', 'h', ' ', '1', '.', '4', '1', 'b', 'n', ' ', 'r', 'u', 'p', 'e', 'e', ' ', ' ', 'e', 'r', ' ', 'e', 'r', 'l', 'e', 'r', '.', ' ', 'l', ' ', 'l', 'e', ' ', 'w', 'e', 'r', 'e', ' ', '3', '0', '.', '1', 'b', 'n', ' ', 'r', 'u', 'p', 'e', 'e', ' ', ' ', 'u', 'p', ' ', '2', '7', '%', ' ', 'f', 'r', ' ', 'h', 'e', ' ', 'e', ' ', '2', '0', '0', '4', ' ', 'p', 'e', 'r', '.', ' ', 'r', 'u', ' ', 'c', 'c', 'u', 'n', ' ', 'f', 'r', ' ', 'h', 'l', 'f', ' ', 'f', ' ', 'n', ' ', ' ', 'e', 'c', ' ', 'c', 'r', ' ', 'l', 'e', ' ', ' ', 'l', 'u', 'r', 'n', 'g', ' ', 'c', 'n', 'u', 'e', 'r', ' ', 'w', 'h', ' ', 'c', 'h', 'e', 'p', ' ', ' ', 'f', 'u', 'e', 'l', '-', 'e', 'f', 'f', 'c', 'e', 'n', ' ', 'v', 'e', 'h', 'c', 'l', 'e', '.', ' ', ' ', 'e', 'n', ' ', 'n', ' ', 'n', ' ', 'l', ' ', 'h', ' ', 'b', 'e', 'e', 'n', ' ', 'r', 'v', 'e', 'n', ' ', 'b', ' ', 'h', 'e', ' ', 'p', 'r', ' ', 'e', ' ', 'f', ' ', 'p', 'u', 'b', 'l', 'c', ' ', 'r', 'n', 'p', 'r', ' ', 'n', ' ', 'h', 'e', ' ', 'v', 'e', 'r', ' ', 'l', 'w', ' ', 'l', 'e', 'v', 'e', 'l', ' ', 'f', ' ', 'c', 'r', ' ', 'w', 'n', 'e', 'r', 'h', 'p', ' ', ' ', 'n', 'l', ' ', '.', ' ', ' ', 'f', 'g', 'u', 'r', 'e', ' ', 'h', 'w', ' ', 'h', ' ', 'n', 'l', ' ', 'e', 'g', 'h', ' ', 'p', 'e', 'p', 'l', 'e', ' ', 'p', 'e', 'r', ' ', 'h', 'u', 'n', ' ', 'r', 'e', ' ', 'c', 'r', ' ', 'w', 'n', 'e', 'r', '.', ' ', 'r', 'u', ' ', 'b', 'e', ' ', 'r', 'k', 'e', ' ', 'e', 'x', 'p', 'e', 'c', 'n', ' ', 'e', 'p', 'e', ' ', 'n', ' ', 'n', 'c', 'r', 'e', 'e', ' ', 'n', ' ', 'r', 'w', ' ', 'e', 'r', 'l', ' ', 'c', '.', ' ', 'h', 'e', ' ', 'c', 'p', 'n', ' ', ' ', 'j', 'r', '-', 'w', 'n', 'e', ' ', 'b', ' ', 'j', 'p', 'n', ' ', ' ', 'u', 'z', 'u', 'k', ' ', ' ', ' ', 'n', ' ', 'n', 'c', 'r', 'e', 'e', ' ', 'n', ' ', 'e', 'e', 'l', ' ', 'n', ' ', 'h', 'e', 'r', ' ', 'r', 'w', ' ', 'e', 'r', 'l', ' ', 'p', 'r', 'c', 'e', ' ', 'w', ' ', 'p', 'r', 'l', 'l', ' ', 'f', 'f', 'e', ' ', 'b', ' ', 'c', ' ', 'c', 'u', 'n', 'g', '.', ' ', 'l', 'e', ' ', 'n', ' ', 'h', 'e', ' ', 'f', 'c', 'l', ' ', 'h', 'r', ' ', 'q', 'u', 'r', 'e', 'r', ' ', ' ', 'n', 'c', 'l', 'u', 'n', 'g', ' ', 'v', 'n', ' ', 'n', ' ', 'u', 'l', ' ', 'v', 'e', 'h', 'c', 'l', 'e', ' ', ' ', 'r', 'e', ' ', 'b', ' ', '1', '7', '.', '8', '%', ' ', ' ', '1', '3', '6', '.', '0', '6', '9', ' ', 'u', 'n', '.', ' ', 'r', 'u', ' ', ' ', 'n', ' ', 'h', 'e', ' ', 'n', 'l', ' ', 'c', 'p', 'n', ' ', 'b', 'e', 'n', 'e', 'f', 'n', 'g', ' ', ' ', 'n', 'n', ' ', ' ', 'e', 'c', 'n', 'c', ' ', 'g', 'r', 'w', 'h', ' ', 'g', 'v', 'e', ' ', 'c', 'n', 'u', 'e', 'r', ' ', 'g', 'r', 'e', 'e', 'r', ' ', 'p', 'e', 'n', 'n', 'g', ' ', 'p', 'w', 'e', 'r', '.', ' ', 'u', 'l', ' ', 'v', 'e', 'h', 'c', 'l', 'e', ' ', 'n', ' ', 'r', 'c', 'r', ' ', 'k', 'e', 'r', ' ', 'h', 'n', 'r', ' ', 'h', ' ', 'r', 'e', 'p', 'r', 'e', ' ', ' ', '5', '2', '%', ' ', 'r', 'e', ' ', 'n', ' ', 'n', 'e', ' ', 'p', 'r', 'f', ' ', 'u', 'r', 'n', 'g', ' ', 'h', 'e', ' ', 'l', ' ', 'h', 'r', 'e', 'e', ' ', 'n', 'h', ' ', 'f', ' ', '2', '0', '0', '4', '.', ' ', 'p', 'r', 'f', ' ', 'w', ' ', '1', '.', '3', '3', 'b', 'n', ' ', 'r', 'u', 'p', 'e', 'e', ' ', 'c', 'p', 'r', 'e', ' ', 'w', 'h', ' ', '8', '7', '4', '.', '2', ' ', 'r', 'u', 'p', 'e', 'e', ' ', ' ', 'e', 'r', ' ', 'e', 'r', 'l', 'e', 'r', '.']\n",
      "['u', ' ', ' ', 'r', 'e', ' ', 'j', 'b', ' ', 'h', 'n', ' ', 'e', 'x', 'p', 'e', 'c', 'e', ' ', 'h', 'e', ' ', 'u', ' ', 'e', 'c', 'n', ' ', 'e', ' ', '3', '3', '7', ' ', '0', '0', '0', ' ', 'j', 'b', ' ', 'n', ' ', 'c', 'b', 'e', 'r', ' ', '-', ' ', ' ', 'e', 'v', 'e', 'n', '-', 'n', 'h', ' ', 'h', 'g', 'h', ' ', 'n', ' ', 'f', 'r', ' ', 'r', 'e', ' ', 'h', 'n', ' ', 'w', 'l', 'l', ' ', 'r', 'e', 'e', ' ', 'e', 'x', 'p', 'e', 'c', 'n', '.', ' ', ' ', 'n', ' ', ' ', 'w', 'e', 'l', 'c', 'e', ' ', 'e', 'c', 'n', 'c', ' ', 'b', ' ', 'f', 'r', ' ', 'n', 'e', 'w', 'l', ' ', 'r', 'e', '-', 'e', 'l', 'e', 'c', 'e', ' ', 'p', 'r', 'e', 'e', 'n', ' ', 'g', 'e', 'r', 'g', 'e', ' ', 'w', ' ', 'b', 'u', 'h', ' ', ' ', 'h', 'e', ' ', 'l', 'b', 'r', ' ', 'e', 'p', 'r', 'e', 'n', ' ', 'f', 'g', 'u', 'r', 'e', ' ', 'c', 'e', ' ', 'f', 'e', 'r', ' ', ' ', 'l', 'w', ' ', 'u', 'e', 'r', ' ', 'f', ' ', 'w', 'e', 'k', ' ', 'j', 'b', ' ', 'g', 'n', '.', ' ', 'j', 'b', ' ', 'w', 'e', 'r', 'e', ' ', 'c', 'r', 'e', 'e', ' ', 'n', ' ', 'e', 'v', 'e', 'r', ' ', 'e', 'c', 'r', ' ', 'f', ' ', 'h', 'e', ' ', 'u', ' ', 'e', 'c', 'n', ' ', 'e', 'x', 'c', 'e', 'p', ' ', 'n', 'u', 'f', 'c', 'u', 'r', 'n', 'g', '.', ' ', 'w', 'h', 'l', 'e', ' ', 'h', 'e', ' ', 'e', 'p', 'r', 'e', ' ', 'u', 'n', 'e', 'p', 'l', 'e', 'n', ' ', 'r', 'e', ' ', 'w', 'e', 'n', ' ', 'u', 'p', ' ', ' ', '5', '.', '5', '%', ' ', 'f', 'r', ' ', '5', '.', '4', '%', ' ', 'n', ' ', 'e', 'p', 'e', 'b', 'e', 'r', ' ', ' ', 'h', ' ', 'w', ' ', 'b', 'e', 'c', 'u', 'e', ' ', 'r', 'e', ' ', 'p', 'e', 'p', 'l', 'e', ' ', 'w', 'e', 'r', 'e', ' ', 'n', 'w', ' ', 'c', 'v', 'e', 'l', ' ', 'e', 'e', 'k', 'n', 'g', ' ', 'w', 'r', 'k', '.', ' ', ' ', 'h', 'e', ' ', '3', '3', '7', ' ', '0', '0', '0', ' ', 'n', 'e', 'w', ' ', 'j', 'b', ' ', 'e', ' ', ' ', 'u', ' ', 'p', 'r', 'l', 'l', ' ', 'n', ' ', 'c', 'b', 'e', 'r', ' ', 'w', ' ', 'w', 'c', 'e', ' ', 'h', 'e', ' ', '1', '6', '9', ' ', '0', '0', '0', ' ', 'f', 'g', 'u', 'r', 'e', ' ', 'h', ' ', 'w', 'l', 'l', ' ', 'r', 'e', 'e', ' ', 'e', 'c', 'n', ' ', 'h', ' ', 'f', 'r', 'e', 'c', '.', ' ', 'n', ' ', 'n', ' ', ' ', 'h', 'e', ' ', 'l', 'b', 'r', ' ', 'e', 'p', 'r', 'e', 'n', ' ', 'r', 'e', 'v', 'e', ' ', 'u', 'p', ' ', 'h', 'e', ' ', 'n', 'u', 'b', 'e', 'r', ' ', 'f', ' ', 'j', 'b', ' ', 'c', 'r', 'e', 'e', ' ', 'n', ' ', 'h', 'e', ' ', 'w', ' ', 'p', 'r', 'e', 'v', 'u', ' ', 'n', 'h', ' ', '-', ' ', ' ', '1', '3', '9', ' ', '0', '0', '0', ' ', 'n', ' ', 'e', 'p', 'e', 'b', 'e', 'r', ' ', 'n', 'e', ' ', 'f', ' ', '9', '6', ' ', '0', '0', '0', ' ', ' ', 'n', ' ', ' ', '1', '9', '8', ' ', '0', '0', '0', ' ', 'n', ' ', 'u', 'g', 'u', ' ', 'n', 'e', ' ', 'f', ' ', '1', '2', '8', ' ', '0', '0', '0', '.', ' ', 'h', 'e', ' ', 'b', 'e', 'e', 'r', ' ', 'h', 'n', ' ', 'e', 'x', 'p', 'e', 'c', 'e', ' ', 'j', 'b', ' ', ' ', 'h', ' ', 'n', ' ', 'e', 'e', ' ', 'u', 'p', 'w', 'r', ' ', 'e', 'f', 'f', 'e', 'c', ' ', 'n', ' ', 'c', 'k', ' ', 'n', ' ', 'n', 'e', 'w', ' ', 'r', 'k', ' ', ' ', 'w', 'h', ' ', 'h', 'e', ' ', 'n', ' ', 'w', ' ', 'j', 'n', 'e', ' ', 'n', 'e', 'x', ' ', 'g', 'n', 'n', 'g', ' ', '4', '5', '.', '4', ' ', 'p', 'n', ' ', ' ', '1', '0', ' ', '3', '6', '0', ' ', 'b', ' ', 'l', 'e', ' ', 'r', 'n', 'n', 'g', ' ', 'r', 'n', 'g', '.', ' ', ' ', ' ', 'l', 'k', ' ', 'l', 'k', 'e', ' ', 'h', 'e', ' ', 'j', 'b', ' ', 'u', 'n', ' ', ' ', 'p', 'r', 'v', 'n', 'g', ' ', 'n', ' ', 'h', ' ', 'h', ' ', 'w', 'l', 'l', ' ', 'u', 'p', 'p', 'r', ' ', 'c', 'n', 'u', 'e', 'r', ' ', 'p', 'e', 'n', 'n', 'g', ' ', 'g', 'n', 'g', ' ', 'n', ' ', 'h', 'e', ' ', 'h', 'l', ' ', ' ', 'n', ' ', 'f', 'f', 'e', ' ', 'e', ' ', 'f', ' ', 'h', 'e', ' ', 'r', 'g', ' ', 'c', 'u', 'e', ' ', 'b', ' ', 'h', 'g', 'h', ' ', 'l', ' ', 'p', 'r', 'c', 'e', ' ', 'h', ' ', 'e', 'r', ' ', ' ', ' ', ' ', 'e', 'c', 'n', ' ', 'g', 'r', ' ', 'h', 'e', 'r', ' ', 'f', ' ', 'g', ' ', 'e', 'w', 'r', ' ', '&', ' ', 'n', '.', ' ', ' ', 'h', 'e', 'r', ' ', 'n', 'l', ' ', ' ', 'h', 'e', ' ', 'u', 'p', 'b', 'e', ' ', 'j', 'b', ' ', ' ', 'e', ' ', ' ', 'r', 'e', ' ', 'l', 'k', 'e', 'l', ' ', 'h', ' ', 'h', 'e', ' ', 'u', ' ', 'f', 'e', 'e', 'r', 'l', ' ', 'r', 'e', 'e', 'r', 'v', 'e', ' ', 'w', 'u', 'l', ' ', 'n', 'c', 'r', 'e', 'e', ' ', 'n', 'e', 'r', 'e', ' ', 'r', 'e', ' ', 'b', ' ', ' ', 'q', 'u', 'r', 'e', 'r', ' ', 'f', ' ', ' ', 'p', 'e', 'r', 'c', 'e', 'n', 'g', 'e', ' ', 'p', 'n', ' ', ' ', '2', '%', ' ', 'w', 'h', 'e', 'n', ' ', ' ', 'e', 'e', ' ', 'n', 'e', 'x', ' ', 'w', 'e', 'e', 'k', '.', ' ', ' ', ' ', 'h', 'u', 'l', ' ', 'e', 'p', 'w', 'e', 'r', ' ', 'h', 'e', ' ', 'f', 'e', ' ', ' ', 'c', 'l', 'e', 'r', 'l', ' ', ' ', 'e', 'h', 'n', 'g', ' ', ' ', ' ', ' ', 'r', 'b', 'e', 'r', ' ', 'c', 'n', 'h', ' ', ' ', 'c', 'h', 'e', 'f', ' ', 'e', 'c', 'n', ' ', 'w', 'h', ' ', 'e', 'n', ' ', 'v', 'n', 'c', 'e', ' ', 'n', 'g', 'e', 'e', 'n', ' ', 'n', ' ', 'b', 'n', '.', ' ', 'k', 'h', 'l', 'e', 'e', 'n', ' ', 'u', 'g', 'f', 'f', ' ', ' ', 'c', 'n', 'e', 'r', ' ', 'f', ' ', 'h', 'e', ' ', 'b', 'u', 'r', 'e', 'u', ' ', 'f', ' ', 'l', 'b', 'r', ' ', ' ', ' ', 'n', ' ', 'f', ' ', 'h', 'e', ' ', '7', '1', ' ', '0', '0', '0', ' ', 'n', 'e', 'w', ' ', 'c', 'n', 'r', 'u', 'c', 'n', ' ', 'j', 'b', ' ', 'e', ' ', 'n', ' ', 'c', 'b', 'e', 'r', ' ', 'w', 'e', 'r', 'e', ' ', 'n', 'v', 'l', 'v', 'e', ' ', 'n', ' ', 'r', 'e', 'b', 'u', 'l', 'n', 'g', ' ', 'n', ' ', 'c', 'l', 'e', 'n', '-', 'u', 'p', ' ', 'w', 'r', 'k', ' ', 'n', ' ', 'f', 'l', 'r', ' ', ' ', 'n', ' ', 'n', 'e', 'g', 'h', 'b', 'u', 'r', 'n', 'g', ' ', 'e', 'e', 'p', ' ', 'u', 'h', ' ', 'e', ' ', ' ', 'f', 'l', 'l', 'w', 'n', 'g', ' ', 'f', 'u', 'r', ' ', 'h', 'u', 'r', 'r', 'c', 'n', 'e', ' ', 'n', ' ', 'u', 'g', 'u', ' ', 'n', ' ', 'e', 'p', 'e', 'b', 'e', 'r', '.', ' ', 'h', 'e', ' ', 'l', 'l', 'r', ' ', 'r', 'e', ' ', 'e', 'p', 'r', 'r', 'l', ' ', 'n', ' ', 'h', 'e', ' ', 'j', 'b', ' ', 'c', 'r', 'e', 'n', ' ', 'n', 'e', 'w', ' ', 'b', 'e', 'f', 'r', 'e', ' ', 'f', 'l', 'l', 'n', 'g', ' ', 'b', 'c', 'k', ' ', ' ', ' ', 'n', 'e', 'w', ' ', 'r', 'e', 'c', 'r', ' ', 'l', 'w', ' ', 'g', 'n', ' ', 'h', 'e', ' ', 'e', 'u', 'r', ' ', ' ', ' ', 'n', 'v', 'e', 'r', ' ', 'r', 'e', 'u', 'r', 'n', 'e', ' ', 'h', 'e', 'r', ' ', 'e', 'n', 'n', ' ', ' ', 'h', 'e', 'r', ' ', 'e', 'c', 'n', 'c', ' ', 'f', 'c', 'r', ' ', ' ', 'u', 'c', 'h', ' ', ' ', 'h', 'e', ' ', 'u', ' ', ' ', 'r', 'e', 'c', 'r', ' ', 'r', 'e', ' ', 'e', 'f', 'c', '.', ' ', 'h', 'e', 'r', 'e', ' ', ' ', 'l', ' ', 'p', 'e', 'c', 'u', 'l', 'n', ' ', 'h', ' ', 'p', 'r', 'e', 'e', 'n', ' ', 'b', 'u', 'h', ' ', 'w', 'l', 'l', ' ', 'e', 'l', 'b', 'e', 'r', 'e', 'l', ' ', 'r', ' ', ' ', 'k', 'e', 'e', 'p', ' ', 'h', 'e', ' ', 'l', 'l', 'r', ' ', 'l', 'w', ' ', 'n', ' ', 'r', 'e', 'r', ' ', ' ', ' ', ' ', 'g', 'r', 'w', 'h', ' ', 'n', ' ', 'e', 'x', 'p', 'r', '.']\n",
      "['u', ' ', ' ', 'r', 'e', ' ', 'j', 'b', ' ', 'h', 'n', ' ', 'e', 'x', 'p', 'e', 'c', 'e', ' ', 'h', 'e', ' ', 'u', ' ', 'e', 'c', 'n', ' ', 'e', ' ', '3', '3', '7', ' ', '0', '0', '0', ' ', 'j', 'b', ' ', 'n', ' ', 'c', 'b', 'e', 'r', ' ', '-', ' ', ' ', 'e', 'v', 'e', 'n', '-', 'n', 'h', ' ', 'h', 'g', 'h', ' ', 'n', ' ', 'f', 'r', ' ', 'r', 'e', ' ', 'h', 'n', ' ', 'w', 'l', 'l', ' ', 'r', 'e', 'e', ' ', 'e', 'x', 'p', 'e', 'c', 'n', '.', ' ', ' ', 'n', ' ', ' ', 'w', 'e', 'l', 'c', 'e', ' ', 'e', 'c', 'n', 'c', ' ', 'b', ' ', 'f', 'r', ' ', 'n', 'e', 'w', 'l', ' ', 'r', 'e', '-', 'e', 'l', 'e', 'c', 'e', ' ', 'p', 'r', 'e', 'e', 'n', ' ', 'g', 'e', 'r', 'g', 'e', ' ', 'w', ' ', 'b', 'u', 'h', ' ', ' ', 'h', 'e', ' ', 'l', 'b', 'r', ' ', 'e', 'p', 'r', 'e', 'n', ' ', 'f', 'g', 'u', 'r', 'e', ' ', 'c', 'e', ' ', 'f', 'e', 'r', ' ', ' ', 'l', 'w', ' ', 'u', 'e', 'r', ' ', 'f', ' ', 'w', 'e', 'k', ' ', 'j', 'b', ' ', 'g', 'n', '.', ' ', 'j', 'b', ' ', 'w', 'e', 'r', 'e', ' ', 'c', 'r', 'e', 'e', ' ', 'n', ' ', 'e', 'v', 'e', 'r', ' ', 'e', 'c', 'r', ' ', 'f', ' ', 'h', 'e', ' ', 'u', ' ', 'e', 'c', 'n', ' ', 'e', 'x', 'c', 'e', 'p', ' ', 'n', 'u', 'f', 'c', 'u', 'r', 'n', 'g', '.', ' ', 'w', 'h', 'l', 'e', ' ', 'h', 'e', ' ', 'e', 'p', 'r', 'e', ' ', 'u', 'n', 'e', 'p', 'l', 'e', 'n', ' ', 'r', 'e', ' ', 'w', 'e', 'n', ' ', 'u', 'p', ' ', ' ', '5', '.', '5', '%', ' ', 'f', 'r', ' ', '5', '.', '4', '%', ' ', 'n', ' ', 'e', 'p', 'e', 'b', 'e', 'r', ' ', ' ', 'h', ' ', 'w', ' ', 'b', 'e', 'c', 'u', 'e', ' ', 'r', 'e', ' ', 'p', 'e', 'p', 'l', 'e', ' ', 'w', 'e', 'r', 'e', ' ', 'n', 'w', ' ', 'c', 'v', 'e', 'l', ' ', 'e', 'e', 'k', 'n', 'g', ' ', 'w', 'r', 'k', '.', ' ', ' ', 'h', 'e', ' ', '3', '3', '7', ' ', '0', '0', '0', ' ', 'n', 'e', 'w', ' ', 'j', 'b', ' ', 'e', ' ', ' ', 'u', ' ', 'p', 'r', 'l', 'l', ' ', 'n', ' ', 'c', 'b', 'e', 'r', ' ', 'w', ' ', 'w', 'c', 'e', ' ', 'h', 'e', ' ', '1', '6', '9', ' ', '0', '0', '0', ' ', 'f', 'g', 'u', 'r', 'e', ' ', 'h', ' ', 'w', 'l', 'l', ' ', 'r', 'e', 'e', ' ', 'e', 'c', 'n', ' ', 'h', ' ', 'f', 'r', 'e', 'c', '.', ' ', 'n', ' ', 'n', ' ', ' ', 'h', 'e', ' ', 'l', 'b', 'r', ' ', 'e', 'p', 'r', 'e', 'n', ' ', 'r', 'e', 'v', 'e', ' ', 'u', 'p', ' ', 'h', 'e', ' ', 'n', 'u', 'b', 'e', 'r', ' ', 'f', ' ', 'j', 'b', ' ', 'c', 'r', 'e', 'e', ' ', 'n', ' ', 'h', 'e', ' ', 'w', ' ', 'p', 'r', 'e', 'v', 'u', ' ', 'n', 'h', ' ', '-', ' ', ' ', '1', '3', '9', ' ', '0', '0', '0', ' ', 'n', ' ', 'e', 'p', 'e', 'b', 'e', 'r', ' ', 'n', 'e', ' ', 'f', ' ', '9', '6', ' ', '0', '0', '0', ' ', ' ', 'n', ' ', ' ', '1', '9', '8', ' ', '0', '0', '0', ' ', 'n', ' ', 'u', 'g', 'u', ' ', 'n', 'e', ' ', 'f', ' ', '1', '2', '8', ' ', '0', '0', '0', '.', ' ', 'h', 'e', ' ', 'b', 'e', 'e', 'r', ' ', 'h', 'n', ' ', 'e', 'x', 'p', 'e', 'c', 'e', ' ', 'j', 'b', ' ', ' ', 'h', ' ', 'n', ' ', 'e', 'e', ' ', 'u', 'p', 'w', 'r', ' ', 'e', 'f', 'f', 'e', 'c', ' ', 'n', ' ', 'c', 'k', ' ', 'n', ' ', 'n', 'e', 'w', ' ', 'r', 'k', ' ', ' ', 'w', 'h', ' ', 'h', 'e', ' ', 'n', ' ', 'w', ' ', 'j', 'n', 'e', ' ', 'n', 'e', 'x', ' ', 'g', 'n', 'n', 'g', ' ', '4', '5', '.', '4', ' ', 'p', 'n', ' ', ' ', '1', '0', ' ', '3', '6', '0', ' ', 'b', ' ', 'l', 'e', ' ', 'r', 'n', 'n', 'g', ' ', 'r', 'n', 'g', '.', ' ', ' ', ' ', 'l', 'k', ' ', 'l', 'k', 'e', ' ', 'h', 'e', ' ', 'j', 'b', ' ', 'u', 'n', ' ', ' ', 'p', 'r', 'v', 'n', 'g', ' ', 'n', ' ', 'h', ' ', 'h', ' ', 'w', 'l', 'l', ' ', 'u', 'p', 'p', 'r', ' ', 'c', 'n', 'u', 'e', 'r', ' ', 'p', 'e', 'n', 'n', 'g', ' ', 'g', 'n', 'g', ' ', 'n', ' ', 'h', 'e', ' ', 'h', 'l', ' ', ' ', 'n', ' ', 'f', 'f', 'e', ' ', 'e', ' ', 'f', ' ', 'h', 'e', ' ', 'r', 'g', ' ', 'c', 'u', 'e', ' ', 'b', ' ', 'h', 'g', 'h', ' ', 'l', ' ', 'p', 'r', 'c', 'e', ' ', 'h', ' ', 'e', 'r', ' ', ' ', ' ', ' ', 'e', 'c', 'n', ' ', 'g', 'r', ' ', 'h', 'e', 'r', ' ', 'f', ' ', 'g', ' ', 'e', 'w', 'r', ' ', '&', ' ', 'n', '.', ' ', ' ', 'h', 'e', 'r', ' ', 'n', 'l', ' ', ' ', 'h', 'e', ' ', 'u', 'p', 'b', 'e', ' ', 'j', 'b', ' ', ' ', 'e', ' ', ' ', 'r', 'e', ' ', 'l', 'k', 'e', 'l', ' ', 'h', ' ', 'h', 'e', ' ', 'u', ' ', 'f', 'e', 'e', 'r', 'l', ' ', 'r', 'e', 'e', 'r', 'v', 'e', ' ', 'w', 'u', 'l', ' ', 'n', 'c', 'r', 'e', 'e', ' ', 'n', 'e', 'r', 'e', ' ', 'r', 'e', ' ', 'b', ' ', ' ', 'q', 'u', 'r', 'e', 'r', ' ', 'f', ' ', ' ', 'p', 'e', 'r', 'c', 'e', 'n', 'g', 'e', ' ', 'p', 'n', ' ', ' ', '2', '%', ' ', 'w', 'h', 'e', 'n', ' ', ' ', 'e', 'e', ' ', 'n', 'e', 'x', ' ', 'w', 'e', 'e', 'k', '.', ' ', ' ', ' ', 'h', 'u', 'l', ' ', 'e', 'p', 'w', 'e', 'r', ' ', 'h', 'e', ' ', 'f', 'e', ' ', ' ', 'c', 'l', 'e', 'r', 'l', ' ', ' ', 'e', 'h', 'n', 'g', ' ', ' ', ' ', ' ', 'r', 'b', 'e', 'r', ' ', 'c', 'n', 'h', ' ', ' ', 'c', 'h', 'e', 'f', ' ', 'e', 'c', 'n', ' ', 'w', 'h', ' ', 'e', 'n', ' ', 'v', 'n', 'c', 'e', ' ', 'n', 'g', 'e', 'e', 'n', ' ', 'n', ' ', 'b', 'n', '.', ' ', 'k', 'h', 'l', 'e', 'e', 'n', ' ', 'u', 'g', 'f', 'f', ' ', ' ', 'c', 'n', 'e', 'r', ' ', 'f', ' ', 'h', 'e', ' ', 'b', 'u', 'r', 'e', 'u', ' ', 'f', ' ', 'l', 'b', 'r', ' ', ' ', ' ', 'n', ' ', 'f', ' ', 'h', 'e', ' ', '7', '1', ' ', '0', '0', '0', ' ', 'n', 'e', 'w', ' ', 'c', 'n', 'r', 'u', 'c', 'n', ' ', 'j', 'b', ' ', 'e', ' ', 'n', ' ', 'c', 'b', 'e', 'r', ' ', 'w', 'e', 'r', 'e', ' ', 'n', 'v', 'l', 'v', 'e', ' ', 'n', ' ', 'r', 'e', 'b', 'u', 'l', 'n', 'g', ' ', 'n', ' ', 'c', 'l', 'e', 'n', '-', 'u', 'p', ' ', 'w', 'r', 'k', ' ', 'n', ' ', 'f', 'l', 'r', ' ', ' ', 'n', ' ', 'n', 'e', 'g', 'h', 'b', 'u', 'r', 'n', 'g', ' ', 'e', 'e', 'p', ' ', 'u', 'h', ' ', 'e', ' ', ' ', 'f', 'l', 'l', 'w', 'n', 'g', ' ', 'f', 'u', 'r', ' ', 'h', 'u', 'r', 'r', 'c', 'n', 'e', ' ', 'n', ' ', 'u', 'g', 'u', ' ', 'n', ' ', 'e', 'p', 'e', 'b', 'e', 'r', '.', ' ', 'h', 'e', ' ', 'l', 'l', 'r', ' ', 'r', 'e', ' ', 'e', 'p', 'r', 'r', 'l', ' ', 'n', ' ', 'h', 'e', ' ', 'j', 'b', ' ', 'c', 'r', 'e', 'n', ' ', 'n', 'e', 'w', ' ', 'b', 'e', 'f', 'r', 'e', ' ', 'f', 'l', 'l', 'n', 'g', ' ', 'b', 'c', 'k', ' ', ' ', ' ', 'n', 'e', 'w', ' ', 'r', 'e', 'c', 'r', ' ', 'l', 'w', ' ', 'g', 'n', ' ', 'h', 'e', ' ', 'e', 'u', 'r', ' ', ' ', ' ', 'n', 'v', 'e', 'r', ' ', 'r', 'e', 'u', 'r', 'n', 'e', ' ', 'h', 'e', 'r', ' ', 'e', 'n', 'n', ' ', ' ', 'h', 'e', 'r', ' ', 'e', 'c', 'n', 'c', ' ', 'f', 'c', 'r', ' ', ' ', 'u', 'c', 'h', ' ', ' ', 'h', 'e', ' ', 'u', ' ', ' ', 'r', 'e', 'c', 'r', ' ', 'r', 'e', ' ', 'e', 'f', 'c', '.', ' ', 'h', 'e', 'r', 'e', ' ', ' ', 'l', ' ', 'p', 'e', 'c', 'u', 'l', 'n', ' ', 'h', ' ', 'p', 'r', 'e', 'e', 'n', ' ', 'b', 'u', 'h', ' ', 'w', 'l', 'l', ' ', 'e', 'l', 'b', 'e', 'r', 'e', 'l', ' ', 'r', ' ', ' ', 'k', 'e', 'e', 'p', ' ', 'h', 'e', ' ', 'l', 'l', 'r', ' ', 'l', 'w', ' ', 'n', ' ', 'r', 'e', 'r', ' ', ' ', ' ', ' ', 'g', 'r', 'w', 'h', ' ', 'n', ' ', 'e', 'x', 'p', 'r', '.']\n",
      "['c', 'h', 'n', ' ', 'v', 'n', ' ', 'e', 'e', 'k', ' ', 'r', 'e', 'c', 'u', 'e', ' ', 'e', 'l', ' ', 'c', 'n', 'l', '-', 'h', ' ', 'j', 'e', ' ', 'f', 'u', 'e', 'l', ' ', 'u', 'p', 'p', 'l', 'e', 'r', ' ', 'c', 'h', 'n', ' ', 'v', 'n', ' ', 'l', ' ', 'h', ' ', 'f', 'f', 'e', 'r', 'e', ' ', ' ', 'r', 'e', 'p', ' ', ' ', 'c', 'r', 'e', 'r', ' ', '$', '2', '2', '0', ' ', '(', '£', '1', '1', '7', ')', ' ', 'f', ' ', 'h', 'e', ' ', '$', '5', '5', '0', ' ', ' ', 'l', ' ', 'n', ' ', 'r', 'n', 'g', ' ', 'n', ' ', 'l', ' ', 'f', 'u', 'u', 'r', 'e', '.', ' ', ' ', 'h', 'e', ' ', 'f', 'r', ' ', ' ', ' ', 'h', 'p', 'e', ' ', ' ', 'p', ' ', '$', '1', '0', '0', ' ', 'n', 'w', ' ', 'n', ' ', 'n', 'h', 'e', 'r', ' ', '$', '1', '2', '0', ' ', 'v', 'e', 'r', ' ', 'e', 'g', 'h', ' ', 'e', 'r', '.', ' ', 'w', 'h', ' ', 'e', ' ', 'f', ' ', '$', '2', '0', '0', ' ', 'n', ' ', 'l', 'b', 'l', 'e', ' ', 'l', 'l', 'n', 'g', ' ', '$', '6', '4', '8', ' ', ' ', ' ', 'n', 'e', 'e', ' ', 'c', 'r', 'e', 'r', ' ', ' ', 'b', 'c', 'k', 'n', 'g', ' ', 'f', 'r', ' ', 'h', 'e', ' ', 'f', 'f', 'e', 'r', ' ', ' ', 'v', ' ', 'g', 'n', 'g', ' ', 'n', ' ', 'b', 'n', 'k', 'r', 'u', 'p', 'c', '.', ' ', 'h', 'e', ' ', 'r', 'n', 'g', ' ', 'c', 'n', 'l', ' ', ' ', 'h', 'e', ' ', 'b', 'g', 'g', 'e', ' ', ' ', 'h', ' ', 'n', 'g', 'p', 'r', 'e', ' ', 'n', 'c', 'e', ' ', 'h', 'e', ' ', '$', '1', '.', '2', 'b', 'n', ' ', 'c', 'l', 'l', 'p', 'e', ' ', 'f', ' ', 'b', 'r', 'n', 'g', ' ', 'b', 'n', 'k', ' ', 'n', ' ', '1', '9', '9', '5', '.', ' ', 'c', 'h', 'e', 'n', ' ', 'j', 'u', 'l', 'n', ' ', ' ', 'c', 'h', 'e', 'f', ' ', 'e', 'x', 'e', 'c', 'u', 'v', 'e', ' ', 'f', ' ', 'c', 'h', 'n', ' ', 'v', 'n', ' ', 'l', ' ', '(', 'c', ')', ' ', ' ', 'w', ' ', 'r', 'r', 'e', 'e', ' ', 'b', ' ', ' ', 'c', 'h', 'n', 'g', ' ', 'r', 'p', 'r', ' ', 'b', ' ', 'n', 'g', 'p', 'r', 'e', ' ', 'p', 'l', 'c', 'e', ' ', 'n', ' ', '8', ' ', 'e', 'c', 'e', 'b', 'e', 'r', '.', ' ', 'h', 'e', ' ', 'w', ' ', 'r', 'e', 'u', 'r', 'n', 'n', 'g', ' ', 'f', 'r', ' ', 'c', 'h', 'n', ' ', ' ', 'w', 'h', 'e', 'r', 'e', ' ', 'h', 'e', ' ', 'h', ' ', 'h', 'e', 'e', ' ', 'w', 'h', 'e', 'n', ' ', 'c', ' ', 'n', 'n', 'u', 'n', 'c', 'e', ' ', ' ', 'r', 'n', 'g', ' ', 'e', 'b', 'c', 'l', 'e', ' ', 'n', ' ', 'l', 'e', '-', 'n', 'v', 'e', 'b', 'e', 'r', '.', ' ', 'h', 'e', ' ', 'f', 'r', ' ', 'h', ' ', 'b', 'e', 'e', 'n', ' ', 'b', 'e', 'n', 'g', ' ', 'h', 'e', 'v', 'l', ' ', 'n', ' ', ' ', 'f', 'l', 'l', ' ', 'n', ' ', 'h', 'e', ' ', 'p', 'r', 'c', 'e', ' ', 'f', ' ', 'l', ' ', 'u', 'r', 'n', 'g', ' ', 'c', 'b', 'e', 'r', ' ', ' ', 'b', 'u', ' ', 'p', 'r', 'c', 'e', ' ', 'r', 'e', ' ', 'h', 'r', 'p', 'l', ' ', 'n', 'e', '.', ' ', ' ', 'n', 'g', ' ', 'h', 'e', ' ', 'c', 'r', 'e', 'r', ' ', 'w', 'h', 'e', ' ', 'b', 'c', 'k', 'n', 'g', ' ', 'c', ' ', 'n', 'e', 'e', ' ', 'f', 'r', ' ', ' ', 'r', 'e', 'r', 'u', 'c', 'u', 'r', 'n', 'g', ' ', 'p', 'l', 'n', ' ', 'r', 'e', ' ', 'b', 'n', 'k', 'n', 'g', ' ', 'g', 'n', ' ', 'u', 'c', 'h', ' ', ' ', 'b', 'r', 'c', 'l', ' ', ' ', 'c', 'p', 'l', ' ', 'n', ' ', 'u', ' ', 'u', ' ', ' ', ' ', 'w', 'e', 'l', 'l', ' ', ' ', 'u', 'h', ' ', 'k', 'r', 'e', 'n', ' ', 'f', 'r', ' ', 'k', ' ', 'e', 'n', 'e', 'r', 'g', '.', ' ', 'f', ' ', 'h', 'e', ' ', 'e', 'e', ' ', 'p', 'e', 'n', ' ', ' ', 'h', 'e', ' ', 'f', 'r', ' ', '-', ' ', 'c', 'h', 'n', ' ', ' ', 'b', 'g', 'g', 'e', ' ', 'j', 'e', ' ', 'f', 'u', 'e', 'l', ' ', 'u', 'p', 'p', 'l', 'e', 'r', ' ', '-', ' ', ' ', ' ', 'w', 'u', 'l', ' ', 'b', 'e', ' ', 'p', 'n', 'g', ' ', '$', '3', '0', ' ', 'u', ' ', 'f', ' ', ' ', 'w', 'n', ' ', 'r', 'e', 'u', 'r', 'c', 'e', '.', ' ', 'h', 'e', ' ', 'r', 'e', ' ', 'w', 'u', 'l', ' ', 'c', 'e', ' ', 'f', 'r', ' ', ' ', 'p', 'r', 'e', 'n', ' ', 'c', 'p', 'n', ' ', ' ', 'c', 'h', 'n', ' ', 'v', 'n', ' ', 'l', ' ', 'h', 'l', 'n', 'g', ' ', 'c', 'p', 'n', ' ', 'n', ' ', 'b', 'e', 'j', 'n', 'g', '.', ' ', 'h', 'e', ' ', 'h', 'l', 'n', 'g', ' ', 'c', 'p', 'n', ' ', ' ', 'w', 'n', 'e', ' ', 'b', ' ', 'h', 'e', ' ', 'c', 'h', 'n', 'e', 'e', ' ', 'g', 'v', 'e', 'r', 'n', 'e', 'n', ' ', ' ', 'h', 'l', ' ', ' ', 'f', ' ', 'c', ' ', ' ', 'n', 'g', 'p', 'r', 'e', '-', 'l', 'e', ' ', 'h', 'r', 'e', '.', ' ', ' ', 'c', 'u', ' ', ' ', 'h', 'l', 'n', 'g', ' ', 'f', 'r', ' ', '7', '5', '%', ' ', ' ', '6', '0', '%', ' ', 'n', ' ', '2', '0', ' ', 'c', 'b', 'e', 'r', '.']\n"
     ]
    }
   ],
   "source": [
    "print(train_df['Text'][1])\n",
    "\n",
    "print(train_df['Text'][10])\n",
    "\n",
    "print(train_df['Text'][10])\n",
    "\n",
    "print(train_df['Text'][400])\n"
   ]
  }
 ],
 "metadata": {
  "kernelspec": {
   "display_name": "Python 3",
   "language": "python",
   "name": "python3"
  },
  "language_info": {
   "codemirror_mode": {
    "name": "ipython",
    "version": 3
   },
   "file_extension": ".py",
   "mimetype": "text/x-python",
   "name": "python",
   "nbconvert_exporter": "python",
   "pygments_lexer": "ipython3",
   "version": "3.10.4"
  },
  "orig_nbformat": 4
 },
 "nbformat": 4,
 "nbformat_minor": 2
}
