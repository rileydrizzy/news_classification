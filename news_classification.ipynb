{
 "cells": [
  {
   "cell_type": "code",
   "execution_count": 20,
   "metadata": {},
   "outputs": [
    {
     "name": "stderr",
     "output_type": "stream",
     "text": [
      "[nltk_data] Downloading package stopwords to\n",
      "[nltk_data]     /home/codespace/nltk_data...\n",
      "[nltk_data]   Package stopwords is already up-to-date!\n"
     ]
    }
   ],
   "source": [
    " #Importing Libraries\n",
    "import pandas as pd\n",
    "from sklearn.metrics import accuracy_score,classification_report\n",
    "from sklearn.metrics import confusion_matrix, ConfusionMatrixDisplay,roc_auc_score, RocCurveDisplay,roc_curve\n",
    "from sklearn.feature_extraction.text import TfidfVectorizer\n",
    "from sklearn.pipeline import Pipeline\n",
    "from sklearn.model_selection import GridSearchCV\n",
    "import matplotlib.pyplot as plt\n",
    "import nltk\n",
    "import string\n",
    "import numpy as np\n",
    "nltk.download('stopwords')\n",
    "from nltk.corpus import stopwords\n",
    "import re\n",
    "import time\n",
    "import copy\n",
    "from sklearn.model_selection import cross_val_score, cross_val_predict\n",
    "from sklearn.preprocessing import LabelEncoder, StandardScaler\n",
    "from sklearn.base import BaseEstimator,TransformerMixin\n",
    "from sklearn.pipeline import FeatureUnion\n",
    "from sklearn.svm import SVC\n",
    "from itertools import cycle"
   ]
  },
  {
   "cell_type": "code",
   "execution_count": 2,
   "metadata": {},
   "outputs": [],
   "source": [
    "import pathlib\n",
    "from pathlib import Path\n",
    "train_path = Path('data','train.csv') \n",
    "test_path = Path('data', 'valid.csv')"
   ]
  },
  {
   "cell_type": "code",
   "execution_count": 3,
   "metadata": {},
   "outputs": [
    {
     "data": {
      "text/html": [
       "<div>\n",
       "<style scoped>\n",
       "    .dataframe tbody tr th:only-of-type {\n",
       "        vertical-align: middle;\n",
       "    }\n",
       "\n",
       "    .dataframe tbody tr th {\n",
       "        vertical-align: top;\n",
       "    }\n",
       "\n",
       "    .dataframe thead th {\n",
       "        text-align: right;\n",
       "    }\n",
       "</style>\n",
       "<table border=\"1\" class=\"dataframe\">\n",
       "  <thead>\n",
       "    <tr style=\"text-align: right;\">\n",
       "      <th></th>\n",
       "      <th>ArticleId</th>\n",
       "      <th>Text</th>\n",
       "      <th>Category</th>\n",
       "    </tr>\n",
       "  </thead>\n",
       "  <tbody>\n",
       "    <tr>\n",
       "      <th>0</th>\n",
       "      <td>1155</td>\n",
       "      <td>chancellor rallies labour voters gordon brown ...</td>\n",
       "      <td>politics</td>\n",
       "    </tr>\n",
       "    <tr>\n",
       "      <th>1</th>\n",
       "      <td>1980</td>\n",
       "      <td>india s maruti sees profits jump india s bigge...</td>\n",
       "      <td>business</td>\n",
       "    </tr>\n",
       "    <tr>\n",
       "      <th>2</th>\n",
       "      <td>386</td>\n",
       "      <td>ukip s secret weapon  by any measure  new york...</td>\n",
       "      <td>politics</td>\n",
       "    </tr>\n",
       "    <tr>\n",
       "      <th>3</th>\n",
       "      <td>1436</td>\n",
       "      <td>banker loses sexism claim a former executive a...</td>\n",
       "      <td>business</td>\n",
       "    </tr>\n",
       "    <tr>\n",
       "      <th>4</th>\n",
       "      <td>304</td>\n",
       "      <td>dallaglio eyeing lions tour place former engla...</td>\n",
       "      <td>sport</td>\n",
       "    </tr>\n",
       "  </tbody>\n",
       "</table>\n",
       "</div>"
      ],
      "text/plain": [
       "   ArticleId                                               Text  Category\n",
       "0       1155  chancellor rallies labour voters gordon brown ...  politics\n",
       "1       1980  india s maruti sees profits jump india s bigge...  business\n",
       "2        386  ukip s secret weapon  by any measure  new york...  politics\n",
       "3       1436  banker loses sexism claim a former executive a...  business\n",
       "4        304  dallaglio eyeing lions tour place former engla...     sport"
      ]
     },
     "execution_count": 3,
     "metadata": {},
     "output_type": "execute_result"
    }
   ],
   "source": [
    "train_df = pd.read_csv(train_path)\n",
    "test_df = pd.read_csv(test_path)\n",
    "train_df.head(5)"
   ]
  },
  {
   "cell_type": "code",
   "execution_count": 4,
   "metadata": {},
   "outputs": [
    {
     "data": {
      "text/plain": [
       "(1043, 3)"
      ]
     },
     "execution_count": 4,
     "metadata": {},
     "output_type": "execute_result"
    }
   ],
   "source": [
    "train_df.shape"
   ]
  },
  {
   "cell_type": "code",
   "execution_count": 5,
   "metadata": {},
   "outputs": [
    {
     "name": "stdout",
     "output_type": "stream",
     "text": [
      "<class 'pandas.core.frame.DataFrame'>\n",
      "RangeIndex: 1043 entries, 0 to 1042\n",
      "Data columns (total 3 columns):\n",
      " #   Column     Non-Null Count  Dtype \n",
      "---  ------     --------------  ----- \n",
      " 0   ArticleId  1043 non-null   int64 \n",
      " 1   Text       1043 non-null   object\n",
      " 2   Category   1043 non-null   object\n",
      "dtypes: int64(1), object(2)\n",
      "memory usage: 24.6+ KB\n"
     ]
    }
   ],
   "source": [
    "train_df.info()"
   ]
  },
  {
   "cell_type": "code",
   "execution_count": 6,
   "metadata": {},
   "outputs": [
    {
     "data": {
      "text/plain": [
       "ArticleId    0\n",
       "Text         0\n",
       "Category     0\n",
       "dtype: int64"
      ]
     },
     "execution_count": 6,
     "metadata": {},
     "output_type": "execute_result"
    }
   ],
   "source": [
    "train_df.isnull().sum()"
   ]
  },
  {
   "cell_type": "code",
   "execution_count": 7,
   "metadata": {},
   "outputs": [
    {
     "data": {
      "text/plain": [
       "['politics', 'business', 'sport', 'entertainment', 'tech']"
      ]
     },
     "execution_count": 7,
     "metadata": {},
     "output_type": "execute_result"
    }
   ],
   "source": [
    "target_names = train_df['Category'].unique().tolist()\n",
    "target_names"
   ]
  },
  {
   "cell_type": "code",
   "execution_count": 8,
   "metadata": {},
   "outputs": [
    {
     "name": "stdout",
     "output_type": "stream",
     "text": [
      "chancellor rallies labour voters gordon brown has issued a rallying cry to supporters  warning the  stakes are too high  to stay at home or protest vote in the next general election.  the chancellor said the poll - expected to fall on 5 may - would give a  clear and fundamental  choice between labour investment and tory cuts. he told his party s spring conference the tories must not be allowed to win. the conservatives and lib dems insisted that voters faced higher taxes and means-testing under labour.  to a packed audience at gateshead s sage centre  mr brown accused shadow chancellor oliver letwin of plotting cuts that were the equivalent of sacking every teacher  gp and nurse in the country. laying into the conservative s record in government he said:  i give you this promise - with labour  britain will never return to the mistakes of erm and 10% inflation  15% interest rates  £3bn in lost reserves  250 000 repossessed  one million in negative equity and three million unemployed.  never again tory boom and bust.   this will be the central dividing line at the election  between a conservative party taking britain back and planning deep cuts of £35bn in our services  and a labour government taking britain forward  which on a platform of stability will reform and renew our hospitals  schools and public services and  i am proud to say  spend by 2008 £60bn more.  turning to the economy  the chancellor promised to continue economic stability and growth in a third term in power.  he also pledged to continue the fight against child and pensioner poverty. and he promised help to get young people on the property ladder.  my message to the thousands of young couples waiting to obtain their first home is that housing is rightly now at the centre of our coming manifesto   he said.  and the next labour government will match our low mortgage rates with a new first-time buyers  initiative.  in the speech  which prompted a standing ovation  he also promised to end teenage unemployment within the next five years.  he also highlighted plans for 100% debt relief for the world s poorest countries  a national minimum wage for 16 and 17-year-olds  the creation of a network of children s centres and flexibility in maternity leave. responding to the speech  shadow chief secretary to the treasury  george osborne  said:  this was more talk from gordon brown.  we ve heard it all before. instead of talking about the future he kept on talking about the past.  he completely failed to say which taxes he would put up to fill the black hole in his spending plans.  there will be a simple choice at the election - value for money and lower taxes with the conservatives  or more waste and higher taxes under tony blair and gordon brown.   liberal democrat shadow chancellor vince cable warned the picture was not as rosy as mr brown would like to portray it.  for all his trumpeting of labour s management of the economy  gordon brown s record is very mixed   he said.  gordon brown has created a system of massive centralisation and bureaucracy  a system which subjects millions of people to means testing  and a system of taxation which is extremely complex.  for all his positive words  gordon brown is faced with economic problems looming on the horizon  not least the unprecedented levels of personal debt facing the nation.  also in gateshead  the prime minister took questions sent in by e-mail  text message and telephone as part of labour s attempt to engage the public in their campaign. mr blair told the audience he believed the iraq war would have made britain a safer place if its emerging democracy succeeded and that he wanted to bring troops home as soon as possible  but not before the job was done. he also said he wanted to carry on as pm  because i still think that there are big changes our country needs .\n",
      "lib dems  new election pr chief the lib dems have appointed a senior figure from bt to be the party s new communications chief for their next general election effort.  sandy walkington will now work with senior figures such as matthew taylor on completing the party manifesto. party chief executive lord rennard said the appointment was a  significant strengthening of the lib dem team . mr walkington said he wanted the party to be ready for any  mischief  rivals or the media tried to throw at it.   my role will be to ensure this new public profile is effectively communicated at all levels   he said.  i also know the party will be put under scrutiny in the media and from the other parties as never before - and we will need to show ourselves ready and prepared to counter the mischief and misrepresentation that all too often comes from the party s opponents.  the party is already demonstrating on every issue that it is the effective opposition.  mr walkington s new job title is director of general election communications.\n",
      "dublin hi-tech labs to shut down dublin s hi-tech research laboratory  media labs europe  is to shut down.  the research centre  which was started by the irish government and the massachusetts institute of technology  was a hotbed for technology concepts. since its opening in 2000  the centre has developed ideas  such as implants for teeth  and also aimed to be a digital hub for start-ups in the area. the centre was supposed to be self-funded  but has failed to attract the private cash injection it needs. in a statement  media labs europe said the decision to close was taken because neither the irish government nor the prestigious us-based massachusetts institute of technology (mit) was willing to fund it. prime minister bertie ahern had wanted to the centre to become a big draw for smaller hi-tech companies  in an attempt to regenerate the area.  about three dozen small firms were attracted to the area  but it is thought the effects of the dot.com recession damaged the labs  long-term survival. the labs needed about 10 million euros (us$13 million) a year from corporate sponsors to survive.  in the end  it was too deep and too long a recession   said simon jones  the labs  managing director. ian pearson  bt s futurologist  told the bbc news website that the closure was a  real shame . bt was just one of the companies that had worked with the labs  looking at rfid tag developments and video conferencing.  there were a lot of very talented  creative people there and they came up with some great ideas that were helping to ensure greater benefits of technology for society.  i have no doubt that the individuals will be quickly snapped up by other research labs  but the synergies from them working as a team will be lost.   noel dempsey  the government s communications minister  said mr ahern had been  very committed  to the project.  he is  i know  very disappointed it has come to this. at the time it seemed to be the right thing to do   he said.  unfortunately the model is not a sustainable one in the current climate.   during its five years  innovative and some unusual ideas for technologies were developed. in recent months  14 patent applications had been filed by the labs. many concepts fed into science  engineering  and psychology as well as technology  but it is thought too few of the ideas were commercially viable in the near-term. several research teams explored how which humans could react with technologies in ways which were entirely different. the human connectedness group  for example  developed the iband  a bracelet which stored and exchanged information about you and your relationships. this information could be beamed to another wearer when two people shook hands. other projects looked at using other human senses  like touch  to interact with devoices which could be embedded in the environment  or on the body itself. one project examined how brainwaves could directly control a computer game. the labs  set up in an old guinness brewery  housed around 100 people  made up of staff  researchers  students  collaborators and part-time undergraduate students. it is thought more than 50 people will lose their jobs when the labs close on 1 february. according to its latest accounts  media lab europe said it spent 8.16 million euros (about us$10.6 million) in 2003 and raised just 2.56 million euros (us$3.3 million).\n"
     ]
    }
   ],
   "source": [
    "print(train_df.iloc[0,1])\n",
    "print(train_df.iloc[30,1])\n",
    "print(train_df.iloc[245,1])"
   ]
  },
  {
   "cell_type": "code",
   "execution_count": 9,
   "metadata": {},
   "outputs": [
    {
     "name": "stdout",
     "output_type": "stream",
     "text": [
      "Total no of politics_is 196\n",
      "Total no of business_is 235\n",
      "Total no of sport_is 250\n",
      "Total no of entertainment_is 178\n",
      "Total no of tech_is 184\n"
     ]
    }
   ],
   "source": [
    "counts = train_df['Category'].value_counts()\n",
    "for col in target_names:\n",
    "    col_sum = counts[col]\n",
    "    print(f'Total no of {col}_is {col_sum}')"
   ]
  },
  {
   "attachments": {},
   "cell_type": "markdown",
   "metadata": {},
   "source": [
    "## CLEANING"
   ]
  },
  {
   "cell_type": "code",
   "execution_count": 10,
   "metadata": {},
   "outputs": [],
   "source": [
    "def preprocessor(text):\n",
    "    '''\n",
    "    explain func\n",
    "    '''\n",
    "    text = text.lower() #Lowers  the text\n",
    "    text = re.sub('<[^>]*>', '', text) # removes HTML Markup\n",
    "    text = re.sub(r'[^a-zA-Z\\s]', '', text) # removes special characters and digits\n",
    "    stop_words = set(stopwords.words('english'))\n",
    "    text = [word for word in text.split() if word not in stop_words and word not in string.punctuation] #removes stopwords\n",
    "    text = ' '.join(word for word in text)\n",
    "    return text"
   ]
  },
  {
   "cell_type": "code",
   "execution_count": 11,
   "metadata": {},
   "outputs": [
    {
     "data": {
      "text/plain": [
       "'chancellor rallies labour voters gordon brown issued rallying cry supporters warning stakes high stay home protest vote next general election chancellor said poll expected fall may would give clear fundamental choice labour investment tory cuts told party spring conference tories must allowed win conservatives lib dems insisted voters faced higher taxes meanstesting labour packed audience gateshead sage centre mr brown accused shadow chancellor oliver letwin plotting cuts equivalent sacking every teacher gp nurse country laying conservative record government said give promise labour britain never return mistakes erm inflation interest rates bn lost reserves repossessed one million negative equity three million unemployed never tory boom bust central dividing line election conservative party taking britain back planning deep cuts bn services labour government taking britain forward platform stability reform renew hospitals schools public services proud say spend bn turning economy chancellor promised continue economic stability growth third term power also pledged continue fight child pensioner poverty promised help get young people property ladder message thousands young couples waiting obtain first home housing rightly centre coming manifesto said next labour government match low mortgage rates new firsttime buyers initiative speech prompted standing ovation also promised end teenage unemployment within next five years also highlighted plans debt relief world poorest countries national minimum wage yearolds creation network children centres flexibility maternity leave responding speech shadow chief secretary treasury george osborne said talk gordon brown heard instead talking future kept talking past completely failed say taxes would put fill black hole spending plans simple choice election value money lower taxes conservatives waste higher taxes tony blair gordon brown liberal democrat shadow chancellor vince cable warned picture rosy mr brown would like portray trumpeting labour management economy gordon brown record mixed said gordon brown created system massive centralisation bureaucracy system subjects millions people means testing system taxation extremely complex positive words gordon brown faced economic problems looming horizon least unprecedented levels personal debt facing nation also gateshead prime minister took questions sent email text message telephone part labour attempt engage public campaign mr blair told audience believed iraq war would made britain safer place emerging democracy succeeded wanted bring troops home soon possible job done also said wanted carry pm still think big changes country needs'"
      ]
     },
     "execution_count": 11,
     "metadata": {},
     "output_type": "execute_result"
    }
   ],
   "source": [
    "train_df['Text'] = train_df['Text'].apply(preprocessor)\n",
    "train_df.loc[0,'Text']"
   ]
  },
  {
   "cell_type": "code",
   "execution_count": 12,
   "metadata": {},
   "outputs": [],
   "source": [
    "x_train = train_df['Text']\n",
    "y_train = train_df['Category']"
   ]
  },
  {
   "cell_type": "code",
   "execution_count": 13,
   "metadata": {},
   "outputs": [
    {
     "name": "stdout",
     "output_type": "stream",
     "text": [
      "(1043, 3085)\n"
     ]
    },
    {
     "data": {
      "text/html": [
       "<div>\n",
       "<style scoped>\n",
       "    .dataframe tbody tr th:only-of-type {\n",
       "        vertical-align: middle;\n",
       "    }\n",
       "\n",
       "    .dataframe tbody tr th {\n",
       "        vertical-align: top;\n",
       "    }\n",
       "\n",
       "    .dataframe thead th {\n",
       "        text-align: right;\n",
       "    }\n",
       "</style>\n",
       "<table border=\"1\" class=\"dataframe\">\n",
       "  <thead>\n",
       "    <tr style=\"text-align: right;\">\n",
       "      <th></th>\n",
       "      <th>ability</th>\n",
       "      <th>able</th>\n",
       "      <th>abroad</th>\n",
       "      <th>absence</th>\n",
       "      <th>absolutely</th>\n",
       "      <th>abuse</th>\n",
       "      <th>academy</th>\n",
       "      <th>accept</th>\n",
       "      <th>accepted</th>\n",
       "      <th>access</th>\n",
       "      <th>...</th>\n",
       "      <th>years</th>\n",
       "      <th>yen</th>\n",
       "      <th>yes</th>\n",
       "      <th>yet</th>\n",
       "      <th>york</th>\n",
       "      <th>young</th>\n",
       "      <th>younger</th>\n",
       "      <th>yukos</th>\n",
       "      <th>zealand</th>\n",
       "      <th>zero</th>\n",
       "    </tr>\n",
       "  </thead>\n",
       "  <tbody>\n",
       "    <tr>\n",
       "      <th>0</th>\n",
       "      <td>0.0</td>\n",
       "      <td>0.0</td>\n",
       "      <td>0.0</td>\n",
       "      <td>0.0</td>\n",
       "      <td>0.0</td>\n",
       "      <td>0.0</td>\n",
       "      <td>0.0</td>\n",
       "      <td>0.0</td>\n",
       "      <td>0.0</td>\n",
       "      <td>0.0</td>\n",
       "      <td>...</td>\n",
       "      <td>0.023486</td>\n",
       "      <td>0.0</td>\n",
       "      <td>0.0</td>\n",
       "      <td>0.0</td>\n",
       "      <td>0.0</td>\n",
       "      <td>0.07663</td>\n",
       "      <td>0.0</td>\n",
       "      <td>0.0</td>\n",
       "      <td>0.000000</td>\n",
       "      <td>0.0</td>\n",
       "    </tr>\n",
       "    <tr>\n",
       "      <th>1</th>\n",
       "      <td>0.0</td>\n",
       "      <td>0.0</td>\n",
       "      <td>0.0</td>\n",
       "      <td>0.0</td>\n",
       "      <td>0.0</td>\n",
       "      <td>0.0</td>\n",
       "      <td>0.0</td>\n",
       "      <td>0.0</td>\n",
       "      <td>0.0</td>\n",
       "      <td>0.0</td>\n",
       "      <td>...</td>\n",
       "      <td>0.000000</td>\n",
       "      <td>0.0</td>\n",
       "      <td>0.0</td>\n",
       "      <td>0.0</td>\n",
       "      <td>0.0</td>\n",
       "      <td>0.00000</td>\n",
       "      <td>0.0</td>\n",
       "      <td>0.0</td>\n",
       "      <td>0.000000</td>\n",
       "      <td>0.0</td>\n",
       "    </tr>\n",
       "    <tr>\n",
       "      <th>2</th>\n",
       "      <td>0.0</td>\n",
       "      <td>0.0</td>\n",
       "      <td>0.0</td>\n",
       "      <td>0.0</td>\n",
       "      <td>0.0</td>\n",
       "      <td>0.0</td>\n",
       "      <td>0.0</td>\n",
       "      <td>0.0</td>\n",
       "      <td>0.0</td>\n",
       "      <td>0.0</td>\n",
       "      <td>...</td>\n",
       "      <td>0.000000</td>\n",
       "      <td>0.0</td>\n",
       "      <td>0.0</td>\n",
       "      <td>0.0</td>\n",
       "      <td>0.0</td>\n",
       "      <td>0.00000</td>\n",
       "      <td>0.0</td>\n",
       "      <td>0.0</td>\n",
       "      <td>0.000000</td>\n",
       "      <td>0.0</td>\n",
       "    </tr>\n",
       "    <tr>\n",
       "      <th>3</th>\n",
       "      <td>0.0</td>\n",
       "      <td>0.0</td>\n",
       "      <td>0.0</td>\n",
       "      <td>0.0</td>\n",
       "      <td>0.0</td>\n",
       "      <td>0.0</td>\n",
       "      <td>0.0</td>\n",
       "      <td>0.0</td>\n",
       "      <td>0.0</td>\n",
       "      <td>0.0</td>\n",
       "      <td>...</td>\n",
       "      <td>0.035921</td>\n",
       "      <td>0.0</td>\n",
       "      <td>0.0</td>\n",
       "      <td>0.0</td>\n",
       "      <td>0.0</td>\n",
       "      <td>0.00000</td>\n",
       "      <td>0.0</td>\n",
       "      <td>0.0</td>\n",
       "      <td>0.000000</td>\n",
       "      <td>0.0</td>\n",
       "    </tr>\n",
       "    <tr>\n",
       "      <th>4</th>\n",
       "      <td>0.0</td>\n",
       "      <td>0.0</td>\n",
       "      <td>0.0</td>\n",
       "      <td>0.0</td>\n",
       "      <td>0.0</td>\n",
       "      <td>0.0</td>\n",
       "      <td>0.0</td>\n",
       "      <td>0.0</td>\n",
       "      <td>0.0</td>\n",
       "      <td>0.0</td>\n",
       "      <td>...</td>\n",
       "      <td>0.047386</td>\n",
       "      <td>0.0</td>\n",
       "      <td>0.0</td>\n",
       "      <td>0.0</td>\n",
       "      <td>0.0</td>\n",
       "      <td>0.00000</td>\n",
       "      <td>0.0</td>\n",
       "      <td>0.0</td>\n",
       "      <td>0.105149</td>\n",
       "      <td>0.0</td>\n",
       "    </tr>\n",
       "  </tbody>\n",
       "</table>\n",
       "<p>5 rows × 3085 columns</p>\n",
       "</div>"
      ],
      "text/plain": [
       "   ability  able  abroad  absence  absolutely  abuse  academy  accept   \n",
       "0      0.0   0.0     0.0      0.0         0.0    0.0      0.0     0.0  \\\n",
       "1      0.0   0.0     0.0      0.0         0.0    0.0      0.0     0.0   \n",
       "2      0.0   0.0     0.0      0.0         0.0    0.0      0.0     0.0   \n",
       "3      0.0   0.0     0.0      0.0         0.0    0.0      0.0     0.0   \n",
       "4      0.0   0.0     0.0      0.0         0.0    0.0      0.0     0.0   \n",
       "\n",
       "   accepted  access  ...     years  yen  yes  yet  york    young  younger   \n",
       "0       0.0     0.0  ...  0.023486  0.0  0.0  0.0   0.0  0.07663      0.0  \\\n",
       "1       0.0     0.0  ...  0.000000  0.0  0.0  0.0   0.0  0.00000      0.0   \n",
       "2       0.0     0.0  ...  0.000000  0.0  0.0  0.0   0.0  0.00000      0.0   \n",
       "3       0.0     0.0  ...  0.035921  0.0  0.0  0.0   0.0  0.00000      0.0   \n",
       "4       0.0     0.0  ...  0.047386  0.0  0.0  0.0   0.0  0.00000      0.0   \n",
       "\n",
       "   yukos   zealand  zero  \n",
       "0    0.0  0.000000   0.0  \n",
       "1    0.0  0.000000   0.0  \n",
       "2    0.0  0.000000   0.0  \n",
       "3    0.0  0.000000   0.0  \n",
       "4    0.0  0.105149   0.0  \n",
       "\n",
       "[5 rows x 3085 columns]"
      ]
     },
     "execution_count": 13,
     "metadata": {},
     "output_type": "execute_result"
    }
   ],
   "source": [
    "tf_idf_vectorizer = TfidfVectorizer(max_df= 0.8, min_df= 10)\n",
    "x_train_transform = tf_idf_vectorizer.fit_transform(x_train)\n",
    "print(x_train_transform.shape)\n",
    "tfidf_dataframe = pd.DataFrame(x_train_transform.toarray(), columns=tf_idf_vectorizer.get_feature_names_out())\n",
    "tfidf_dataframe.head()"
   ]
  },
  {
   "attachments": {},
   "cell_type": "markdown",
   "metadata": {},
   "source": [
    "### Modelling"
   ]
  },
  {
   "cell_type": "code",
   "execution_count": 14,
   "metadata": {},
   "outputs": [
    {
     "name": "stdout",
     "output_type": "stream",
     "text": [
      "CPU times: user 7.87 s, sys: 9.33 ms, total: 7.88 s\n",
      "Wall time: 7.88 s\n"
     ]
    },
    {
     "data": {
      "text/html": [
       "<style>#sk-container-id-1 {color: black;background-color: white;}#sk-container-id-1 pre{padding: 0;}#sk-container-id-1 div.sk-toggleable {background-color: white;}#sk-container-id-1 label.sk-toggleable__label {cursor: pointer;display: block;width: 100%;margin-bottom: 0;padding: 0.3em;box-sizing: border-box;text-align: center;}#sk-container-id-1 label.sk-toggleable__label-arrow:before {content: \"▸\";float: left;margin-right: 0.25em;color: #696969;}#sk-container-id-1 label.sk-toggleable__label-arrow:hover:before {color: black;}#sk-container-id-1 div.sk-estimator:hover label.sk-toggleable__label-arrow:before {color: black;}#sk-container-id-1 div.sk-toggleable__content {max-height: 0;max-width: 0;overflow: hidden;text-align: left;background-color: #f0f8ff;}#sk-container-id-1 div.sk-toggleable__content pre {margin: 0.2em;color: black;border-radius: 0.25em;background-color: #f0f8ff;}#sk-container-id-1 input.sk-toggleable__control:checked~div.sk-toggleable__content {max-height: 200px;max-width: 100%;overflow: auto;}#sk-container-id-1 input.sk-toggleable__control:checked~label.sk-toggleable__label-arrow:before {content: \"▾\";}#sk-container-id-1 div.sk-estimator input.sk-toggleable__control:checked~label.sk-toggleable__label {background-color: #d4ebff;}#sk-container-id-1 div.sk-label input.sk-toggleable__control:checked~label.sk-toggleable__label {background-color: #d4ebff;}#sk-container-id-1 input.sk-hidden--visually {border: 0;clip: rect(1px 1px 1px 1px);clip: rect(1px, 1px, 1px, 1px);height: 1px;margin: -1px;overflow: hidden;padding: 0;position: absolute;width: 1px;}#sk-container-id-1 div.sk-estimator {font-family: monospace;background-color: #f0f8ff;border: 1px dotted black;border-radius: 0.25em;box-sizing: border-box;margin-bottom: 0.5em;}#sk-container-id-1 div.sk-estimator:hover {background-color: #d4ebff;}#sk-container-id-1 div.sk-parallel-item::after {content: \"\";width: 100%;border-bottom: 1px solid gray;flex-grow: 1;}#sk-container-id-1 div.sk-label:hover label.sk-toggleable__label {background-color: #d4ebff;}#sk-container-id-1 div.sk-serial::before {content: \"\";position: absolute;border-left: 1px solid gray;box-sizing: border-box;top: 0;bottom: 0;left: 50%;z-index: 0;}#sk-container-id-1 div.sk-serial {display: flex;flex-direction: column;align-items: center;background-color: white;padding-right: 0.2em;padding-left: 0.2em;position: relative;}#sk-container-id-1 div.sk-item {position: relative;z-index: 1;}#sk-container-id-1 div.sk-parallel {display: flex;align-items: stretch;justify-content: center;background-color: white;position: relative;}#sk-container-id-1 div.sk-item::before, #sk-container-id-1 div.sk-parallel-item::before {content: \"\";position: absolute;border-left: 1px solid gray;box-sizing: border-box;top: 0;bottom: 0;left: 50%;z-index: -1;}#sk-container-id-1 div.sk-parallel-item {display: flex;flex-direction: column;z-index: 1;position: relative;background-color: white;}#sk-container-id-1 div.sk-parallel-item:first-child::after {align-self: flex-end;width: 50%;}#sk-container-id-1 div.sk-parallel-item:last-child::after {align-self: flex-start;width: 50%;}#sk-container-id-1 div.sk-parallel-item:only-child::after {width: 0;}#sk-container-id-1 div.sk-dashed-wrapped {border: 1px dashed gray;margin: 0 0.4em 0.5em 0.4em;box-sizing: border-box;padding-bottom: 0.4em;background-color: white;}#sk-container-id-1 div.sk-label label {font-family: monospace;font-weight: bold;display: inline-block;line-height: 1.2em;}#sk-container-id-1 div.sk-label-container {text-align: center;}#sk-container-id-1 div.sk-container {/* jupyter's `normalize.less` sets `[hidden] { display: none; }` but bootstrap.min.css set `[hidden] { display: none !important; }` so we also need the `!important` here to be able to override the default hidden behavior on the sphinx rendered scikit-learn.org. See: https://github.com/scikit-learn/scikit-learn/issues/21755 */display: inline-block !important;position: relative;}#sk-container-id-1 div.sk-text-repr-fallback {display: none;}</style><div id=\"sk-container-id-1\" class=\"sk-top-container\"><div class=\"sk-text-repr-fallback\"><pre>Pipeline(steps=[(&#x27;tf-idf&#x27;, TfidfVectorizer(max_df=0.8, min_df=10)),\n",
       "                (&#x27;svm_model&#x27;, SVC(probability=True, random_state=10))])</pre><b>In a Jupyter environment, please rerun this cell to show the HTML representation or trust the notebook. <br />On GitHub, the HTML representation is unable to render, please try loading this page with nbviewer.org.</b></div><div class=\"sk-container\" hidden><div class=\"sk-item sk-dashed-wrapped\"><div class=\"sk-label-container\"><div class=\"sk-label sk-toggleable\"><input class=\"sk-toggleable__control sk-hidden--visually\" id=\"sk-estimator-id-1\" type=\"checkbox\" ><label for=\"sk-estimator-id-1\" class=\"sk-toggleable__label sk-toggleable__label-arrow\">Pipeline</label><div class=\"sk-toggleable__content\"><pre>Pipeline(steps=[(&#x27;tf-idf&#x27;, TfidfVectorizer(max_df=0.8, min_df=10)),\n",
       "                (&#x27;svm_model&#x27;, SVC(probability=True, random_state=10))])</pre></div></div></div><div class=\"sk-serial\"><div class=\"sk-item\"><div class=\"sk-estimator sk-toggleable\"><input class=\"sk-toggleable__control sk-hidden--visually\" id=\"sk-estimator-id-2\" type=\"checkbox\" ><label for=\"sk-estimator-id-2\" class=\"sk-toggleable__label sk-toggleable__label-arrow\">TfidfVectorizer</label><div class=\"sk-toggleable__content\"><pre>TfidfVectorizer(max_df=0.8, min_df=10)</pre></div></div></div><div class=\"sk-item\"><div class=\"sk-estimator sk-toggleable\"><input class=\"sk-toggleable__control sk-hidden--visually\" id=\"sk-estimator-id-3\" type=\"checkbox\" ><label for=\"sk-estimator-id-3\" class=\"sk-toggleable__label sk-toggleable__label-arrow\">SVC</label><div class=\"sk-toggleable__content\"><pre>SVC(probability=True, random_state=10)</pre></div></div></div></div></div></div></div>"
      ],
      "text/plain": [
       "Pipeline(steps=[('tf-idf', TfidfVectorizer(max_df=0.8, min_df=10)),\n",
       "                ('svm_model', SVC(probability=True, random_state=10))])"
      ]
     },
     "execution_count": 14,
     "metadata": {},
     "output_type": "execute_result"
    }
   ],
   "source": [
    "pipe = Pipeline([(\"tf-idf\", TfidfVectorizer(max_df= 0.8, min_df= 10)), \n",
    "                ('svm_model',SVC(random_state=10, probability=True))])\n",
    "%time pipe.fit(x_train, y_train)"
   ]
  },
  {
   "cell_type": "code",
   "execution_count": 15,
   "metadata": {},
   "outputs": [],
   "source": [
    "#test\n",
    "x_test = test_df['Text'].apply(preprocessor)\n",
    "y_test = test_df['Category']\n",
    "y_pred = pipe.predict(x_test)"
   ]
  },
  {
   "cell_type": "code",
   "execution_count": 16,
   "metadata": {},
   "outputs": [],
   "source": [
    "def model_score(Y_test, Y_pred, Y_pred_prob, classes = None):\n",
    "    print(f'Accuracy Score : {accuracy_score(Y_test, Y_pred)}')\n",
    "    #auc score \n",
    "    print(f'AUC Score : {roc_auc_score(Y_test, Y_pred_prob, multi_class=\"ovr\")}')\n",
    "    cm = confusion_matrix(Y_test, Y_pred, labels= classes)\n",
    "    disp = ConfusionMatrixDisplay(confusion_matrix= cm , display_labels= classes)\n",
    "    fig , ax = plt.subplots(figsize=(6,6))\n",
    "    disp.plot(ax=ax, xticks_rotation= 'vertical')\n",
    "    plt.show()\n"
   ]
  },
  {
   "cell_type": "code",
   "execution_count": 17,
   "metadata": {},
   "outputs": [
    {
     "name": "stdout",
     "output_type": "stream",
     "text": [
      "Accuracy Score : 0.968609865470852\n",
      "AUC Score : 0.9988441198613323\n"
     ]
    },
    {
     "data": {
      "image/png": "[encoded data removed]",
      "text/plain": [
       "<Figure size 600x600 with 2 Axes>"
      ]
     },
     "metadata": {},
     "output_type": "display_data"
    }
   ],
   "source": [
    "y_pred_prob = pipe.predict_proba(x_test)\n",
    "model_score(y_test, y_pred, y_pred_prob, classes = pipe.classes_)"
   ]
  },
  {
   "attachments": {},
   "cell_type": "markdown",
   "metadata": {},
   "source": [
    "## ROC CURVE"
   ]
  },
  {
   "attachments": {},
   "cell_type": "markdown",
   "metadata": {},
   "source": [
    "## BREAK"
   ]
  },
  {
   "cell_type": "code",
   "execution_count": 21,
   "metadata": {},
   "outputs": [
    {
     "name": "stdout",
     "output_type": "stream",
     "text": [
      "               precision    recall  f1-score   support\n",
      "\n",
      "     business       0.92      0.98      0.95        45\n",
      "entertainment       0.98      0.98      0.98        47\n",
      "     politics       1.00      0.95      0.97        39\n",
      "        sport       1.00      1.00      1.00        45\n",
      "         tech       0.96      0.94      0.95        47\n",
      "\n",
      "     accuracy                           0.97       223\n",
      "    macro avg       0.97      0.97      0.97       223\n",
      " weighted avg       0.97      0.97      0.97       223\n",
      "\n"
     ]
    }
   ],
   "source": [
    "print(classification_report(y_test, y_pred, labels=pipe.classes_ ))"
   ]
  },
  {
   "attachments": {},
   "cell_type": "markdown",
   "metadata": {},
   "source": [
    "## BREAK"
   ]
  },
  {
   "attachments": {},
   "cell_type": "markdown",
   "metadata": {},
   "source": [
    "# FINAL TEST"
   ]
  },
  {
   "cell_type": "code",
   "execution_count": null,
   "metadata": {},
   "outputs": [],
   "source": [
    "def makecsv(id_test, test_y_pred):\n",
    "    #change the ans label\n",
    "    #test_y_pred = number_to_label(test_y_pred)\n",
    "    submission = {'ArticleId': id_test, 'Category': test_y_pred}\n",
    "    submission = pd.DataFrame(submission)\n",
    "    submission.to_csv('./submission.csv', index=0, header=1)"
   ]
  },
  {
   "cell_type": "code",
   "execution_count": null,
   "metadata": {},
   "outputs": [
    {
     "name": "stdout",
     "output_type": "stream",
     "text": [
      "(224, 3085)\n"
     ]
    },
    {
     "ename": "NameError",
     "evalue": "name 'base_svm_model' is not defined",
     "output_type": "error",
     "traceback": [
      "\u001b[0;31m---------------------------------------------------------------------------\u001b[0m",
      "\u001b[0;31mNameError\u001b[0m                                 Traceback (most recent call last)",
      "Cell \u001b[0;32mIn[23], line 5\u001b[0m\n\u001b[1;32m      3\u001b[0m final_y \u001b[39m=\u001b[39m tf_idf_vectorizer\u001b[39m.\u001b[39mtransform(final_test_df[\u001b[39m'\u001b[39m\u001b[39mText\u001b[39m\u001b[39m'\u001b[39m])\n\u001b[1;32m      4\u001b[0m \u001b[39mprint\u001b[39m(final_y\u001b[39m.\u001b[39mshape)\n\u001b[0;32m----> 5\u001b[0m final_y_pred \u001b[39m=\u001b[39m base_svm_model\u001b[39m.\u001b[39mpredict(final_y)\n\u001b[1;32m      6\u001b[0m makecsv(final_test_df[\u001b[39m'\u001b[39m\u001b[39mArticleId\u001b[39m\u001b[39m'\u001b[39m], final_y_pred)\n",
      "\u001b[0;31mNameError\u001b[0m: name 'base_svm_model' is not defined"
     ]
    }
   ],
   "source": [
    "final_test_df = pd.read_csv('/workspaces/codespaces-blank/news_classification/data/test.csv')\n",
    "final_test_df['Text'] = final_test_df['Text'].apply(preprocessor)\n",
    "final_y = tf_idf_vectorizer.transform(final_test_df['Text'])\n",
    "print(final_y.shape)\n",
    "final_y_pred = base_svm_model.predict(final_y)\n",
    "makecsv(final_test_df['ArticleId'], final_y_pred)"
   ]
  }
 ],
 "metadata": {
  "kernelspec": {
   "display_name": "Python 3",
   "language": "python",
   "name": "python3"
  },
  "language_info": {
   "codemirror_mode": {
    "name": "ipython",
    "version": 3
   },
   "file_extension": ".py",
   "mimetype": "text/x-python",
   "name": "python",
   "nbconvert_exporter": "python",
   "pygments_lexer": "ipython3",
   "version": "3.10.4"
  },
  "orig_nbformat": 4
 },
 "nbformat": 4,
 "nbformat_minor": 2
}
