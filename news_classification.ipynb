{
 "cells": [
  {
   "cell_type": "code",
   "execution_count": 68,
   "metadata": {},
   "outputs": [
    {
     "name": "stderr",
     "output_type": "stream",
     "text": [
      "[nltk_data] Downloading package stopwords to\n",
      "[nltk_data]     /home/codespace/nltk_data...\n",
      "[nltk_data]   Package stopwords is already up-to-date!\n"
     ]
    }
   ],
   "source": [
    " #Importing Libraries\n",
    "import pandas as pd\n",
    "from sklearn.model_selection import train_test_split\n",
    "from sklearn.metrics import precision_recall_curve, precision_score, recall_score, accuracy_score\n",
    "from sklearn.metrics import confusion_matrix, ConfusionMatrixDisplay,roc_auc_score, RocCurveDisplay,roc_curve\n",
    "from sklearn.feature_extraction.text import TfidfVectorizer\n",
    "from sklearn.pipeline import Pipeline\n",
    "from sklearn.model_selection import GridSearchCV\n",
    "import nltk\n",
    "import string\n",
    "import numpy as np\n",
    "nltk.download('stopwords')\n",
    "from nltk.corpus import stopwords\n",
    "import re\n",
    "import time"
   ]
  },
  {
   "cell_type": "code",
   "execution_count": 69,
   "metadata": {},
   "outputs": [
    {
     "data": {
      "text/html": [
       "<div>\n",
       "<style scoped>\n",
       "    .dataframe tbody tr th:only-of-type {\n",
       "        vertical-align: middle;\n",
       "    }\n",
       "\n",
       "    .dataframe tbody tr th {\n",
       "        vertical-align: top;\n",
       "    }\n",
       "\n",
       "    .dataframe thead th {\n",
       "        text-align: right;\n",
       "    }\n",
       "</style>\n",
       "<table border=\"1\" class=\"dataframe\">\n",
       "  <thead>\n",
       "    <tr style=\"text-align: right;\">\n",
       "      <th></th>\n",
       "      <th>ArticleId</th>\n",
       "      <th>Text</th>\n",
       "      <th>Category</th>\n",
       "    </tr>\n",
       "  </thead>\n",
       "  <tbody>\n",
       "    <tr>\n",
       "      <th>0</th>\n",
       "      <td>1155</td>\n",
       "      <td>chancellor rallies labour voters gordon brown ...</td>\n",
       "      <td>politics</td>\n",
       "    </tr>\n",
       "    <tr>\n",
       "      <th>1</th>\n",
       "      <td>1980</td>\n",
       "      <td>india s maruti sees profits jump india s bigge...</td>\n",
       "      <td>business</td>\n",
       "    </tr>\n",
       "    <tr>\n",
       "      <th>2</th>\n",
       "      <td>386</td>\n",
       "      <td>ukip s secret weapon  by any measure  new york...</td>\n",
       "      <td>politics</td>\n",
       "    </tr>\n",
       "    <tr>\n",
       "      <th>3</th>\n",
       "      <td>1436</td>\n",
       "      <td>banker loses sexism claim a former executive a...</td>\n",
       "      <td>business</td>\n",
       "    </tr>\n",
       "    <tr>\n",
       "      <th>4</th>\n",
       "      <td>304</td>\n",
       "      <td>dallaglio eyeing lions tour place former engla...</td>\n",
       "      <td>sport</td>\n",
       "    </tr>\n",
       "  </tbody>\n",
       "</table>\n",
       "</div>"
      ],
      "text/plain": [
       "   ArticleId                                               Text  Category\n",
       "0       1155  chancellor rallies labour voters gordon brown ...  politics\n",
       "1       1980  india s maruti sees profits jump india s bigge...  business\n",
       "2        386  ukip s secret weapon  by any measure  new york...  politics\n",
       "3       1436  banker loses sexism claim a former executive a...  business\n",
       "4        304  dallaglio eyeing lions tour place former engla...     sport"
      ]
     },
     "execution_count": 69,
     "metadata": {},
     "output_type": "execute_result"
    }
   ],
   "source": [
    "train_df = pd.read_csv('/workspaces/codespaces-blank/news_classification/data/train.csv')\n",
    "valid_df = pd.read_csv('/workspaces/codespaces-blank/news_classification/data/valid.csv')\n",
    "train_df.head(5)"
   ]
  },
  {
   "cell_type": "code",
   "execution_count": 70,
   "metadata": {},
   "outputs": [
    {
     "data": {
      "text/plain": [
       "(1043, 3)"
      ]
     },
     "execution_count": 70,
     "metadata": {},
     "output_type": "execute_result"
    }
   ],
   "source": [
    "train_df.shape"
   ]
  },
  {
   "cell_type": "code",
   "execution_count": 71,
   "metadata": {},
   "outputs": [
    {
     "name": "stdout",
     "output_type": "stream",
     "text": [
      "<class 'pandas.core.frame.DataFrame'>\n",
      "RangeIndex: 1043 entries, 0 to 1042\n",
      "Data columns (total 3 columns):\n",
      " #   Column     Non-Null Count  Dtype \n",
      "---  ------     --------------  ----- \n",
      " 0   ArticleId  1043 non-null   int64 \n",
      " 1   Text       1043 non-null   object\n",
      " 2   Category   1043 non-null   object\n",
      "dtypes: int64(1), object(2)\n",
      "memory usage: 24.6+ KB\n"
     ]
    }
   ],
   "source": [
    "train_df.info()"
   ]
  },
  {
   "cell_type": "code",
   "execution_count": 72,
   "metadata": {},
   "outputs": [
    {
     "data": {
      "text/plain": [
       "ArticleId     int64\n",
       "Text         object\n",
       "Category     object\n",
       "dtype: object"
      ]
     },
     "execution_count": 72,
     "metadata": {},
     "output_type": "execute_result"
    }
   ],
   "source": [
    "train_df.dtypes"
   ]
  },
  {
   "cell_type": "code",
   "execution_count": 73,
   "metadata": {},
   "outputs": [
    {
     "data": {
      "text/plain": [
       "ArticleId    0\n",
       "Text         0\n",
       "Category     0\n",
       "dtype: int64"
      ]
     },
     "execution_count": 73,
     "metadata": {},
     "output_type": "execute_result"
    }
   ],
   "source": [
    "train_df.isnull().sum()"
   ]
  },
  {
   "cell_type": "code",
   "execution_count": 74,
   "metadata": {},
   "outputs": [
    {
     "data": {
      "text/plain": [
       "['politics', 'business', 'sport', 'entertainment', 'tech']"
      ]
     },
     "execution_count": 74,
     "metadata": {},
     "output_type": "execute_result"
    }
   ],
   "source": [
    "columns_list = train_df['Category'].unique().tolist()\n",
    "columns_list"
   ]
  },
  {
   "cell_type": "code",
   "execution_count": 75,
   "metadata": {},
   "outputs": [
    {
     "name": "stdout",
     "output_type": "stream",
     "text": [
      "Total no of politics_is 196\n",
      "Total no of business_is 235\n",
      "Total no of sport_is 250\n",
      "Total no of entertainment_is 178\n",
      "Total no of tech_is 184\n"
     ]
    }
   ],
   "source": [
    "counts = train_df['Category'].value_counts()\n",
    "for col in columns_list:\n",
    "    col_sum = counts[col]\n",
    "    print(f'Total no of {col}_is {col_sum}')"
   ]
  },
  {
   "cell_type": "code",
   "execution_count": 76,
   "metadata": {},
   "outputs": [
    {
     "data": {
      "text/plain": [
       "'what now for kelly holmes  last april  kelly holmes spoke to the bbc sport website about her loneliness  her fight to stay fit and her decision not to contest both the 800m and 1500m at the olympics.  it just goes to show even the most meticulous and measured athletes cannot predict what fate has in store for them. four months later  holmes stormed to double olympic gold and has since been made a dame  won the bbc sport personality of the year and written a book whilst still finding time to coach aspiring athletes. with so much time spent in the spotlight  holmes has increasingly dropped hints that her ambition on the track has begun to wilt. and when asked about her plans for both the indoor and outdoor seasons ahead  the 34-year-old has repeatedly chosen to tick the  don t know  box. holmes has now pulled out of this weekend s european indoor championships  where she was selected for both the 800m and 1500m  because of a hamstring injury. but should we be surprised if the olympic champion over both those distances decides she just does not feel like racing anymore   well  it s a lot easier being the double olympic champion  being feted by everybody  than training to be at the top in middle distance running   points out former olympian and bbc pundit steve cram.  you have to have a real strong desire to carry on doing it even if you re very talented.   holmes  drive and determination have always been unquestionable - that is the reason she has battled back from a string of injuries that threatened to see her finish her career empty-handed. but alarm bells start ringing when the kent athlete begins questioning herself.  will i have as much commitment  desire and energy to go through a major championship   holmes asked in the new year.  that is what i don t know.  at 34  holmes will also be aware that time is running out. us 400m and 200m legend michael johnson  a five-time olympic gold medallist  retired shortly after his 34th birthday as did britain s double olympic champion decathlete daley thompson. the physical demands of the day-to-day grind will only get harder for holmes  who has already admitted she  doesn t like the training anymore.  whilst out on the circuit the allure of defeating a double olympic champion will spur her opponents on. holmes will not want to needlessly suffer the indignity of being beaten. unless she is certain she has a strong chance of winning any race  she will not step onto the track. but if the kent athlete finds the form that fuelled her ambitions last summer  there are more prizes up for grabs. the day after completing her double in athens  the 34-year-old revealed she would still like to win her first indoors title.  holmes  wish could easily be met in madrid before she goes on to prepare for the outdoor season where there are still scores to be settled  such as a first gold at the world championships in helsinki. there is just one small truth which could gnaw away at holmes  motivation - the realisation that no matter how hard she trains  nothing she wins now can surpass her achievements in athens. on the other hand  if those achievements cannot be matched shouldn t they be at least shared and celebrated   you don t get the chance very often in your career to step onto the track as the double olympic champion   agreed cram.  you want to be able to take your bow in front of the fans because it s a fantastic feeling.  i think deep down kelly wants to run. i think she will compete and run races on the circuits but whether or not she runs in the major championships is much less certain.   athletics fans had every reason to believe they would see the new-look kelly holmes tearing up the track again. after her olympic glory she emphatically denied she planned to retire. so  why is holmes dragging her heels about making a decision on where  when or whether to even bother competing again   that s just kelly   explains cram.  she s always been like that.  she enjoys people trying to guess what she is going to do next. she knows every time she makes a pronouncement now it s headline news.  kelly has to figure out for herself what it is she wants and that will be based on athletics decisions  whether she can be competitive  if she is fit enough to put her neck on the line.  and if she decides not to run again  no-one is going to turn round and say  you re making the wrong decision.'"
      ]
     },
     "execution_count": 76,
     "metadata": {},
     "output_type": "execute_result"
    }
   ],
   "source": [
    "train_df.iloc[70,1]"
   ]
  },
  {
   "attachments": {},
   "cell_type": "markdown",
   "metadata": {},
   "source": [
    "## CLEANING"
   ]
  },
  {
   "cell_type": "code",
   "execution_count": 77,
   "metadata": {},
   "outputs": [],
   "source": [
    "def preprocessor(text):\n",
    "    '''\n",
    "    explain func\n",
    "    '''\n",
    "    text = text.lower() #Lowers  the text\n",
    "    text = re.sub('<[^>]*>', '', text) # removes HTML Markup\n",
    "    text = re.sub(r'[^a-zA-Z\\s]', '', text) # removes special characters and digits\n",
    "    stop_words = set(stopwords.words('english'))\n",
    "    text = [word for word in text.split() if word not in stop_words and word not in string.punctuation] #removes stopwords\n",
    "    text = ' '.join(word for word in text)\n",
    "    return text"
   ]
  },
  {
   "cell_type": "code",
   "execution_count": 78,
   "metadata": {},
   "outputs": [
    {
     "data": {
      "text/plain": [
       "'chancellor rallies labour voters gordon brown issued rallying cry supporters warning stakes high stay home protest vote next general election chancellor said poll expected fall may would give clear fundamental choice labour investment tory cuts told party spring conference tories must allowed win conservatives lib dems insisted voters faced higher taxes meanstesting labour packed audience gateshead sage centre mr brown accused shadow chancellor oliver letwin plotting cuts equivalent sacking every teacher gp nurse country laying conservative record government said give promise labour britain never return mistakes erm inflation interest rates bn lost reserves repossessed one million negative equity three million unemployed never tory boom bust central dividing line election conservative party taking britain back planning deep cuts bn services labour government taking britain forward platform stability reform renew hospitals schools public services proud say spend bn turning economy chancellor promised continue economic stability growth third term power also pledged continue fight child pensioner poverty promised help get young people property ladder message thousands young couples waiting obtain first home housing rightly centre coming manifesto said next labour government match low mortgage rates new firsttime buyers initiative speech prompted standing ovation also promised end teenage unemployment within next five years also highlighted plans debt relief world poorest countries national minimum wage yearolds creation network children centres flexibility maternity leave responding speech shadow chief secretary treasury george osborne said talk gordon brown heard instead talking future kept talking past completely failed say taxes would put fill black hole spending plans simple choice election value money lower taxes conservatives waste higher taxes tony blair gordon brown liberal democrat shadow chancellor vince cable warned picture rosy mr brown would like portray trumpeting labour management economy gordon brown record mixed said gordon brown created system massive centralisation bureaucracy system subjects millions people means testing system taxation extremely complex positive words gordon brown faced economic problems looming horizon least unprecedented levels personal debt facing nation also gateshead prime minister took questions sent email text message telephone part labour attempt engage public campaign mr blair told audience believed iraq war would made britain safer place emerging democracy succeeded wanted bring troops home soon possible job done also said wanted carry pm still think big changes country needs'"
      ]
     },
     "execution_count": 78,
     "metadata": {},
     "output_type": "execute_result"
    }
   ],
   "source": [
    "train_df['Text'] = train_df['Text'].apply(preprocessor)\n",
    "train_df.loc[0,'Text']"
   ]
  },
  {
   "cell_type": "code",
   "execution_count": 79,
   "metadata": {},
   "outputs": [],
   "source": [
    "#train_df['Category'] =  train_df['Category'].map({'politics': 0, 'business' :1 , 'sport': 2, 'entertainment' : 3, 'tech': 4})"
   ]
  },
  {
   "cell_type": "code",
   "execution_count": 80,
   "metadata": {},
   "outputs": [
    {
     "name": "stdout",
     "output_type": "stream",
     "text": [
      "(1043, 3085)\n"
     ]
    },
    {
     "data": {
      "text/html": [
       "<div>\n",
       "<style scoped>\n",
       "    .dataframe tbody tr th:only-of-type {\n",
       "        vertical-align: middle;\n",
       "    }\n",
       "\n",
       "    .dataframe tbody tr th {\n",
       "        vertical-align: top;\n",
       "    }\n",
       "\n",
       "    .dataframe thead th {\n",
       "        text-align: right;\n",
       "    }\n",
       "</style>\n",
       "<table border=\"1\" class=\"dataframe\">\n",
       "  <thead>\n",
       "    <tr style=\"text-align: right;\">\n",
       "      <th></th>\n",
       "      <th>ability</th>\n",
       "      <th>able</th>\n",
       "      <th>abroad</th>\n",
       "      <th>absence</th>\n",
       "      <th>absolutely</th>\n",
       "      <th>abuse</th>\n",
       "      <th>academy</th>\n",
       "      <th>accept</th>\n",
       "      <th>accepted</th>\n",
       "      <th>access</th>\n",
       "      <th>...</th>\n",
       "      <th>years</th>\n",
       "      <th>yen</th>\n",
       "      <th>yes</th>\n",
       "      <th>yet</th>\n",
       "      <th>york</th>\n",
       "      <th>young</th>\n",
       "      <th>younger</th>\n",
       "      <th>yukos</th>\n",
       "      <th>zealand</th>\n",
       "      <th>zero</th>\n",
       "    </tr>\n",
       "  </thead>\n",
       "  <tbody>\n",
       "    <tr>\n",
       "      <th>0</th>\n",
       "      <td>0.0</td>\n",
       "      <td>0.0</td>\n",
       "      <td>0.0</td>\n",
       "      <td>0.0</td>\n",
       "      <td>0.0</td>\n",
       "      <td>0.0</td>\n",
       "      <td>0.0</td>\n",
       "      <td>0.0</td>\n",
       "      <td>0.0</td>\n",
       "      <td>0.0</td>\n",
       "      <td>...</td>\n",
       "      <td>0.023486</td>\n",
       "      <td>0.0</td>\n",
       "      <td>0.0</td>\n",
       "      <td>0.0</td>\n",
       "      <td>0.0</td>\n",
       "      <td>0.07663</td>\n",
       "      <td>0.0</td>\n",
       "      <td>0.0</td>\n",
       "      <td>0.000000</td>\n",
       "      <td>0.0</td>\n",
       "    </tr>\n",
       "    <tr>\n",
       "      <th>1</th>\n",
       "      <td>0.0</td>\n",
       "      <td>0.0</td>\n",
       "      <td>0.0</td>\n",
       "      <td>0.0</td>\n",
       "      <td>0.0</td>\n",
       "      <td>0.0</td>\n",
       "      <td>0.0</td>\n",
       "      <td>0.0</td>\n",
       "      <td>0.0</td>\n",
       "      <td>0.0</td>\n",
       "      <td>...</td>\n",
       "      <td>0.000000</td>\n",
       "      <td>0.0</td>\n",
       "      <td>0.0</td>\n",
       "      <td>0.0</td>\n",
       "      <td>0.0</td>\n",
       "      <td>0.00000</td>\n",
       "      <td>0.0</td>\n",
       "      <td>0.0</td>\n",
       "      <td>0.000000</td>\n",
       "      <td>0.0</td>\n",
       "    </tr>\n",
       "    <tr>\n",
       "      <th>2</th>\n",
       "      <td>0.0</td>\n",
       "      <td>0.0</td>\n",
       "      <td>0.0</td>\n",
       "      <td>0.0</td>\n",
       "      <td>0.0</td>\n",
       "      <td>0.0</td>\n",
       "      <td>0.0</td>\n",
       "      <td>0.0</td>\n",
       "      <td>0.0</td>\n",
       "      <td>0.0</td>\n",
       "      <td>...</td>\n",
       "      <td>0.000000</td>\n",
       "      <td>0.0</td>\n",
       "      <td>0.0</td>\n",
       "      <td>0.0</td>\n",
       "      <td>0.0</td>\n",
       "      <td>0.00000</td>\n",
       "      <td>0.0</td>\n",
       "      <td>0.0</td>\n",
       "      <td>0.000000</td>\n",
       "      <td>0.0</td>\n",
       "    </tr>\n",
       "    <tr>\n",
       "      <th>3</th>\n",
       "      <td>0.0</td>\n",
       "      <td>0.0</td>\n",
       "      <td>0.0</td>\n",
       "      <td>0.0</td>\n",
       "      <td>0.0</td>\n",
       "      <td>0.0</td>\n",
       "      <td>0.0</td>\n",
       "      <td>0.0</td>\n",
       "      <td>0.0</td>\n",
       "      <td>0.0</td>\n",
       "      <td>...</td>\n",
       "      <td>0.035921</td>\n",
       "      <td>0.0</td>\n",
       "      <td>0.0</td>\n",
       "      <td>0.0</td>\n",
       "      <td>0.0</td>\n",
       "      <td>0.00000</td>\n",
       "      <td>0.0</td>\n",
       "      <td>0.0</td>\n",
       "      <td>0.000000</td>\n",
       "      <td>0.0</td>\n",
       "    </tr>\n",
       "    <tr>\n",
       "      <th>4</th>\n",
       "      <td>0.0</td>\n",
       "      <td>0.0</td>\n",
       "      <td>0.0</td>\n",
       "      <td>0.0</td>\n",
       "      <td>0.0</td>\n",
       "      <td>0.0</td>\n",
       "      <td>0.0</td>\n",
       "      <td>0.0</td>\n",
       "      <td>0.0</td>\n",
       "      <td>0.0</td>\n",
       "      <td>...</td>\n",
       "      <td>0.047386</td>\n",
       "      <td>0.0</td>\n",
       "      <td>0.0</td>\n",
       "      <td>0.0</td>\n",
       "      <td>0.0</td>\n",
       "      <td>0.00000</td>\n",
       "      <td>0.0</td>\n",
       "      <td>0.0</td>\n",
       "      <td>0.105149</td>\n",
       "      <td>0.0</td>\n",
       "    </tr>\n",
       "  </tbody>\n",
       "</table>\n",
       "<p>5 rows × 3085 columns</p>\n",
       "</div>"
      ],
      "text/plain": [
       "   ability  able  abroad  absence  absolutely  abuse  academy  accept  \\\n",
       "0      0.0   0.0     0.0      0.0         0.0    0.0      0.0     0.0   \n",
       "1      0.0   0.0     0.0      0.0         0.0    0.0      0.0     0.0   \n",
       "2      0.0   0.0     0.0      0.0         0.0    0.0      0.0     0.0   \n",
       "3      0.0   0.0     0.0      0.0         0.0    0.0      0.0     0.0   \n",
       "4      0.0   0.0     0.0      0.0         0.0    0.0      0.0     0.0   \n",
       "\n",
       "   accepted  access  ...     years  yen  yes  yet  york    young  younger  \\\n",
       "0       0.0     0.0  ...  0.023486  0.0  0.0  0.0   0.0  0.07663      0.0   \n",
       "1       0.0     0.0  ...  0.000000  0.0  0.0  0.0   0.0  0.00000      0.0   \n",
       "2       0.0     0.0  ...  0.000000  0.0  0.0  0.0   0.0  0.00000      0.0   \n",
       "3       0.0     0.0  ...  0.035921  0.0  0.0  0.0   0.0  0.00000      0.0   \n",
       "4       0.0     0.0  ...  0.047386  0.0  0.0  0.0   0.0  0.00000      0.0   \n",
       "\n",
       "   yukos   zealand  zero  \n",
       "0    0.0  0.000000   0.0  \n",
       "1    0.0  0.000000   0.0  \n",
       "2    0.0  0.000000   0.0  \n",
       "3    0.0  0.000000   0.0  \n",
       "4    0.0  0.105149   0.0  \n",
       "\n",
       "[5 rows x 3085 columns]"
      ]
     },
     "execution_count": 80,
     "metadata": {},
     "output_type": "execute_result"
    }
   ],
   "source": [
    "x_train = train_df['Text']\n",
    "y_train = train_df['Category']\n",
    "tf_idf_vectorizer = TfidfVectorizer(max_df= 0.8, min_df= 10)\n",
    "x_train_transform = tf_idf_vectorizer.fit_transform(x_train)\n",
    "print(x_train_transform.shape)\n",
    "tfidf_dataframe = pd.DataFrame(x_train_transform.toarray(), columns=tf_idf_vectorizer.get_feature_names_out())\n",
    "tfidf_dataframe.head()"
   ]
  },
  {
   "cell_type": "code",
   "execution_count": 81,
   "metadata": {},
   "outputs": [
    {
     "data": {
      "text/plain": [
       "(223, 3085)"
      ]
     },
     "execution_count": 81,
     "metadata": {},
     "output_type": "execute_result"
    }
   ],
   "source": [
    "valid_df['Text'] = valid_df['Text'].apply(preprocessor)\n",
    "x_test = valid_df['Text']\n",
    "y_test = valid_df['Category']\n",
    "x_valid_transform = tf_idf_vectorizer.transform(x_test)\n",
    "x_valid_transform.shape\n"
   ]
  },
  {
   "attachments": {},
   "cell_type": "markdown",
   "metadata": {},
   "source": [
    "### Modelling"
   ]
  },
  {
   "cell_type": "code",
   "execution_count": 82,
   "metadata": {},
   "outputs": [],
   "source": [
    "def model_score(test, pred):\n",
    "    print(f'Accuracy Score : {accuracy_score(test, pred)}')\n",
    "    print(f'Accuracy Score : {f1 (test, pred)}')\n",
    "\n"
   ]
  },
  {
   "cell_type": "code",
   "execution_count": 83,
   "metadata": {},
   "outputs": [
    {
     "name": "stdout",
     "output_type": "stream",
     "text": [
      "CPU times: user 1.56 s, sys: 1.37 ms, total: 1.56 s\n",
      "Wall time: 1.58 s\n"
     ]
    },
    {
     "data": {
      "text/html": [
       "<style>#sk-container-id-4 {color: black;background-color: white;}#sk-container-id-4 pre{padding: 0;}#sk-container-id-4 div.sk-toggleable {background-color: white;}#sk-container-id-4 label.sk-toggleable__label {cursor: pointer;display: block;width: 100%;margin-bottom: 0;padding: 0.3em;box-sizing: border-box;text-align: center;}#sk-container-id-4 label.sk-toggleable__label-arrow:before {content: \"▸\";float: left;margin-right: 0.25em;color: #696969;}#sk-container-id-4 label.sk-toggleable__label-arrow:hover:before {color: black;}#sk-container-id-4 div.sk-estimator:hover label.sk-toggleable__label-arrow:before {color: black;}#sk-container-id-4 div.sk-toggleable__content {max-height: 0;max-width: 0;overflow: hidden;text-align: left;background-color: #f0f8ff;}#sk-container-id-4 div.sk-toggleable__content pre {margin: 0.2em;color: black;border-radius: 0.25em;background-color: #f0f8ff;}#sk-container-id-4 input.sk-toggleable__control:checked~div.sk-toggleable__content {max-height: 200px;max-width: 100%;overflow: auto;}#sk-container-id-4 input.sk-toggleable__control:checked~label.sk-toggleable__label-arrow:before {content: \"▾\";}#sk-container-id-4 div.sk-estimator input.sk-toggleable__control:checked~label.sk-toggleable__label {background-color: #d4ebff;}#sk-container-id-4 div.sk-label input.sk-toggleable__control:checked~label.sk-toggleable__label {background-color: #d4ebff;}#sk-container-id-4 input.sk-hidden--visually {border: 0;clip: rect(1px 1px 1px 1px);clip: rect(1px, 1px, 1px, 1px);height: 1px;margin: -1px;overflow: hidden;padding: 0;position: absolute;width: 1px;}#sk-container-id-4 div.sk-estimator {font-family: monospace;background-color: #f0f8ff;border: 1px dotted black;border-radius: 0.25em;box-sizing: border-box;margin-bottom: 0.5em;}#sk-container-id-4 div.sk-estimator:hover {background-color: #d4ebff;}#sk-container-id-4 div.sk-parallel-item::after {content: \"\";width: 100%;border-bottom: 1px solid gray;flex-grow: 1;}#sk-container-id-4 div.sk-label:hover label.sk-toggleable__label {background-color: #d4ebff;}#sk-container-id-4 div.sk-serial::before {content: \"\";position: absolute;border-left: 1px solid gray;box-sizing: border-box;top: 0;bottom: 0;left: 50%;z-index: 0;}#sk-container-id-4 div.sk-serial {display: flex;flex-direction: column;align-items: center;background-color: white;padding-right: 0.2em;padding-left: 0.2em;position: relative;}#sk-container-id-4 div.sk-item {position: relative;z-index: 1;}#sk-container-id-4 div.sk-parallel {display: flex;align-items: stretch;justify-content: center;background-color: white;position: relative;}#sk-container-id-4 div.sk-item::before, #sk-container-id-4 div.sk-parallel-item::before {content: \"\";position: absolute;border-left: 1px solid gray;box-sizing: border-box;top: 0;bottom: 0;left: 50%;z-index: -1;}#sk-container-id-4 div.sk-parallel-item {display: flex;flex-direction: column;z-index: 1;position: relative;background-color: white;}#sk-container-id-4 div.sk-parallel-item:first-child::after {align-self: flex-end;width: 50%;}#sk-container-id-4 div.sk-parallel-item:last-child::after {align-self: flex-start;width: 50%;}#sk-container-id-4 div.sk-parallel-item:only-child::after {width: 0;}#sk-container-id-4 div.sk-dashed-wrapped {border: 1px dashed gray;margin: 0 0.4em 0.5em 0.4em;box-sizing: border-box;padding-bottom: 0.4em;background-color: white;}#sk-container-id-4 div.sk-label label {font-family: monospace;font-weight: bold;display: inline-block;line-height: 1.2em;}#sk-container-id-4 div.sk-label-container {text-align: center;}#sk-container-id-4 div.sk-container {/* jupyter's `normalize.less` sets `[hidden] { display: none; }` but bootstrap.min.css set `[hidden] { display: none !important; }` so we also need the `!important` here to be able to override the default hidden behavior on the sphinx rendered scikit-learn.org. See: https://github.com/scikit-learn/scikit-learn/issues/21755 */display: inline-block !important;position: relative;}#sk-container-id-4 div.sk-text-repr-fallback {display: none;}</style><div id=\"sk-container-id-4\" class=\"sk-top-container\"><div class=\"sk-text-repr-fallback\"><pre>SVC(random_state=10)</pre><b>In a Jupyter environment, please rerun this cell to show the HTML representation or trust the notebook. <br />On GitHub, the HTML representation is unable to render, please try loading this page with nbviewer.org.</b></div><div class=\"sk-container\" hidden><div class=\"sk-item\"><div class=\"sk-estimator sk-toggleable\"><input class=\"sk-toggleable__control sk-hidden--visually\" id=\"sk-estimator-id-4\" type=\"checkbox\" checked><label for=\"sk-estimator-id-4\" class=\"sk-toggleable__label sk-toggleable__label-arrow\">SVC</label><div class=\"sk-toggleable__content\"><pre>SVC(random_state=10)</pre></div></div></div></div></div>"
      ],
      "text/plain": [
       "SVC(random_state=10)"
      ]
     },
     "execution_count": 83,
     "metadata": {},
     "output_type": "execute_result"
    }
   ],
   "source": [
    "from sklearn.svm import SVC\n",
    "baseline_model = SVC(random_state= 10)\n",
    "%time baseline_model.fit(x_train_transform, y_train)\n"
   ]
  },
  {
   "cell_type": "code",
   "execution_count": 84,
   "metadata": {},
   "outputs": [
    {
     "data": {
      "text/plain": [
       "array(['business', 'entertainment', 'business', 'entertainment',\n",
       "       'entertainment'], dtype=object)"
      ]
     },
     "execution_count": 84,
     "metadata": {},
     "output_type": "execute_result"
    }
   ],
   "source": [
    "y_pred = baseline_model.predict(x_valid_transform)\n",
    "y_pred[10:15]"
   ]
  },
  {
   "cell_type": "code",
   "execution_count": 85,
   "metadata": {},
   "outputs": [
    {
     "name": "stdout",
     "output_type": "stream",
     "text": [
      "Accuracy Score : 0.968609865470852\n"
     ]
    }
   ],
   "source": [
    "model_score(y_test, y_pred)"
   ]
  }
 ],
 "metadata": {
  "kernelspec": {
   "display_name": "Python 3",
   "language": "python",
   "name": "python3"
  },
  "language_info": {
   "codemirror_mode": {
    "name": "ipython",
    "version": 3
   },
   "file_extension": ".py",
   "mimetype": "text/x-python",
   "name": "python",
   "nbconvert_exporter": "python",
   "pygments_lexer": "ipython3",
   "version": "3.10.4"
  },
  "orig_nbformat": 4
 },
 "nbformat": 4,
 "nbformat_minor": 2
}
