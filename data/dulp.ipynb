{
 "cells": [
  {
   "cell_type": "code",
   "execution_count": 1,
   "metadata": {},
   "outputs": [
    {
     "name": "stderr",
     "output_type": "stream",
     "text": [
      "[nltk_data] Downloading package stopwords to\n",
      "[nltk_data]     /home/codespace/nltk_data...\n",
      "[nltk_data]   Package stopwords is already up-to-date!\n"
     ]
    }
   ],
   "source": [
    " #Importing Libraries\n",
    "import pandas as pd\n",
    "from sklearn.metrics import accuracy_score\n",
    "from sklearn.metrics import confusion_matrix, ConfusionMatrixDisplay,roc_auc_score, RocCurveDisplay,roc_curve\n",
    "from sklearn.feature_extraction.text import TfidfVectorizer\n",
    "from sklearn.pipeline import Pipeline\n",
    "from sklearn.model_selection import GridSearchCV\n",
    "import matplotlib.pyplot as plt\n",
    "import nltk\n",
    "import string\n",
    "import numpy as np\n",
    "nltk.download('stopwords')\n",
    "from nltk.corpus import stopwords\n",
    "import re\n",
    "import time\n",
    "import copy\n",
    "from sklearn.model_selection import cross_val_score, cross_val_predict\n",
    "from sklearn.preprocessing import LabelEncoder, StandardScaler\n",
    "from sklearn.base import BaseEstimator,TransformerMixin\n",
    "from sklearn.pipeline import FeatureUnion"
   ]
  },
  {
   "cell_type": "code",
   "execution_count": 2,
   "metadata": {},
   "outputs": [],
   "source": [
    "from pathlib import Path\n",
    "train_path = Path('train.csv') \n",
    "test_path = Path('valid.csv')"
   ]
  },
  {
   "cell_type": "code",
   "execution_count": 4,
   "metadata": {},
   "outputs": [
    {
     "data": {
      "text/html": [
       "<div>\n",
       "<style scoped>\n",
       "    .dataframe tbody tr th:only-of-type {\n",
       "        vertical-align: middle;\n",
       "    }\n",
       "\n",
       "    .dataframe tbody tr th {\n",
       "        vertical-align: top;\n",
       "    }\n",
       "\n",
       "    .dataframe thead th {\n",
       "        text-align: right;\n",
       "    }\n",
       "</style>\n",
       "<table border=\"1\" class=\"dataframe\">\n",
       "  <thead>\n",
       "    <tr style=\"text-align: right;\">\n",
       "      <th></th>\n",
       "      <th>ArticleId</th>\n",
       "      <th>Text</th>\n",
       "      <th>Category</th>\n",
       "    </tr>\n",
       "  </thead>\n",
       "  <tbody>\n",
       "    <tr>\n",
       "      <th>0</th>\n",
       "      <td>1155</td>\n",
       "      <td>chancellor rallies labour voters gordon brown ...</td>\n",
       "      <td>politics</td>\n",
       "    </tr>\n",
       "    <tr>\n",
       "      <th>1</th>\n",
       "      <td>1980</td>\n",
       "      <td>india s maruti sees profits jump india s bigge...</td>\n",
       "      <td>business</td>\n",
       "    </tr>\n",
       "    <tr>\n",
       "      <th>2</th>\n",
       "      <td>386</td>\n",
       "      <td>ukip s secret weapon  by any measure  new york...</td>\n",
       "      <td>politics</td>\n",
       "    </tr>\n",
       "    <tr>\n",
       "      <th>3</th>\n",
       "      <td>1436</td>\n",
       "      <td>banker loses sexism claim a former executive a...</td>\n",
       "      <td>business</td>\n",
       "    </tr>\n",
       "    <tr>\n",
       "      <th>4</th>\n",
       "      <td>304</td>\n",
       "      <td>dallaglio eyeing lions tour place former engla...</td>\n",
       "      <td>sport</td>\n",
       "    </tr>\n",
       "  </tbody>\n",
       "</table>\n",
       "</div>"
      ],
      "text/plain": [
       "   ArticleId                                               Text  Category\n",
       "0       1155  chancellor rallies labour voters gordon brown ...  politics\n",
       "1       1980  india s maruti sees profits jump india s bigge...  business\n",
       "2        386  ukip s secret weapon  by any measure  new york...  politics\n",
       "3       1436  banker loses sexism claim a former executive a...  business\n",
       "4        304  dallaglio eyeing lions tour place former engla...     sport"
      ]
     },
     "execution_count": 4,
     "metadata": {},
     "output_type": "execute_result"
    }
   ],
   "source": [
    "train_df = pd.read_csv(train_path)\n",
    "test_df = pd.read_csv(test_path)\n",
    "train_df.head(5)"
   ]
  },
  {
   "cell_type": "code",
   "execution_count": 3,
   "metadata": {},
   "outputs": [
    {
     "data": {
      "text/plain": [
       "(1043, 3)"
      ]
     },
     "execution_count": 3,
     "metadata": {},
     "output_type": "execute_result"
    }
   ],
   "source": [
    "train_df.shape"
   ]
  },
  {
   "cell_type": "code",
   "execution_count": 4,
   "metadata": {},
   "outputs": [
    {
     "name": "stdout",
     "output_type": "stream",
     "text": [
      "<class 'pandas.core.frame.DataFrame'>\n",
      "RangeIndex: 1043 entries, 0 to 1042\n",
      "Data columns (total 3 columns):\n",
      " #   Column     Non-Null Count  Dtype \n",
      "---  ------     --------------  ----- \n",
      " 0   ArticleId  1043 non-null   int64 \n",
      " 1   Text       1043 non-null   object\n",
      " 2   Category   1043 non-null   object\n",
      "dtypes: int64(1), object(2)\n",
      "memory usage: 24.6+ KB\n"
     ]
    }
   ],
   "source": [
    "train_df.info()"
   ]
  },
  {
   "cell_type": "code",
   "execution_count": 6,
   "metadata": {},
   "outputs": [
    {
     "data": {
      "text/plain": [
       "ArticleId    0\n",
       "Text         0\n",
       "Category     0\n",
       "dtype: int64"
      ]
     },
     "execution_count": 6,
     "metadata": {},
     "output_type": "execute_result"
    }
   ],
   "source": [
    "train_df.isnull().sum()"
   ]
  },
  {
   "cell_type": "code",
   "execution_count": 7,
   "metadata": {},
   "outputs": [
    {
     "data": {
      "text/plain": [
       "['politics', 'business', 'sport', 'entertainment', 'tech']"
      ]
     },
     "execution_count": 7,
     "metadata": {},
     "output_type": "execute_result"
    }
   ],
   "source": [
    "target_names = train_df['Category'].unique().tolist()\n",
    "target_names"
   ]
  },
  {
   "cell_type": "code",
   "execution_count": 23,
   "metadata": {},
   "outputs": [
    {
     "name": "stdout",
     "output_type": "stream",
     "text": [
      "chancellor rallies labour voters gordon brown issued rallying cry supporters warning stakes high stay home protest vote next general election chancellor said poll expected fall may would give clear fundamental choice labour investment tory cuts told party spring conference tories must allowed win conservatives lib dems insisted voters faced higher taxes meanstesting labour packed audience gateshead sage centre mr brown accused shadow chancellor oliver letwin plotting cuts equivalent sacking every teacher gp nurse country laying conservative record government said give promise labour britain never return mistakes erm inflation interest rates bn lost reserves repossessed one million negative equity three million unemployed never tory boom bust central dividing line election conservative party taking britain back planning deep cuts bn services labour government taking britain forward platform stability reform renew hospitals schools public services proud say spend bn turning economy chancellor promised continue economic stability growth third term power also pledged continue fight child pensioner poverty promised help get young people property ladder message thousands young couples waiting obtain first home housing rightly centre coming manifesto said next labour government match low mortgage rates new firsttime buyers initiative speech prompted standing ovation also promised end teenage unemployment within next five years also highlighted plans debt relief world poorest countries national minimum wage yearolds creation network children centres flexibility maternity leave responding speech shadow chief secretary treasury george osborne said talk gordon brown heard instead talking future kept talking past completely failed say taxes would put fill black hole spending plans simple choice election value money lower taxes conservatives waste higher taxes tony blair gordon brown liberal democrat shadow chancellor vince cable warned picture rosy mr brown would like portray trumpeting labour management economy gordon brown record mixed said gordon brown created system massive centralisation bureaucracy system subjects millions people means testing system taxation extremely complex positive words gordon brown faced economic problems looming horizon least unprecedented levels personal debt facing nation also gateshead prime minister took questions sent email text message telephone part labour attempt engage public campaign mr blair told audience believed iraq war would made britain safer place emerging democracy succeeded wanted bring troops home soon possible job done also said wanted carry pm still think big changes country needs\n",
      "lib dems new election pr chief lib dems appointed senior figure bt party new communications chief next general election effort sandy walkington work senior figures matthew taylor completing party manifesto party chief executive lord rennard said appointment significant strengthening lib dem team mr walkington said wanted party ready mischief rivals media tried throw role ensure new public profile effectively communicated levels said also know party put scrutiny media parties never need show ready prepared counter mischief misrepresentation often comes party opponents party already demonstrating every issue effective opposition mr walkington new job title director general election communications\n",
      "dublin hitech labs shut dublin hitech research laboratory media labs europe shut research centre started irish government massachusetts institute technology hotbed technology concepts since opening centre developed ideas implants teeth also aimed digital hub startups area centre supposed selffunded failed attract private cash injection needs statement media labs europe said decision close taken neither irish government prestigious usbased massachusetts institute technology mit willing fund prime minister bertie ahern wanted centre become big draw smaller hitech companies attempt regenerate area three dozen small firms attracted area thought effects dotcom recession damaged labs longterm survival labs needed million euros us million year corporate sponsors survive end deep long recession said simon jones labs managing director ian pearson bt futurologist told bbc news website closure real shame bt one companies worked labs looking rfid tag developments video conferencing lot talented creative people came great ideas helping ensure greater benefits technology society doubt individuals quickly snapped research labs synergies working team lost noel dempsey government communications minister said mr ahern committed project know disappointed come time seemed right thing said unfortunately model sustainable one current climate five years innovative unusual ideas technologies developed recent months patent applications filed labs many concepts fed science engineering psychology well technology thought ideas commercially viable nearterm several research teams explored humans could react technologies ways entirely different human connectedness group example developed iband bracelet stored exchanged information relationships information could beamed another wearer two people shook hands projects looked using human senses like touch interact devoices could embedded environment body one project examined brainwaves could directly control computer game labs set old guinness brewery housed around people made staff researchers students collaborators parttime undergraduate students thought people lose jobs labs close february according latest accounts media lab europe said spent million euros us million raised million euros us million\n"
     ]
    }
   ],
   "source": [
    "print(train_df.iloc[0,1])\n",
    "print(train_df.iloc[30,1])\n",
    "print(train_df.iloc[245,1])"
   ]
  },
  {
   "cell_type": "code",
   "execution_count": 8,
   "metadata": {},
   "outputs": [
    {
     "name": "stdout",
     "output_type": "stream",
     "text": [
      "Total no of politics_is 196\n",
      "Total no of business_is 235\n",
      "Total no of sport_is 250\n",
      "Total no of entertainment_is 178\n",
      "Total no of tech_is 184\n"
     ]
    }
   ],
   "source": [
    "counts = train_df['Category'].value_counts()\n",
    "for col in target_names:\n",
    "    col_sum = counts[col]\n",
    "    print(f'Total no of {col}_is {col_sum}')"
   ]
  },
  {
   "attachments": {},
   "cell_type": "markdown",
   "metadata": {},
   "source": [
    "## CLEANING"
   ]
  },
  {
   "cell_type": "code",
   "execution_count": 25,
   "metadata": {},
   "outputs": [],
   "source": [
    "def preprocessor(text):\n",
    "    '''\n",
    "    explain func\n",
    "    '''\n",
    "    text = text.lower() #Lowers  the text\n",
    "    text = re.sub('<[^>]*>', '', text) # removes HTML Markup\n",
    "    text = re.sub(r'[^a-zA-Z\\s]', '', text) # removes special characters and digits\n",
    "    stop_words = set(stopwords.words('english'))\n",
    "    text = [word for word in text.split() if word not in stop_words and word not in string.punctuation] #removes stopwords\n",
    "    text = ' '.join(word for word in text)\n",
    "    return text"
   ]
  },
  {
   "cell_type": "code",
   "execution_count": 24,
   "metadata": {},
   "outputs": [
    {
     "data": {
      "text/plain": [
       "'chancellor rallies labour voters gordon brown issued rallying cry supporters warning stakes high stay home protest vote next general election chancellor said poll expected fall may would give clear fundamental choice labour investment tory cuts told party spring conference tories must allowed win conservatives lib dems insisted voters faced higher taxes meanstesting labour packed audience gateshead sage centre mr brown accused shadow chancellor oliver letwin plotting cuts equivalent sacking every teacher gp nurse country laying conservative record government said give promise labour britain never return mistakes erm inflation interest rates bn lost reserves repossessed one million negative equity three million unemployed never tory boom bust central dividing line election conservative party taking britain back planning deep cuts bn services labour government taking britain forward platform stability reform renew hospitals schools public services proud say spend bn turning economy chancellor promised continue economic stability growth third term power also pledged continue fight child pensioner poverty promised help get young people property ladder message thousands young couples waiting obtain first home housing rightly centre coming manifesto said next labour government match low mortgage rates new firsttime buyers initiative speech prompted standing ovation also promised end teenage unemployment within next five years also highlighted plans debt relief world poorest countries national minimum wage yearolds creation network children centres flexibility maternity leave responding speech shadow chief secretary treasury george osborne said talk gordon brown heard instead talking future kept talking past completely failed say taxes would put fill black hole spending plans simple choice election value money lower taxes conservatives waste higher taxes tony blair gordon brown liberal democrat shadow chancellor vince cable warned picture rosy mr brown would like portray trumpeting labour management economy gordon brown record mixed said gordon brown created system massive centralisation bureaucracy system subjects millions people means testing system taxation extremely complex positive words gordon brown faced economic problems looming horizon least unprecedented levels personal debt facing nation also gateshead prime minister took questions sent email text message telephone part labour attempt engage public campaign mr blair told audience believed iraq war would made britain safer place emerging democracy succeeded wanted bring troops home soon possible job done also said wanted carry pm still think big changes country needs'"
      ]
     },
     "execution_count": 24,
     "metadata": {},
     "output_type": "execute_result"
    }
   ],
   "source": [
    "train_df['Text'] = train_df['Text'].apply(preprocessor)\n",
    "train_df.loc[0,'Text']"
   ]
  },
  {
   "cell_type": "code",
   "execution_count": 29,
   "metadata": {},
   "outputs": [
    {
     "data": {
      "text/plain": [
       "(1043,)"
      ]
     },
     "execution_count": 29,
     "metadata": {},
     "output_type": "execute_result"
    }
   ],
   "source": [
    "x_train = train_df['Text']\n",
    "y_train = train_df['Category']\n",
    "label_encoder = LabelEncoder()\n",
    "y_train_transform = label_encoder.fit_transform(y_train)\n",
    "y_train_transform.shape"
   ]
  },
  {
   "cell_type": "code",
   "execution_count": 12,
   "metadata": {},
   "outputs": [
    {
     "name": "stdout",
     "output_type": "stream",
     "text": [
      "(1043, 3085)\n"
     ]
    },
    {
     "data": {
      "text/html": [
       "<div>\n",
       "<style scoped>\n",
       "    .dataframe tbody tr th:only-of-type {\n",
       "        vertical-align: middle;\n",
       "    }\n",
       "\n",
       "    .dataframe tbody tr th {\n",
       "        vertical-align: top;\n",
       "    }\n",
       "\n",
       "    .dataframe thead th {\n",
       "        text-align: right;\n",
       "    }\n",
       "</style>\n",
       "<table border=\"1\" class=\"dataframe\">\n",
       "  <thead>\n",
       "    <tr style=\"text-align: right;\">\n",
       "      <th></th>\n",
       "      <th>ability</th>\n",
       "      <th>able</th>\n",
       "      <th>abroad</th>\n",
       "      <th>absence</th>\n",
       "      <th>absolutely</th>\n",
       "      <th>abuse</th>\n",
       "      <th>academy</th>\n",
       "      <th>accept</th>\n",
       "      <th>accepted</th>\n",
       "      <th>access</th>\n",
       "      <th>...</th>\n",
       "      <th>years</th>\n",
       "      <th>yen</th>\n",
       "      <th>yes</th>\n",
       "      <th>yet</th>\n",
       "      <th>york</th>\n",
       "      <th>young</th>\n",
       "      <th>younger</th>\n",
       "      <th>yukos</th>\n",
       "      <th>zealand</th>\n",
       "      <th>zero</th>\n",
       "    </tr>\n",
       "  </thead>\n",
       "  <tbody>\n",
       "    <tr>\n",
       "      <th>0</th>\n",
       "      <td>0.0</td>\n",
       "      <td>0.0</td>\n",
       "      <td>0.0</td>\n",
       "      <td>0.0</td>\n",
       "      <td>0.0</td>\n",
       "      <td>0.0</td>\n",
       "      <td>0.0</td>\n",
       "      <td>0.0</td>\n",
       "      <td>0.0</td>\n",
       "      <td>0.0</td>\n",
       "      <td>...</td>\n",
       "      <td>0.023486</td>\n",
       "      <td>0.0</td>\n",
       "      <td>0.0</td>\n",
       "      <td>0.0</td>\n",
       "      <td>0.0</td>\n",
       "      <td>0.07663</td>\n",
       "      <td>0.0</td>\n",
       "      <td>0.0</td>\n",
       "      <td>0.000000</td>\n",
       "      <td>0.0</td>\n",
       "    </tr>\n",
       "    <tr>\n",
       "      <th>1</th>\n",
       "      <td>0.0</td>\n",
       "      <td>0.0</td>\n",
       "      <td>0.0</td>\n",
       "      <td>0.0</td>\n",
       "      <td>0.0</td>\n",
       "      <td>0.0</td>\n",
       "      <td>0.0</td>\n",
       "      <td>0.0</td>\n",
       "      <td>0.0</td>\n",
       "      <td>0.0</td>\n",
       "      <td>...</td>\n",
       "      <td>0.000000</td>\n",
       "      <td>0.0</td>\n",
       "      <td>0.0</td>\n",
       "      <td>0.0</td>\n",
       "      <td>0.0</td>\n",
       "      <td>0.00000</td>\n",
       "      <td>0.0</td>\n",
       "      <td>0.0</td>\n",
       "      <td>0.000000</td>\n",
       "      <td>0.0</td>\n",
       "    </tr>\n",
       "    <tr>\n",
       "      <th>2</th>\n",
       "      <td>0.0</td>\n",
       "      <td>0.0</td>\n",
       "      <td>0.0</td>\n",
       "      <td>0.0</td>\n",
       "      <td>0.0</td>\n",
       "      <td>0.0</td>\n",
       "      <td>0.0</td>\n",
       "      <td>0.0</td>\n",
       "      <td>0.0</td>\n",
       "      <td>0.0</td>\n",
       "      <td>...</td>\n",
       "      <td>0.000000</td>\n",
       "      <td>0.0</td>\n",
       "      <td>0.0</td>\n",
       "      <td>0.0</td>\n",
       "      <td>0.0</td>\n",
       "      <td>0.00000</td>\n",
       "      <td>0.0</td>\n",
       "      <td>0.0</td>\n",
       "      <td>0.000000</td>\n",
       "      <td>0.0</td>\n",
       "    </tr>\n",
       "    <tr>\n",
       "      <th>3</th>\n",
       "      <td>0.0</td>\n",
       "      <td>0.0</td>\n",
       "      <td>0.0</td>\n",
       "      <td>0.0</td>\n",
       "      <td>0.0</td>\n",
       "      <td>0.0</td>\n",
       "      <td>0.0</td>\n",
       "      <td>0.0</td>\n",
       "      <td>0.0</td>\n",
       "      <td>0.0</td>\n",
       "      <td>...</td>\n",
       "      <td>0.035921</td>\n",
       "      <td>0.0</td>\n",
       "      <td>0.0</td>\n",
       "      <td>0.0</td>\n",
       "      <td>0.0</td>\n",
       "      <td>0.00000</td>\n",
       "      <td>0.0</td>\n",
       "      <td>0.0</td>\n",
       "      <td>0.000000</td>\n",
       "      <td>0.0</td>\n",
       "    </tr>\n",
       "    <tr>\n",
       "      <th>4</th>\n",
       "      <td>0.0</td>\n",
       "      <td>0.0</td>\n",
       "      <td>0.0</td>\n",
       "      <td>0.0</td>\n",
       "      <td>0.0</td>\n",
       "      <td>0.0</td>\n",
       "      <td>0.0</td>\n",
       "      <td>0.0</td>\n",
       "      <td>0.0</td>\n",
       "      <td>0.0</td>\n",
       "      <td>...</td>\n",
       "      <td>0.047386</td>\n",
       "      <td>0.0</td>\n",
       "      <td>0.0</td>\n",
       "      <td>0.0</td>\n",
       "      <td>0.0</td>\n",
       "      <td>0.00000</td>\n",
       "      <td>0.0</td>\n",
       "      <td>0.0</td>\n",
       "      <td>0.105149</td>\n",
       "      <td>0.0</td>\n",
       "    </tr>\n",
       "  </tbody>\n",
       "</table>\n",
       "<p>5 rows × 3085 columns</p>\n",
       "</div>"
      ],
      "text/plain": [
       "   ability  able  abroad  absence  absolutely  abuse  academy  accept  \\\n",
       "0      0.0   0.0     0.0      0.0         0.0    0.0      0.0     0.0   \n",
       "1      0.0   0.0     0.0      0.0         0.0    0.0      0.0     0.0   \n",
       "2      0.0   0.0     0.0      0.0         0.0    0.0      0.0     0.0   \n",
       "3      0.0   0.0     0.0      0.0         0.0    0.0      0.0     0.0   \n",
       "4      0.0   0.0     0.0      0.0         0.0    0.0      0.0     0.0   \n",
       "\n",
       "   accepted  access  ...     years  yen  yes  yet  york    young  younger  \\\n",
       "0       0.0     0.0  ...  0.023486  0.0  0.0  0.0   0.0  0.07663      0.0   \n",
       "1       0.0     0.0  ...  0.000000  0.0  0.0  0.0   0.0  0.00000      0.0   \n",
       "2       0.0     0.0  ...  0.000000  0.0  0.0  0.0   0.0  0.00000      0.0   \n",
       "3       0.0     0.0  ...  0.035921  0.0  0.0  0.0   0.0  0.00000      0.0   \n",
       "4       0.0     0.0  ...  0.047386  0.0  0.0  0.0   0.0  0.00000      0.0   \n",
       "\n",
       "   yukos   zealand  zero  \n",
       "0    0.0  0.000000   0.0  \n",
       "1    0.0  0.000000   0.0  \n",
       "2    0.0  0.000000   0.0  \n",
       "3    0.0  0.000000   0.0  \n",
       "4    0.0  0.105149   0.0  \n",
       "\n",
       "[5 rows x 3085 columns]"
      ]
     },
     "execution_count": 12,
     "metadata": {},
     "output_type": "execute_result"
    }
   ],
   "source": [
    "tf_idf_vectorizer = TfidfVectorizer(max_df= 0.8, min_df= 10)\n",
    "x_train_transform = tf_idf_vectorizer.fit_transform(x_train)\n",
    "print(x_train_transform.shape)\n",
    "tfidf_dataframe = pd.DataFrame(x_train_transform.toarray(), columns=tf_idf_vectorizer.get_feature_names_out())\n",
    "tfidf_dataframe.head()"
   ]
  },
  {
   "attachments": {},
   "cell_type": "markdown",
   "metadata": {},
   "source": [
    "### Modelling"
   ]
  },
  {
   "cell_type": "code",
   "execution_count": null,
   "metadata": {},
   "outputs": [],
   "source": [
    "\n",
    "pipe = Pipeline()"
   ]
  },
  {
   "cell_type": "code",
   "execution_count": 14,
   "metadata": {},
   "outputs": [
    {
     "name": "stdout",
     "output_type": "stream",
     "text": [
      "CPU times: user 7.78 s, sys: 23.2 ms, total: 7.8 s\n",
      "Wall time: 8.01 s\n"
     ]
    },
    {
     "data": {
      "text/html": [
       "<style>#sk-container-id-1 {color: black;background-color: white;}#sk-container-id-1 pre{padding: 0;}#sk-container-id-1 div.sk-toggleable {background-color: white;}#sk-container-id-1 label.sk-toggleable__label {cursor: pointer;display: block;width: 100%;margin-bottom: 0;padding: 0.3em;box-sizing: border-box;text-align: center;}#sk-container-id-1 label.sk-toggleable__label-arrow:before {content: \"▸\";float: left;margin-right: 0.25em;color: #696969;}#sk-container-id-1 label.sk-toggleable__label-arrow:hover:before {color: black;}#sk-container-id-1 div.sk-estimator:hover label.sk-toggleable__label-arrow:before {color: black;}#sk-container-id-1 div.sk-toggleable__content {max-height: 0;max-width: 0;overflow: hidden;text-align: left;background-color: #f0f8ff;}#sk-container-id-1 div.sk-toggleable__content pre {margin: 0.2em;color: black;border-radius: 0.25em;background-color: #f0f8ff;}#sk-container-id-1 input.sk-toggleable__control:checked~div.sk-toggleable__content {max-height: 200px;max-width: 100%;overflow: auto;}#sk-container-id-1 input.sk-toggleable__control:checked~label.sk-toggleable__label-arrow:before {content: \"▾\";}#sk-container-id-1 div.sk-estimator input.sk-toggleable__control:checked~label.sk-toggleable__label {background-color: #d4ebff;}#sk-container-id-1 div.sk-label input.sk-toggleable__control:checked~label.sk-toggleable__label {background-color: #d4ebff;}#sk-container-id-1 input.sk-hidden--visually {border: 0;clip: rect(1px 1px 1px 1px);clip: rect(1px, 1px, 1px, 1px);height: 1px;margin: -1px;overflow: hidden;padding: 0;position: absolute;width: 1px;}#sk-container-id-1 div.sk-estimator {font-family: monospace;background-color: #f0f8ff;border: 1px dotted black;border-radius: 0.25em;box-sizing: border-box;margin-bottom: 0.5em;}#sk-container-id-1 div.sk-estimator:hover {background-color: #d4ebff;}#sk-container-id-1 div.sk-parallel-item::after {content: \"\";width: 100%;border-bottom: 1px solid gray;flex-grow: 1;}#sk-container-id-1 div.sk-label:hover label.sk-toggleable__label {background-color: #d4ebff;}#sk-container-id-1 div.sk-serial::before {content: \"\";position: absolute;border-left: 1px solid gray;box-sizing: border-box;top: 0;bottom: 0;left: 50%;z-index: 0;}#sk-container-id-1 div.sk-serial {display: flex;flex-direction: column;align-items: center;background-color: white;padding-right: 0.2em;padding-left: 0.2em;position: relative;}#sk-container-id-1 div.sk-item {position: relative;z-index: 1;}#sk-container-id-1 div.sk-parallel {display: flex;align-items: stretch;justify-content: center;background-color: white;position: relative;}#sk-container-id-1 div.sk-item::before, #sk-container-id-1 div.sk-parallel-item::before {content: \"\";position: absolute;border-left: 1px solid gray;box-sizing: border-box;top: 0;bottom: 0;left: 50%;z-index: -1;}#sk-container-id-1 div.sk-parallel-item {display: flex;flex-direction: column;z-index: 1;position: relative;background-color: white;}#sk-container-id-1 div.sk-parallel-item:first-child::after {align-self: flex-end;width: 50%;}#sk-container-id-1 div.sk-parallel-item:last-child::after {align-self: flex-start;width: 50%;}#sk-container-id-1 div.sk-parallel-item:only-child::after {width: 0;}#sk-container-id-1 div.sk-dashed-wrapped {border: 1px dashed gray;margin: 0 0.4em 0.5em 0.4em;box-sizing: border-box;padding-bottom: 0.4em;background-color: white;}#sk-container-id-1 div.sk-label label {font-family: monospace;font-weight: bold;display: inline-block;line-height: 1.2em;}#sk-container-id-1 div.sk-label-container {text-align: center;}#sk-container-id-1 div.sk-container {/* jupyter's `normalize.less` sets `[hidden] { display: none; }` but bootstrap.min.css set `[hidden] { display: none !important; }` so we also need the `!important` here to be able to override the default hidden behavior on the sphinx rendered scikit-learn.org. See: https://github.com/scikit-learn/scikit-learn/issues/21755 */display: inline-block !important;position: relative;}#sk-container-id-1 div.sk-text-repr-fallback {display: none;}</style><div id=\"sk-container-id-1\" class=\"sk-top-container\"><div class=\"sk-text-repr-fallback\"><pre>SVC(probability=True, random_state=10)</pre><b>In a Jupyter environment, please rerun this cell to show the HTML representation or trust the notebook. <br />On GitHub, the HTML representation is unable to render, please try loading this page with nbviewer.org.</b></div><div class=\"sk-container\" hidden><div class=\"sk-item\"><div class=\"sk-estimator sk-toggleable\"><input class=\"sk-toggleable__control sk-hidden--visually\" id=\"sk-estimator-id-1\" type=\"checkbox\" checked><label for=\"sk-estimator-id-1\" class=\"sk-toggleable__label sk-toggleable__label-arrow\">SVC</label><div class=\"sk-toggleable__content\"><pre>SVC(probability=True, random_state=10)</pre></div></div></div></div></div>"
      ],
      "text/plain": [
       "SVC(probability=True, random_state=10)"
      ]
     },
     "execution_count": 14,
     "metadata": {},
     "output_type": "execute_result"
    }
   ],
   "source": [
    "from sklearn.svm import SVC\n",
    "base_svm_model = SVC(random_state= 10, probability= True)\n",
    "%time base_svm_model.fit(x_train_transform, y_train)"
   ]
  },
  {
   "cell_type": "code",
   "execution_count": 15,
   "metadata": {},
   "outputs": [],
   "source": [
    "y_pred = base_svm_model.predict(x_valid_transform)\n",
    "y_pred_prob = base_svm_model.predict_proba(x_valid_transform)"
   ]
  },
  {
   "cell_type": "code",
   "execution_count": 16,
   "metadata": {},
   "outputs": [
    {
     "name": "stdout",
     "output_type": "stream",
     "text": [
      "223\n",
      "tech\n",
      "['business' 'entertainment' 'politics' 'sport' 'tech']\n"
     ]
    }
   ],
   "source": [
    "print(len(y_pred_prob[:,4]))\n",
    "print(y_pred[0])\n",
    "print(base_svm_model.classes_)"
   ]
  },
  {
   "cell_type": "code",
   "execution_count": 17,
   "metadata": {},
   "outputs": [],
   "source": [
    "def model_score(test, pred, y_pred_prob, classes = None):\n",
    "    print(f'Accuracy Score : {accuracy_score(test, pred)}')\n",
    "    #auc score \n",
    "    print(f'AUC Score : {roc_auc_score(y_test, y_pred_prob, multi_class=\"ovr\")}')\n",
    "    cm = confusion_matrix(y_test, y_pred, labels= classes)\n",
    "    disp = ConfusionMatrixDisplay(confusion_matrix= cm , display_labels= classes)\n",
    "    fig , ax = plt.subplots(figsize=(10,10))\n",
    "    disp.plot(ax=ax, xticks_rotation= 'vertical')\n",
    "    plt.show()\n"
   ]
  },
  {
   "cell_type": "code",
   "execution_count": 18,
   "metadata": {},
   "outputs": [
    {
     "name": "stdout",
     "output_type": "stream",
     "text": [
      "Accuracy Score : 0.968609865470852\n",
      "AUC Score : 0.9988441198613323\n"
     ]
    },
    {
     "data": {
      "image/png": "[encoded data removed]",
      "text/plain": [
       "<Figure size 1000x1000 with 2 Axes>"
      ]
     },
     "metadata": {},
     "output_type": "display_data"
    }
   ],
   "source": [
    "model_score(y_test,y_pred,y_pred_prob, classes= base_svm_model.classes_)\n"
   ]
  },
  {
   "cell_type": "code",
   "execution_count": 19,
   "metadata": {},
   "outputs": [
    {
     "name": "stderr",
     "output_type": "stream",
     "text": [
      "/home/codespace/.python/current/lib/python3.10/site-packages/yellowbrick/classifier/base.py:232: YellowbrickWarning: could not determine class_counts_ from previously fitted classifier\n",
      "  warnings.warn(\n"
     ]
    },
    {
     "ename": "YellowbrickAttributeError",
     "evalue": "neither visualizer 'ROCAUC' nor wrapped estimator 'SVC' have attribute 'target_type_'",
     "output_type": "error",
     "traceback": [
      "\u001b[0;31m---------------------------------------------------------------------------\u001b[0m",
      "\u001b[0;31mAttributeError\u001b[0m                            Traceback (most recent call last)",
      "File \u001b[0;32m~/.python/current/lib/python3.10/site-packages/yellowbrick/utils/wrapper.py:48\u001b[0m, in \u001b[0;36mWrapper.__getattr__\u001b[0;34m(self, attr)\u001b[0m\n\u001b[1;32m     47\u001b[0m \u001b[39mtry\u001b[39;00m:\n\u001b[0;32m---> 48\u001b[0m     \u001b[39mreturn\u001b[39;00m \u001b[39mgetattr\u001b[39;49m(\u001b[39mself\u001b[39;49m\u001b[39m.\u001b[39;49m_wrapped, attr)\n\u001b[1;32m     49\u001b[0m \u001b[39mexcept\u001b[39;00m \u001b[39mAttributeError\u001b[39;00m \u001b[39mas\u001b[39;00m e:\n",
      "\u001b[0;31mAttributeError\u001b[0m: 'SVC' object has no attribute 'target_type_'",
      "\nThe above exception was the direct cause of the following exception:\n",
      "\u001b[0;31mYellowbrickAttributeError\u001b[0m                 Traceback (most recent call last)",
      "Cell \u001b[0;32mIn[19], line 6\u001b[0m\n\u001b[1;32m      3\u001b[0m \u001b[39m#Label_encoder = LabelEncoder()\u001b[39;00m\n\u001b[1;32m      4\u001b[0m \u001b[39m#y_test_encoded = Label_encoder.fit_transform(y_test)\u001b[39;00m\n\u001b[1;32m      5\u001b[0m visualizer \u001b[39m=\u001b[39m ROCAUC(base_svm_model, classes\u001b[39m=\u001b[39m base_svm_model\u001b[39m.\u001b[39mclasses_, is_fitted\u001b[39m=\u001b[39m \u001b[39mTrue\u001b[39;00m)\n\u001b[0;32m----> 6\u001b[0m visualizer\u001b[39m.\u001b[39;49mscore(x_valid_transform, y_test)\n\u001b[1;32m      7\u001b[0m visualizer\u001b[39m.\u001b[39mshow()\n",
      "File \u001b[0;32m~/.python/current/lib/python3.10/site-packages/yellowbrick/classifier/rocauc.py:269\u001b[0m, in \u001b[0;36mROCAUC.score\u001b[0;34m(self, X, y)\u001b[0m\n\u001b[1;32m    266\u001b[0m \u001b[39m# Compute the predictions for the test data\u001b[39;00m\n\u001b[1;32m    267\u001b[0m y_pred \u001b[39m=\u001b[39m \u001b[39mself\u001b[39m\u001b[39m.\u001b[39m_get_y_scores(X)\n\u001b[0;32m--> 269\u001b[0m \u001b[39mif\u001b[39;00m \u001b[39mself\u001b[39;49m\u001b[39m.\u001b[39;49mtarget_type_ \u001b[39m==\u001b[39m BINARY:\n\u001b[1;32m    270\u001b[0m     \u001b[39m# For binary, per_class must be True to draw micro/macro curves\u001b[39;00m\n\u001b[1;32m    271\u001b[0m     \u001b[39mif\u001b[39;00m (\u001b[39mself\u001b[39m\u001b[39m.\u001b[39mmicro \u001b[39mor\u001b[39;00m \u001b[39mself\u001b[39m\u001b[39m.\u001b[39mmacro) \u001b[39mand\u001b[39;00m \u001b[39mnot\u001b[39;00m \u001b[39mself\u001b[39m\u001b[39m.\u001b[39mper_class:\n\u001b[1;32m    272\u001b[0m         \u001b[39mraise\u001b[39;00m ModelError(\n\u001b[1;32m    273\u001b[0m             \u001b[39m\"\u001b[39m\u001b[39mno curves will be drawn; \u001b[39m\u001b[39m\"\u001b[39m,\n\u001b[1;32m    274\u001b[0m             \u001b[39m\"\u001b[39m\u001b[39mset per_class=True or micro=False and macro=False.\u001b[39m\u001b[39m\"\u001b[39m,\n\u001b[1;32m    275\u001b[0m         )\n",
      "File \u001b[0;32m~/.python/current/lib/python3.10/site-packages/yellowbrick/utils/wrapper.py:50\u001b[0m, in \u001b[0;36mWrapper.__getattr__\u001b[0;34m(self, attr)\u001b[0m\n\u001b[1;32m     48\u001b[0m     \u001b[39mreturn\u001b[39;00m \u001b[39mgetattr\u001b[39m(\u001b[39mself\u001b[39m\u001b[39m.\u001b[39m_wrapped, attr)\n\u001b[1;32m     49\u001b[0m \u001b[39mexcept\u001b[39;00m \u001b[39mAttributeError\u001b[39;00m \u001b[39mas\u001b[39;00m e:\n\u001b[0;32m---> 50\u001b[0m     \u001b[39mraise\u001b[39;00m YellowbrickAttributeError(\u001b[39mf\u001b[39m\u001b[39m\"\u001b[39m\u001b[39mneither visualizer \u001b[39m\u001b[39m'\u001b[39m\u001b[39m{\u001b[39;00m\u001b[39mself\u001b[39m\u001b[39m.\u001b[39m\u001b[39m__class__\u001b[39m\u001b[39m.\u001b[39m\u001b[39m__name__\u001b[39m\u001b[39m}\u001b[39;00m\u001b[39m'\u001b[39m\u001b[39m nor wrapped estimator \u001b[39m\u001b[39m'\u001b[39m\u001b[39m{\u001b[39;00m\u001b[39mtype\u001b[39m(\u001b[39mself\u001b[39m\u001b[39m.\u001b[39m_wrapped)\u001b[39m.\u001b[39m\u001b[39m__name__\u001b[39m\u001b[39m}\u001b[39;00m\u001b[39m'\u001b[39m\u001b[39m have attribute \u001b[39m\u001b[39m'\u001b[39m\u001b[39m{\u001b[39;00mattr\u001b[39m}\u001b[39;00m\u001b[39m'\u001b[39m\u001b[39m\"\u001b[39m) \u001b[39mfrom\u001b[39;00m \u001b[39me\u001b[39;00m\n",
      "\u001b[0;31mYellowbrickAttributeError\u001b[0m: neither visualizer 'ROCAUC' nor wrapped estimator 'SVC' have attribute 'target_type_'"
     ]
    }
   ],
   "source": [
    "from yellowbrick.classifier import ROCAUC\n",
    "from sklearn.preprocessing import LabelEncoder\n",
    "#Label_encoder = LabelEncoder()\n",
    "#y_test_encoded = Label_encoder.fit_transform(y_test)\n",
    "visualizer = ROCAUC(base_svm_model, classes= base_svm_model.classes_, is_fitted= True)\n",
    "visualizer.score(x_valid_transform, y_test)\n",
    "visualizer.show()"
   ]
  },
  {
   "cell_type": "code",
   "execution_count": null,
   "metadata": {},
   "outputs": [],
   "source": [
    "from sklearn.linear_model import RidgeClassifier\n",
    "from sklearn.svm import SVC\n",
    "from sklearn.model_selection import train_test_split\n",
    "from sklearn.preprocessing import OrdinalEncoder, LabelEncoder\n",
    "from yellowbrick.classifier import ROCAUC\n",
    "from yellowbrick.datasets import load_game\n",
    "\n",
    "X, y =load_game()\n",
    "X =  OrdinalEncoder().fit_transform(X)\n",
    "y = LabelEncoder().fit_transform(y)\n",
    "X_TRAIN, X_TEST, Y_TRAIN, Y_TEST = train_test_split(X,y, random_state= 42)\n",
    "Rmodel = RidgeClassifier()\n",
    "Smodel = SVC(random_state= 42)\n",
    "viz = ROCAUC(Smodel, classes= [\"win\", \"loss\", \"draw\"])\n",
    "viz.fit(X_TRAIN,Y_TRAIN)\n",
    "viz.score(X_TEST,Y_TEST)\n",
    "viz.show()"
   ]
  },
  {
   "attachments": {},
   "cell_type": "markdown",
   "metadata": {},
   "source": [
    "# FINAL TEST"
   ]
  },
  {
   "cell_type": "code",
   "execution_count": null,
   "metadata": {},
   "outputs": [],
   "source": [
    "def makecsv(id_test, test_y_pred):\n",
    "    #change the ans label\n",
    "    #test_y_pred = number_to_label(test_y_pred)\n",
    "    submission = {'ArticleId': id_test, 'Category': test_y_pred}\n",
    "    submission = pd.DataFrame(submission)\n",
    "    submission.to_csv('./submission.csv', index=0, header=1)"
   ]
  },
  {
   "cell_type": "code",
   "execution_count": null,
   "metadata": {},
   "outputs": [
    {
     "name": "stdout",
     "output_type": "stream",
     "text": [
      "(224, 3085)\n"
     ]
    }
   ],
   "source": [
    "final_test_df = pd.read_csv('/workspaces/codespaces-blank/news_classification/data/test.csv')\n",
    "final_test_df['Text'] = final_test_df['Text'].apply(preprocessor)\n",
    "final_y = tf_idf_vectorizer.transform(final_test_df['Text'])\n",
    "print(final_y.shape)\n",
    "final_y_pred = base_svm_model.predict(final_y)\n",
    "makecsv(final_test_df['ArticleId'], final_y_pred)"
   ]
  }
 ],
 "metadata": {
  "kernelspec": {
   "display_name": "Python 3",
   "language": "python",
   "name": "python3"
  },
  "language_info": {
   "codemirror_mode": {
    "name": "ipython",
    "version": 3
   },
   "file_extension": ".py",
   "mimetype": "text/x-python",
   "name": "python",
   "nbconvert_exporter": "python",
   "pygments_lexer": "ipython3",
   "version": "3.10.4"
  },
  "orig_nbformat": 4
 },
 "nbformat": 4,
 "nbformat_minor": 2
}
